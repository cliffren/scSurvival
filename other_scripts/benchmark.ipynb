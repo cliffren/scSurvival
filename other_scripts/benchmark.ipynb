{
 "cells": [
  {
   "cell_type": "code",
   "execution_count": 1,
   "id": "93a36083",
   "metadata": {},
   "outputs": [
    {
     "name": "stdout",
     "output_type": "stream",
     "text": [
      "\n",
      "    WARNING: The R package \"reticulate\" only fixed recently\n",
      "    an issue that caused a segfault when used with rpy2:\n",
      "    https://github.com/rstudio/reticulate/pull/1188\n",
      "    Make sure that you use a version of that package that includes\n",
      "    the fix.\n",
      "    "
     ]
    }
   ],
   "source": [
    "# %%\n",
    "import os\n",
    "os.environ[\"RPY2_CFFI_MODE\"] = \"ABI\"\n",
    "import rpy2.robjects as ro\n",
    "import rpy2.robjects as ro\n",
    "from rpy2.robjects import pandas2ri\n",
    "from rpy2.robjects.conversion import localconverter\n",
    "from rpy2.rinterface_lib.callbacks import logger as rpy2_logger\n",
    "rpy2_logger.setLevel(\"ERROR\")   # 只显示错误，屏蔽 message 和 warning\n",
    "rpy2_logger.propagate = False   # 阻止继续传给 root logger\n",
    "\n",
    "import sys\n",
    "sys.path.append(\"../../\")\n",
    "\n",
    "# from scSurvival.scsurvival import scSurvival, scSurvivalRun, PredictIndSample\n",
    "from scSurvival_beta import scSurvivalRun, PredictIndSample\n",
    "import torch\n",
    "import seaborn as sns\n",
    "import matplotlib.pyplot as plt\n",
    "import numpy as np\n",
    "import pandas as pd\n",
    "\n",
    "import os \n",
    "os.environ['KMP_DUPLICATE_LIB_OK']='True'\n",
    "\n",
    "from tqdm import tqdm, trange\n",
    "import scanpy as sc\n",
    "from sklearn.preprocessing import StandardScaler\n",
    "from sklearn.decomposition import PCA, NMF\n",
    "from sklearn.cluster import KMeans\n",
    "\n",
    "from sklearn.metrics import classification_report\n",
    "from sklearn.model_selection import KFold\n",
    "import io\n",
    "import contextlib\n",
    "f = io.StringIO()\n",
    "from lifelines.utils import concordance_index\n",
    "from scipy.stats import percentileofscore\n",
    "from utils import *\n",
    "import importlib\n",
    "\n",
    "from trainditional_cox_cv import nested_cv_coxnet, cv_rsf\n",
    "from sksurv.util import Surv\n",
    "from utils import Logger\n",
    "from itertools import product\n",
    "# %%\n",
    "\n",
    "def load_r_packages():\n",
    "    ro.r('''  \n",
    "    rm(list=ls())\n",
    "    # library(\"scater\")\n",
    "    library(\"splatter\")\n",
    "    library(scran)\n",
    "    library(Seurat)\n",
    "    # library(preprocessCore)\n",
    "    library(pROC)\n",
    "    # library(APML2)\n",
    "    # library(APML1)\n",
    "    # library(APML0)\n",
    "\n",
    "    library(ggplot2)\n",
    "    library(dplyr)\n",
    "    library(caret)\n",
    "    set.seed(1)\n",
    "    ''')\n",
    "\n",
    "\n",
    "ro.r('.libPaths()')\n",
    "load_r_packages()\n"
   ]
  },
  {
   "cell_type": "code",
   "execution_count": 2,
   "id": "2424ff80",
   "metadata": {},
   "outputs": [],
   "source": [
    "def detect_subpopulations(adata, surv, adata_new,   \n",
    "                          entropy_threshold=0.7, \n",
    "                          num_heads=8,\n",
    "                          feature_flavor='AE', \n",
    "                          feature_key=None, \n",
    "                          batch_key=None, \n",
    "                          use_covariates=False\n",
    "                          ):\n",
    "    \n",
    "    adata = adata.copy()\n",
    "    if use_covariates:\n",
    "        covariates = surv[['group']].copy()\n",
    "        surv = surv[['time', 'status']].copy()\n",
    "    else:\n",
    "        covariates = None\n",
    "\n",
    "    if feature_key == 'X_nmf':\n",
    "        assert feature_flavor == 'Custom'\n",
    "        print('NMF feature extraction...')\n",
    "        nmf = NMF(n_components=50, init='nndsvd', random_state=42, max_iter=500)\n",
    "        adata.obsm[feature_key] = nmf.fit_transform(adata.X)\n",
    "        adata_new.obsm[feature_key] = nmf.transform(adata_new[:, adata.var_names].X)\n",
    "    elif feature_key == 'X_scaled':\n",
    "        assert feature_flavor == 'Custom'\n",
    "        print('Standard scaling feature extraction...')\n",
    "        scaler = StandardScaler()\n",
    "        adata.obsm[feature_key] = scaler.fit_transform(adata.X)\n",
    "        adata_new.obsm[feature_key] = scaler.transform(adata_new[:, adata.var_names].X)\n",
    "    else:\n",
    "        assert feature_key is None\n",
    "\n",
    "    adata, surv, model = scSurvivalRun(adata, \n",
    "        sample_column='sample',\n",
    "        surv=surv,\n",
    "        batch_key=batch_key,\n",
    "        covariates=covariates,\n",
    "        feature_flavor=feature_flavor,\n",
    "        feature_key=feature_key,\n",
    "        entropy_threshold=entropy_threshold,\n",
    "        num_heads=num_heads,\n",
    "        lambdas=(0.01, 1.0),\n",
    "        pretrain_epochs=200,\n",
    "        epochs=500,\n",
    "        weight_decay=0.01,\n",
    "        lr=0.001,\n",
    "        patience=100,\n",
    "        rec_likelihood='ZIG',\n",
    "        do_scale_ae=False,\n",
    "        beta=0.1, tau=0.2, \n",
    "        sample_size_ae=None,\n",
    "        finetue_lr_factor=0.1,\n",
    "        gene_weight_alpha=0.2,\n",
    "        gamma_beta_weight=(0.1, 0.0),\n",
    "        once_load_to_gpu=True,\n",
    "        use_amp=False,\n",
    "        fitnetune_strategy='alternating', # jointly, alternating, alternating_lightly,\n",
    "        )\n",
    "\n",
    "    data = adata.obs['attention'].values.reshape(-1, 1)\n",
    "    kmeans = KMeans(n_clusters=2, random_state=42)\n",
    "    kmeans.fit(data)\n",
    "    cluster_centers = kmeans.cluster_centers_\n",
    "    atten_thr = cluster_centers.flatten().mean()\n",
    "    \n",
    "    adata_new, _ = PredictIndSample(adata_new, adata, model)\n",
    "\n",
    "    attention = adata_new.obs['attention'].values\n",
    "    hazard_adj = adata_new.obs['hazard_adj'].values\n",
    "    hazard = adata_new.obs['hazard'].values\n",
    "\n",
    "    risk_group = np.array(['inattentive'] * attention.shape[0], dtype=object)\n",
    "    risk_group[np.logical_and(attention >= atten_thr, hazard_adj > 0)] = 'higher'\n",
    "    risk_group[np.logical_and(attention >= atten_thr, hazard_adj <= 0)] = 'lower'\n",
    "\n",
    "    # higher -> bad.survival, lower -> good.survival, inattentive -> other \n",
    "\n",
    "    risk_group_recoded = np.array(['other'] * attention.shape[0], dtype=object)\n",
    "    risk_group_recoded[risk_group == 'higher'] = 'bad.survival'\n",
    "    risk_group_recoded[risk_group == 'lower'] = 'good.survival'\n",
    "\n",
    "    clf_report = classification_report(adata_new.obs['sim_group'].values, risk_group_recoded, output_dict=True, zero_division=0)\n",
    "\n",
    "    clf_report_df = pd.DataFrame(clf_report).T\n",
    "    return clf_report_df, adata_new\n",
    "\n",
    "def cross_validation_samples(adata, surv, \n",
    "                             entropy_threshold=0.7,\n",
    "                             num_heads=8, \n",
    "                             feature_flavor='AE', \n",
    "                             feature_key=None, \n",
    "                             batch_key=None, \n",
    "                             use_covariates=False):\n",
    "    # 交叉验证样本\n",
    "    adata = adata.raw.to_adata()\n",
    "    adata.obs['patient_no'] = adata.obs['sample']\n",
    "    patients = adata.obs['patient_no'].unique()\n",
    "\n",
    "    # K fold cross validation\n",
    "    cv_hazards_adj_cells = np.zeros((adata.shape[0], ))\n",
    "    surv['cv_hazards_adj_patient'] = 0.0\n",
    "    surv['cv_hazard_percentile_patient'] = 0.0\n",
    "    cindexs = []\n",
    "    surv_test_all_folds = []\n",
    "\n",
    "    kf = KFold(n_splits=5, shuffle=True, random_state=42)\n",
    "    for i, (train_index, test_index) in enumerate(kf.split(patients)):\n",
    "\n",
    "        print(f'fold {i}, train_size: {train_index.shape[0]}, test_size: {test_index.shape[0]}')\n",
    "        train_patients = patients[train_index]\n",
    "        test_patients = patients[test_index]\n",
    "\n",
    "        # train\n",
    "        adata_train = adata[adata.obs['patient_no'].isin(train_patients), :].copy()\n",
    "    \n",
    "        ## select HVGs on training set only\n",
    "        sc.pp.highly_variable_genes(adata_train, n_top_genes=2000, subset=False, flavor='seurat')\n",
    "        hvgs = adata_train.var[adata_train.var['highly_variable']].index.tolist() \n",
    "        adata_train = adata_train[:, hvgs]\n",
    "\n",
    "        adata_test = adata[adata.obs['patient_no'].isin(test_patients), :].copy()\n",
    "        adata_test = adata_test[:, hvgs]\n",
    "\n",
    "        if feature_key == 'X_nmf':\n",
    "            assert feature_flavor == 'Custom'\n",
    "            print('NMF feature extraction...')\n",
    "            nmf = NMF(n_components=50, init='nndsvd', random_state=42, max_iter=500)\n",
    "            adata_train.obsm[feature_key] = nmf.fit_transform(adata_train.X)\n",
    "            adata_test.obsm[feature_key] = nmf.transform(adata_test.X)\n",
    "        elif feature_key == 'X_scaled':\n",
    "            assert feature_flavor == 'Custom'\n",
    "            print('Standard scaling feature extraction...') \n",
    "            scaler = StandardScaler()\n",
    "            adata_train.obsm[feature_key] = scaler.fit_transform(adata_train.X)\n",
    "            adata_test.obsm[feature_key] = scaler.transform(adata_test.X)\n",
    "        else:\n",
    "            assert feature_key is None\n",
    "\n",
    "\n",
    "        surv_train = surv.loc[surv.index.isin(train_patients), :].copy()\n",
    "        if use_covariates:\n",
    "            covariates_train = surv_train[['group']].copy()\n",
    "        else:\n",
    "            covariates_train = None\n",
    "\n",
    "        adata_train, surv_train, model = scSurvivalRun(\n",
    "            adata_train,\n",
    "            sample_column='sample',\n",
    "            surv=surv_train,\n",
    "            batch_key=batch_key,\n",
    "            covariates=covariates_train,\n",
    "            feature_flavor=feature_flavor,\n",
    "            feature_key=feature_key,\n",
    "            entropy_threshold=entropy_threshold,\n",
    "            num_heads=num_heads,\n",
    "            validate=True,\n",
    "            validate_ratio=0.2,\n",
    "            validate_metric='ccindex',\n",
    "            lambdas=(0.01, 1.0),\n",
    "            pretrain_epochs=200,\n",
    "            epochs=500,\n",
    "            weight_decay=0.01,\n",
    "            lr=0.001,\n",
    "            patience=100,\n",
    "            rec_likelihood='ZIG',\n",
    "            do_scale_ae=False,\n",
    "            beta=0.1, tau=0.2, \n",
    "            sample_size_ae=None,\n",
    "            finetue_lr_factor=0.1,\n",
    "            gene_weight_alpha=0.2,\n",
    "            gamma_beta_weight=(0.1, 0.0),\n",
    "            once_load_to_gpu=True,\n",
    "            use_amp=False,\n",
    "            fitnetune_strategy='alternating', # jointly, alternating, alternating_lightly,\n",
    "            )  \n",
    "        \n",
    "        \n",
    "        train_cindex = concordance_index(surv_train['time'], -surv_train['patient_hazards'], surv_train['status'])\n",
    "        print(f'train c-index: {train_cindex:.4f}')\n",
    "\n",
    "        # test\n",
    "        print('testing...')\n",
    "        \n",
    "\n",
    "        with contextlib.redirect_stdout(f):\n",
    "            for test_patient in test_patients:\n",
    "                adata_test_patient = adata_test[adata_test.obs['patient_no'] == test_patient, :].copy()\n",
    "                if use_covariates:\n",
    "                    covariates_test_patient = surv.loc[[test_patient], ['group']].copy()\n",
    "                    adata_test_patient, patient_hazard = PredictIndSample(adata_test_patient, adata_train, model, covariates_new=covariates_test_patient)\n",
    "                else:\n",
    "                    adata_test_patient, patient_hazard = PredictIndSample(adata_test_patient, adata_train, model)\n",
    "                    \n",
    "                cv_hazards_adj_cells[adata.obs['patient_no'] == test_patient] = adata_test_patient.obs['hazard_adj'].values\n",
    "                surv.loc[surv.index == test_patient, 'cv_hazards_adj_patient'] = patient_hazard\n",
    "                surv.loc[surv.index == test_patient, 'cv_hazard_percentile_patient'] = percentileofscore(surv_train['patient_hazards'], patient_hazard, kind='rank')\n",
    "\n",
    "        surv_test = surv.loc[surv.index.isin(test_patients), :]\n",
    "        c_index = concordance_index(surv_test['time'], -surv_test['cv_hazards_adj_patient'], surv_test['status'])\n",
    "\n",
    "        cindexs.append(c_index)\n",
    "        surv_test_all_folds.append(surv_test)\n",
    "\n",
    "        print(f'c-index: {c_index:.4f}')\n",
    "        print('='*50)\n",
    "\n",
    "        # if i == 0:\n",
    "        #     break\n",
    "\n",
    "    mean_cindex = np.mean(cindexs)\n",
    "    std_cindex = np.std(cindexs)\n",
    "\n",
    "    print(f'mean c-index: {mean_cindex:.4f} ± {std_cindex:.4f}')\n",
    "    cindexs_df = pd.DataFrame(cindexs, columns=['c-index'], index=['fold%d' % i for i in range(5)])\n",
    "\n",
    "    cindex_results = {\n",
    "        'mean_cindex': mean_cindex,\n",
    "        'std_cindex': std_cindex,\n",
    "        'cindexs_df': cindexs_df\n",
    "    }\n",
    "\n",
    "    return cindex_results\n",
    "\n",
    "\n",
    "def celltype_proportion_coxph(adata, surv, use_covariates=False):\n",
    "\n",
    "    if use_covariates:\n",
    "        covariates = surv[['group']].copy()\n",
    "        surv = surv[['time', 'status']].copy()\n",
    "\n",
    "    adata = adata.copy()\n",
    "    print('Clustering cells...')\n",
    "    sc.pp.scale(adata, max_value=10)\n",
    "    sc.pp.pca(adata, n_comps=50)\n",
    "    sc.pp.neighbors(adata, n_neighbors=15, n_pcs=50)\n",
    "    sc.tl.leiden(adata)\n",
    "\n",
    "    meta = adata.obs.copy()\n",
    "    cell_fraction = meta[['sample', 'leiden']].value_counts(normalize=False).unstack(fill_value=0)\n",
    "    cell_fraction = cell_fraction.div(cell_fraction.sum(axis=1), axis=0)\n",
    "    surv = surv.loc[cell_fraction.index, :].copy()\n",
    "    \n",
    "    surv['time'] = surv['time'].astype(float)\n",
    "    surv['event'] = surv['status'].astype(int)\n",
    "\n",
    "    if use_covariates:\n",
    "        covariates = covariates.loc[cell_fraction.index, :].copy()\n",
    "        covariates = pd.get_dummies(covariates, drop_first=True).astype(float)\n",
    "        X = pd.concat([cell_fraction, covariates], axis=1).values\n",
    "    else:\n",
    "        X = cell_fraction.values\n",
    "    y = Surv.from_dataframe('event', 'time', surv)\n",
    "\n",
    "    print('Fitting Cox model with cell type proportions...')\n",
    "    cindex_results = nested_cv_coxnet(\n",
    "        X, y,\n",
    "        outer_mode='kfold',\n",
    "        outer_splits=5,           # Used when outer_mode='kfold'\n",
    "        inner_splits=5,\n",
    "        # alpha_grid=np.logspace(-2, 1, 50),\n",
    "        # alpha_grid=[0.1],\n",
    "        n_alphas=50,\n",
    "        alpha_min_ratio=0.01,\n",
    "        l1_ratio=0.1,\n",
    "        random_state=42,\n",
    "        n_jobs=-1,\n",
    "        return_coef=True\n",
    "    )\n",
    "    return cindex_results\n",
    "\n",
    "def pseudo_bulk_coxph(adata, surv, use_covariates=False):\n",
    "    if use_covariates:\n",
    "        covariates = surv[['group']].copy()\n",
    "        surv = surv[['time', 'status']].copy()\n",
    "    \n",
    "    adata = adata.raw.to_adata()\n",
    "\n",
    "    print('Calculating pseudo-bulk expression...')\n",
    "    patients = adata.obs['sample'].unique().tolist()\n",
    "    pseudo_bulk_list = []\n",
    "    for patient in tqdm(patients):\n",
    "        adata_sub = adata[adata.obs['sample'] == patient, :].copy()\n",
    "        mean_expr = np.asarray(adata_sub.X.mean(axis=0)).flatten()\n",
    "        pseudo_bulk_list.append(mean_expr)\n",
    "\n",
    "    pseudo_bulk = pd.DataFrame(data=np.vstack(pseudo_bulk_list),\n",
    "                                index=patients,\n",
    "                                columns=adata.var_names.tolist())\n",
    "    \n",
    "    surv = surv.loc[pseudo_bulk.index, :].copy()\n",
    "    surv['time'] = surv['time'].astype(float)\n",
    "    surv['event'] = surv['status'].astype(int)\n",
    "\n",
    "    if use_covariates:\n",
    "        covariates = covariates.loc[pseudo_bulk.index, :].copy()\n",
    "        covariates = pd.get_dummies(covariates, drop_first=True).astype(float)\n",
    "        X = pd.concat([pseudo_bulk, covariates], axis=1).values\n",
    "    else:\n",
    "        X = pseudo_bulk.values\n",
    "    y = Surv.from_dataframe('event', 'time', surv)\n",
    "\n",
    "    print('Fitting Cox model with pseudo-bulk expression...')\n",
    "    cindex_results = nested_cv_coxnet(\n",
    "        X, y,\n",
    "        outer_mode='kfold',\n",
    "        outer_splits=5,           # Used when outer_mode='kfold'\n",
    "        inner_splits=5,\n",
    "        # alpha_grid=np.logspace(-1, 2, 50),\n",
    "        # alpha_grid=[0],\n",
    "        n_alphas=50,\n",
    "        alpha_min_ratio=0.01,\n",
    "        l1_ratio=1.0,\n",
    "        random_state=42,\n",
    "        n_jobs=-1,\n",
    "        return_coef=True,\n",
    "        select_features=True,\n",
    "        n_top=2000,\n",
    "    )\n",
    "\n",
    "    return cindex_results"
   ]
  },
  {
   "cell_type": "code",
   "execution_count": 3,
   "id": "4c369bf3",
   "metadata": {},
   "outputs": [],
   "source": [
    "def log_clf_report_df(logger, clf_report_df=None):\n",
    "    if clf_report_df is None:\n",
    "        clf_rst = {\n",
    "            'precision': 'NA',\n",
    "            'recall': 'NA',\n",
    "            'f1-score': 'NA',\n",
    "        }\n",
    "        for cls in ['good.survival', 'bad.survival', 'other']:\n",
    "            for metric in ['precision', 'recall', 'f1-score']:\n",
    "                key = f'{cls}_{metric}'\n",
    "                clf_rst[key] = 'NA'\n",
    "    else:\n",
    "        clf_rst = {\n",
    "            'precision': clf_report_df.loc['macro avg', 'precision'],\n",
    "            'recall': clf_report_df.loc['macro avg', 'recall'],\n",
    "            'f1-score': clf_report_df.loc['macro avg', 'f1-score'],\n",
    "        }\n",
    "\n",
    "        for cls in ['good.survival', 'bad.survival', 'other']:\n",
    "            for metric in ['precision', 'recall', 'f1-score']:\n",
    "                key = f'{cls}_{metric}'\n",
    "                if cls in clf_report_df.index:\n",
    "                    clf_rst[key] = clf_report_df.loc[cls, metric]\n",
    "                else:\n",
    "                    clf_rst[key] = 0.0\n",
    "    logger.log_dict(clf_rst)\n",
    "    return logger\n",
    "\n",
    "def log_cindex_results(logger, cindex_results):\n",
    "    logger.log('mean_cindex', cindex_results['mean_cindex'])\n",
    "    logger.log('std_cindex', cindex_results['std_cindex'])\n",
    "    return logger\n",
    "\n",
    "# alg params\n",
    "\n",
    "def get_alg_params_on_methods(method):\n",
    "    if method == 'scSurvival(VAE)':\n",
    "        return {\n",
    "            'feature_flavor': 'AE', \n",
    "            'feature_key': None,\n",
    "            'num_heads': 8,\n",
    "        }\n",
    "    elif method == 'scSurvival(PCA)':\n",
    "        return {\n",
    "            'feature_flavor': 'PCA', \n",
    "            'feature_key': None,\n",
    "            'num_heads': 5,\n",
    "        }\n",
    "    elif method == 'scSurvival(NMF)':\n",
    "        return {\n",
    "            'feature_flavor': 'Custom', \n",
    "            'feature_key': 'X_nmf',\n",
    "            'num_heads': 5,\n",
    "        }\n",
    "    elif method == 'scSurvival(HVG2000)':\n",
    "        return {\n",
    "            'feature_flavor': 'Custom', \n",
    "            'feature_key': 'X_scaled',\n",
    "            'num_heads': 8,\n",
    "        }\n",
    "    elif method == 'celltype_proportion_coxph':\n",
    "        return {}\n",
    "    elif method == 'pseudo_bulk_coxph':\n",
    "        return {}\n",
    "    else:\n",
    "        raise ValueError(f'Unknown method: {method}')\n",
    "\n",
    "def get_alg_params_on_sim(sim):\n",
    "    if sim == 'sim1':\n",
    "        return {\n",
    "            'entropy_threshold': 0.7,\n",
    "            'batch_key': None,\n",
    "            'use_covariates': False\n",
    "        }\n",
    "    elif sim == 'sim2':\n",
    "        return {\n",
    "            'entropy_threshold': 0.7,\n",
    "            'batch_key': None, # for pca, nmf, scaled, set to None\n",
    "            'use_covariates': False\n",
    "        }\n",
    "    elif sim == 'sim3':\n",
    "        return {\n",
    "            'entropy_threshold': 0.7,\n",
    "            'batch_key': None,\n",
    "            'use_covariates': False\n",
    "        }\n",
    "    elif sim == 'sim4':\n",
    "        return {\n",
    "            'entropy_threshold': 0.7,\n",
    "            'batch_key': None,\n",
    "            'use_covariates': False\n",
    "        }\n",
    "    elif sim == 'sim5':\n",
    "        return {\n",
    "            'entropy_threshold': 0.7,\n",
    "            'batch_key': None,\n",
    "            'use_covariates': True\n",
    "        }\n",
    "    elif sim == 'sim6':\n",
    "        return {\n",
    "            'entropy_threshold': 0.7,\n",
    "            'batch_key': None,\n",
    "            'use_covariates': False\n",
    "        }\n",
    "    else:\n",
    "        raise ValueError(f'Unknown sim: {sim}')\n",
    "    \n",
    "def load_scSurvival_vae_results(rst_type='clf_report', sim_case='sim1', seed=1, **params):\n",
    "    '''\n",
    "    rst_type: 'clf_report' or 'cindex_results'\n",
    "    '''\n",
    "\n",
    "    result_root_path = f'./results/revision-{sim_case}-python/'\n",
    "\n",
    "    if rst_type == 'clf_report':\n",
    "        file_path = f'{result_root_path}/cell_subpopulation_logs.csv'\n",
    "        df = pd.read_csv(file_path)\n",
    "\n",
    "    elif rst_type == 'cindex_results':\n",
    "        file_path = f'{result_root_path}/cv_logs.csv'\n",
    "        df = pd.read_csv(file_path)\n",
    "\n",
    "    rst_check = df['seed'] == seed\n",
    "    for key, value in params.items():\n",
    "        rst_check = rst_check & (df[key] == value)\n",
    "    \n",
    "    df_sub = df.loc[rst_check, :]\n",
    "    assert df_sub.shape[0] == 1, f'Expected 1 result, but got {df_sub.shape[0]}'\n",
    "\n",
    "    df_sub_dict = df_sub.to_dict(orient='records')[0]\n",
    "\n",
    "    # remove seed and params from dict\n",
    "    df_sub_dict.pop('seed', None)\n",
    "    for key in params.keys():\n",
    "        df_sub_dict.pop(key, None)\n",
    "\n",
    "    return df_sub_dict"
   ]
  },
  {
   "cell_type": "code",
   "execution_count": 4,
   "id": "80fb83c5",
   "metadata": {},
   "outputs": [],
   "source": [
    "represent_cases = {\n",
    "    'sim1': {\n",
    "        'cell_surv_ratio': [0.15, 0.03]\n",
    "    },\n",
    "    'sim2': {\n",
    "        'ds_rate': [0.2]\n",
    "    },\n",
    "    'sim3': {\n",
    "        'censor_prob': [0.7],\n",
    "        'tr': [2]\n",
    "    },\n",
    "    'sim4': {\n",
    "        'num_bg_clusters': [5]\n",
    "    },\n",
    "    'sim5': {\n",
    "        'group_effect': [3],\n",
    "        'high_group_prob': [0.5]\n",
    "    },\n",
    "    'sim6': {\n",
    "        'sub_cluster_ratio': [0.3],\n",
    "        'de_facloc': [0.35]\n",
    "    }\n",
    "}\n",
    "seeds = range(1, 11)\n",
    "methods = [\n",
    "    'scSurvival(VAE)', \n",
    "    'scSurvival(PCA)',\n",
    "    'scSurvival(NMF)',\n",
    "    'scSurvival(HVG2000)',\n",
    "    'celltype_proportion_coxph', \n",
    "    'pseudo_bulk_coxph',\n",
    "]\n",
    "\n",
    "# methods = [\n",
    "#     'scSurvival(HVG2000)',\n",
    "# ]"
   ]
  },
  {
   "cell_type": "code",
   "execution_count": null,
   "id": "079ff115",
   "metadata": {},
   "outputs": [],
   "source": [
    "save_root_path = './benchmark_results/'\n",
    "if not os.path.exists(save_root_path):\n",
    "    os.makedirs(save_root_path)\n",
    "\n",
    "logger = Logger(f'{save_root_path}/log_cindexes_hvg2000.csv')\n",
    "for seed in [1]:\n",
    "    for i, (case, params) in enumerate(represent_cases.items()):\n",
    "        sim = importlib.import_module(f'simu_type_{i+1}')\n",
    "        \n",
    "        keys, values = zip(*params.items())\n",
    "        combos = [dict(zip(keys, v)) for v in product(*values)]\n",
    "        for param in combos:\n",
    "            print(f'Running {case} with params: {param} and seed: {seed}')\n",
    "            # param['seed'] = seed\n",
    "            adata, surv, adata_new = sim.create_data(seed=seed, **param)\n",
    "\n",
    "            for method in methods:\n",
    "                print(f'Running method: {method}')\n",
    "                logger.log('seed', seed)\n",
    "                logger.log('case', case)\n",
    "                logger.log('method', method)\n",
    "                logger.log('params', str(param))\n",
    "\n",
    "                if method == 'scSurvival(VAE)':\n",
    "                    cindex_results = load_scSurvival_vae_results(rst_type='cindex_results', sim_case=case, seed=seed, **param)\n",
    "                    logger.log_dict(cindex_results)\n",
    "                    logger.get_logs_df()\n",
    "                    continue\n",
    "\n",
    "                alg_params_on_methods = get_alg_params_on_methods(method)\n",
    "                alg_params_on_sim = get_alg_params_on_sim(case)\n",
    "                alg_params = {**alg_params_on_methods, **alg_params_on_sim}\n",
    "\n",
    "                if 'cell_surv_ratio' in param:\n",
    "                    if param['cell_surv_ratio'] == 0.03:\n",
    "                        alg_params['entropy_threshold'] = 0.5\n",
    "                \n",
    "                if method.startswith('scSurvival'):\n",
    "                    cindex_results = cross_validation_samples(adata, surv, **alg_params)\n",
    "                    logger = log_cindex_results(logger, cindex_results)\n",
    "                elif method == 'celltype_proportion_coxph':\n",
    "                    use_covariates = alg_params.get('use_covariates', False)\n",
    "                    cindex_results = celltype_proportion_coxph(adata, surv, use_covariates=use_covariates)\n",
    "                    logger = log_cindex_results(logger, cindex_results)\n",
    "                elif method == 'pseudo_bulk_coxph':\n",
    "                    use_covariates = alg_params.get('use_covariates', False)\n",
    "                    cindex_results = pseudo_bulk_coxph(adata, surv, use_covariates=use_covariates)\n",
    "                    logger = log_cindex_results(logger, cindex_results)\n",
    "                \n",
    "                logger.get_logs_df()\n",
    "            # raise ValueError('stop here for testing')"
   ]
  },
  {
   "cell_type": "code",
   "execution_count": 5,
   "id": "e47d3136",
   "metadata": {},
   "outputs": [
    {
     "name": "stdout",
     "output_type": "stream",
     "text": [
      "Running sim1 with params: {'cell_surv_ratio': 0.15} and seed: 1\n",
      "  |======================================================================| 100%"
     ]
    },
    {
     "name": "stderr",
     "output_type": "stream",
     "text": [
      "100%|██████████| 100/100 [00:00<00:00, 48121.89it/s]\n"
     ]
    },
    {
     "name": "stdout",
     "output_type": "stream",
     "text": [
      "Running method: scSurvival(VAE)\n",
      "Running method: scSurvival(PCA)\n",
      "Run PCA...\n"
     ]
    },
    {
     "name": "stderr",
     "output_type": "stream",
     "text": [
      "Training:  64%|██████▍   | 319/500 [01:31<00:51,  3.50it/s, atten_entropy=0.813, cox_loss=2.26, loss=2.38]\n"
     ]
    },
    {
     "name": "stdout",
     "output_type": "stream",
     "text": [
      "Added hazard and attention to adata.obs.\n",
      "Added patient_hazards to surv.\n",
      "gene missing rate: 0.00%\n",
      "Added hazard and attention to adata_new.obs.\n",
      "Running method: scSurvival(NMF)\n",
      "NMF feature extraction...\n"
     ]
    },
    {
     "name": "stderr",
     "output_type": "stream",
     "text": [
      "Training: 100%|██████████| 500/500 [02:18<00:00,  3.61it/s, atten_entropy=0.822, cox_loss=2.88, loss=3]   \n"
     ]
    },
    {
     "name": "stdout",
     "output_type": "stream",
     "text": [
      "Added hazard and attention to adata.obs.\n",
      "Added patient_hazards to surv.\n",
      "gene missing rate: 0.00%\n",
      "Added hazard and attention to adata_new.obs.\n",
      "Running method: scSurvival(HVG2000)\n",
      "Standard scaling feature extraction...\n"
     ]
    },
    {
     "name": "stderr",
     "output_type": "stream",
     "text": [
      "Training:  83%|████████▎ | 417/500 [04:20<00:51,  1.60it/s, atten_entropy=0.7, cox_loss=1.82, loss=1.82]  \n"
     ]
    },
    {
     "name": "stdout",
     "output_type": "stream",
     "text": [
      "Added hazard and attention to adata.obs.\n",
      "Added patient_hazards to surv.\n",
      "gene missing rate: 0.00%\n",
      "Added hazard and attention to adata_new.obs.\n",
      "Running sim1 with params: {'cell_surv_ratio': 0.03} and seed: 1\n",
      "  |======================================================================| 100%"
     ]
    },
    {
     "name": "stderr",
     "output_type": "stream",
     "text": [
      "100%|██████████| 100/100 [00:00<00:00, 33964.73it/s]\n"
     ]
    },
    {
     "name": "stdout",
     "output_type": "stream",
     "text": [
      "Running method: scSurvival(VAE)\n",
      "Running method: scSurvival(PCA)\n",
      "Run PCA...\n"
     ]
    },
    {
     "name": "stderr",
     "output_type": "stream",
     "text": [
      "Training: 100%|██████████| 500/500 [02:16<00:00,  3.66it/s, atten_entropy=0.747, cox_loss=2.31, loss=2.56]\n"
     ]
    },
    {
     "name": "stdout",
     "output_type": "stream",
     "text": [
      "Added hazard and attention to adata.obs.\n",
      "Added patient_hazards to surv.\n",
      "gene missing rate: 0.00%\n",
      "Added hazard and attention to adata_new.obs.\n",
      "Running method: scSurvival(NMF)\n",
      "NMF feature extraction...\n"
     ]
    },
    {
     "name": "stderr",
     "output_type": "stream",
     "text": [
      "Training:  21%|██        | 103/500 [00:28<01:51,  3.55it/s, atten_entropy=1, cox_loss=3.45, loss=3.95]\n"
     ]
    },
    {
     "name": "stdout",
     "output_type": "stream",
     "text": [
      "Added hazard and attention to adata.obs.\n",
      "Added patient_hazards to surv.\n",
      "gene missing rate: 0.00%\n",
      "Added hazard and attention to adata_new.obs.\n",
      "Running method: scSurvival(HVG2000)\n",
      "Standard scaling feature extraction...\n"
     ]
    },
    {
     "name": "stderr",
     "output_type": "stream",
     "text": [
      "Training:  62%|██████▏   | 311/500 [03:16<01:59,  1.59it/s, atten_entropy=0.5, cox_loss=1.72, loss=1.72]  \n"
     ]
    },
    {
     "name": "stdout",
     "output_type": "stream",
     "text": [
      "Added hazard and attention to adata.obs.\n",
      "Added patient_hazards to surv.\n",
      "gene missing rate: 0.00%\n",
      "Added hazard and attention to adata_new.obs.\n",
      "Running sim2 with params: {'ds_rate': 0.2} and seed: 1\n",
      "[1] \"Simulating from Batch1 ...\"\n",
      "  |======================================================================| 100%[1] \"\\n\"\n",
      "[1] \"Simulating from Batch2 ...\"\n",
      "  |======================================================================| 100%"
     ]
    },
    {
     "name": "stderr",
     "output_type": "stream",
     "text": [
      "100%|██████████| 100/100 [00:00<00:00, 49979.79it/s]\n"
     ]
    },
    {
     "name": "stdout",
     "output_type": "stream",
     "text": [
      "Running method: scSurvival(VAE)\n",
      "Running method: scSurvival(PCA)\n",
      "Run PCA...\n"
     ]
    },
    {
     "name": "stderr",
     "output_type": "stream",
     "text": [
      "Training: 100%|██████████| 500/500 [02:16<00:00,  3.67it/s, atten_entropy=0.828, cox_loss=2.45, loss=2.58]\n"
     ]
    },
    {
     "name": "stdout",
     "output_type": "stream",
     "text": [
      "Added hazard and attention to adata.obs.\n",
      "Added patient_hazards to surv.\n",
      "gene missing rate: 0.00%\n",
      "Added hazard and attention to adata_new.obs.\n",
      "Running method: scSurvival(NMF)\n",
      "NMF feature extraction...\n"
     ]
    },
    {
     "name": "stderr",
     "output_type": "stream",
     "text": [
      "Training:  21%|██        | 103/500 [00:28<01:50,  3.60it/s, atten_entropy=1, cox_loss=3.59, loss=3.89]\n"
     ]
    },
    {
     "name": "stdout",
     "output_type": "stream",
     "text": [
      "Added hazard and attention to adata.obs.\n",
      "Added patient_hazards to surv.\n",
      "gene missing rate: 0.00%\n",
      "Added hazard and attention to adata_new.obs.\n",
      "Running method: scSurvival(HVG2000)\n",
      "Standard scaling feature extraction...\n"
     ]
    },
    {
     "name": "stderr",
     "output_type": "stream",
     "text": [
      "Training:  59%|█████▉    | 295/500 [03:05<02:08,  1.59it/s, atten_entropy=0.7, cox_loss=1.75, loss=1.75]  \n"
     ]
    },
    {
     "name": "stdout",
     "output_type": "stream",
     "text": [
      "Added hazard and attention to adata.obs.\n",
      "Added patient_hazards to surv.\n",
      "gene missing rate: 0.00%\n",
      "Added hazard and attention to adata_new.obs.\n",
      "Running sim3 with params: {'censor_prob': 0.7, 'tr': 2} and seed: 1\n",
      "  |======================================================================| 100%"
     ]
    },
    {
     "name": "stderr",
     "output_type": "stream",
     "text": [
      "100%|██████████| 100/100 [00:00<?, ?it/s]\n"
     ]
    },
    {
     "name": "stdout",
     "output_type": "stream",
     "text": [
      "Running method: scSurvival(VAE)\n",
      "Running method: scSurvival(PCA)\n",
      "Run PCA...\n"
     ]
    },
    {
     "name": "stderr",
     "output_type": "stream",
     "text": [
      "Training: 100%|██████████| 500/500 [02:14<00:00,  3.71it/s, atten_entropy=0.787, cox_loss=1.18, loss=1.26] \n"
     ]
    },
    {
     "name": "stdout",
     "output_type": "stream",
     "text": [
      "Added hazard and attention to adata.obs.\n",
      "Added patient_hazards to surv.\n",
      "gene missing rate: 0.00%\n",
      "Added hazard and attention to adata_new.obs.\n",
      "Running method: scSurvival(NMF)\n",
      "NMF feature extraction...\n"
     ]
    },
    {
     "name": "stderr",
     "output_type": "stream",
     "text": [
      "Training:  20%|██        | 101/500 [00:27<01:48,  3.67it/s, atten_entropy=1, cox_loss=3.16, loss=3.46]\n"
     ]
    },
    {
     "name": "stdout",
     "output_type": "stream",
     "text": [
      "Added hazard and attention to adata.obs.\n",
      "Added patient_hazards to surv.\n",
      "gene missing rate: 0.00%\n",
      "Added hazard and attention to adata_new.obs.\n",
      "Running method: scSurvival(HVG2000)\n",
      "Standard scaling feature extraction...\n"
     ]
    },
    {
     "name": "stderr",
     "output_type": "stream",
     "text": [
      "Training:  56%|█████▌    | 281/500 [02:55<02:16,  1.60it/s, atten_entropy=0.702, cox_loss=0.808, loss=0.81] \n"
     ]
    },
    {
     "name": "stdout",
     "output_type": "stream",
     "text": [
      "Added hazard and attention to adata.obs.\n",
      "Added patient_hazards to surv.\n",
      "gene missing rate: 0.00%\n",
      "Added hazard and attention to adata_new.obs.\n",
      "Running sim4 with params: {'num_bg_clusters': 5} and seed: 1\n",
      "  |======================================================================| 100%"
     ]
    },
    {
     "name": "stderr",
     "output_type": "stream",
     "text": [
      "100%|██████████| 100/100 [00:00<00:00, 20002.40it/s]\n"
     ]
    },
    {
     "name": "stdout",
     "output_type": "stream",
     "text": [
      "Running method: scSurvival(VAE)\n",
      "Running method: scSurvival(PCA)\n",
      "Run PCA...\n"
     ]
    },
    {
     "name": "stderr",
     "output_type": "stream",
     "text": [
      "Training:  82%|████████▏ | 410/500 [01:51<00:24,  3.67it/s, atten_entropy=0.744, cox_loss=2.17, loss=2.21]\n"
     ]
    },
    {
     "name": "stdout",
     "output_type": "stream",
     "text": [
      "Added hazard and attention to adata.obs.\n",
      "Added patient_hazards to surv.\n",
      "gene missing rate: 0.00%\n",
      "Added hazard and attention to adata_new.obs.\n",
      "Running method: scSurvival(NMF)\n",
      "NMF feature extraction...\n"
     ]
    },
    {
     "name": "stderr",
     "output_type": "stream",
     "text": [
      "Training: 100%|██████████| 500/500 [02:15<00:00,  3.69it/s, atten_entropy=0.859, cox_loss=2.68, loss=2.84]\n"
     ]
    },
    {
     "name": "stdout",
     "output_type": "stream",
     "text": [
      "Added hazard and attention to adata.obs.\n",
      "Added patient_hazards to surv.\n",
      "gene missing rate: 0.00%\n",
      "Added hazard and attention to adata_new.obs.\n",
      "Running method: scSurvival(HVG2000)\n",
      "Standard scaling feature extraction...\n"
     ]
    },
    {
     "name": "stderr",
     "output_type": "stream",
     "text": [
      "Training:  73%|███████▎  | 365/500 [03:49<01:24,  1.59it/s, atten_entropy=0.694, cox_loss=1.74, loss=1.74]\n"
     ]
    },
    {
     "name": "stdout",
     "output_type": "stream",
     "text": [
      "Added hazard and attention to adata.obs.\n",
      "Added patient_hazards to surv.\n",
      "gene missing rate: 0.00%\n",
      "Added hazard and attention to adata_new.obs.\n",
      "Running sim5 with params: {'group_effect': 3, 'high_group_prob': 0.5} and seed: 1\n",
      "  |======================================================================| 100%"
     ]
    },
    {
     "name": "stderr",
     "output_type": "stream",
     "text": [
      "100%|██████████| 100/100 [00:00<00:00, 90511.52it/s]\n"
     ]
    },
    {
     "name": "stdout",
     "output_type": "stream",
     "text": [
      "Running method: scSurvival(VAE)\n",
      "Running method: scSurvival(PCA)\n",
      "Run PCA...\n"
     ]
    },
    {
     "name": "stderr",
     "output_type": "stream",
     "text": [
      "Training: 100%|██████████| 500/500 [02:16<00:00,  3.67it/s, atten_entropy=0.701, cox_loss=2.48, loss=2.48]\n"
     ]
    },
    {
     "name": "stdout",
     "output_type": "stream",
     "text": [
      "Added hazard and attention to adata.obs.\n",
      "Added patient_hazards to surv.\n",
      "gene missing rate: 0.00%\n",
      "Added hazard and attention to adata_new.obs.\n",
      "Running method: scSurvival(NMF)\n",
      "NMF feature extraction...\n"
     ]
    },
    {
     "name": "stderr",
     "output_type": "stream",
     "text": [
      "Training: 100%|██████████| 500/500 [02:15<00:00,  3.70it/s, atten_entropy=0.806, cox_loss=2.93, loss=3.04]\n"
     ]
    },
    {
     "name": "stdout",
     "output_type": "stream",
     "text": [
      "Added hazard and attention to adata.obs.\n",
      "Added patient_hazards to surv.\n",
      "gene missing rate: 0.00%\n",
      "Added hazard and attention to adata_new.obs.\n",
      "Running method: scSurvival(HVG2000)\n",
      "Standard scaling feature extraction...\n"
     ]
    },
    {
     "name": "stderr",
     "output_type": "stream",
     "text": [
      "Training:  78%|███████▊  | 389/500 [04:03<01:09,  1.60it/s, atten_entropy=0.694, cox_loss=1.79, loss=1.79]\n"
     ]
    },
    {
     "name": "stdout",
     "output_type": "stream",
     "text": [
      "Added hazard and attention to adata.obs.\n",
      "Added patient_hazards to surv.\n",
      "gene missing rate: 0.00%\n",
      "Added hazard and attention to adata_new.obs.\n",
      "Running sim6 with params: {'sub_cluster_ratio': 0.3, 'de_facloc': 0.35} and seed: 1\n",
      "  |======================================================================| 100%"
     ]
    },
    {
     "name": "stderr",
     "output_type": "stream",
     "text": [
      "100%|██████████| 100/100 [00:00<00:00, 97247.95it/s]\n"
     ]
    },
    {
     "name": "stdout",
     "output_type": "stream",
     "text": [
      "Running method: scSurvival(VAE)\n",
      "Running method: scSurvival(PCA)\n",
      "Run PCA...\n"
     ]
    },
    {
     "name": "stderr",
     "output_type": "stream",
     "text": [
      "Training: 100%|██████████| 500/500 [02:23<00:00,  3.49it/s, atten_entropy=0.697, cox_loss=2.26, loss=2.26]\n"
     ]
    },
    {
     "name": "stdout",
     "output_type": "stream",
     "text": [
      "Added hazard and attention to adata.obs.\n",
      "Added patient_hazards to surv.\n",
      "gene missing rate: 0.00%\n",
      "Added hazard and attention to adata_new.obs.\n",
      "Running method: scSurvival(NMF)\n",
      "NMF feature extraction...\n"
     ]
    },
    {
     "name": "stderr",
     "output_type": "stream",
     "text": [
      "Training: 100%|██████████| 500/500 [02:14<00:00,  3.72it/s, atten_entropy=0.696, cox_loss=2.83, loss=2.83]\n"
     ]
    },
    {
     "name": "stdout",
     "output_type": "stream",
     "text": [
      "Added hazard and attention to adata.obs.\n",
      "Added patient_hazards to surv.\n",
      "gene missing rate: 0.00%\n",
      "Added hazard and attention to adata_new.obs.\n",
      "Running method: scSurvival(HVG2000)\n",
      "Standard scaling feature extraction...\n"
     ]
    },
    {
     "name": "stderr",
     "output_type": "stream",
     "text": [
      "Training:  20%|██        | 101/500 [01:01<04:03,  1.64it/s, atten_entropy=0.649, cox_loss=3.55, loss=3.55]\n"
     ]
    },
    {
     "name": "stdout",
     "output_type": "stream",
     "text": [
      "Added hazard and attention to adata.obs.\n",
      "Added patient_hazards to surv.\n",
      "gene missing rate: 0.00%\n",
      "Added hazard and attention to adata_new.obs.\n",
      "Running sim1 with params: {'cell_surv_ratio': 0.15} and seed: 2\n",
      "  |======================================================================| 100%"
     ]
    },
    {
     "name": "stderr",
     "output_type": "stream",
     "text": [
      "100%|██████████| 100/100 [00:00<00:00, 47462.99it/s]\n"
     ]
    },
    {
     "name": "stdout",
     "output_type": "stream",
     "text": [
      "Running method: scSurvival(VAE)\n",
      "Running method: scSurvival(PCA)\n",
      "Run PCA...\n"
     ]
    },
    {
     "name": "stderr",
     "output_type": "stream",
     "text": [
      "Training:  84%|████████▍ | 422/500 [01:54<00:21,  3.67it/s, atten_entropy=0.768, cox_loss=2.2, loss=2.27] \n"
     ]
    },
    {
     "name": "stdout",
     "output_type": "stream",
     "text": [
      "Added hazard and attention to adata.obs.\n",
      "Added patient_hazards to surv.\n",
      "gene missing rate: 0.00%\n",
      "Added hazard and attention to adata_new.obs.\n",
      "Running method: scSurvival(NMF)\n",
      "NMF feature extraction...\n"
     ]
    },
    {
     "name": "stderr",
     "output_type": "stream",
     "text": [
      "Training:  21%|██        | 103/500 [00:28<01:49,  3.62it/s, atten_entropy=1, cox_loss=3.53, loss=3.83]\n"
     ]
    },
    {
     "name": "stdout",
     "output_type": "stream",
     "text": [
      "Added hazard and attention to adata.obs.\n",
      "Added patient_hazards to surv.\n",
      "gene missing rate: 0.00%\n",
      "Added hazard and attention to adata_new.obs.\n",
      "Running method: scSurvival(HVG2000)\n",
      "Standard scaling feature extraction...\n"
     ]
    },
    {
     "name": "stderr",
     "output_type": "stream",
     "text": [
      "Training:  72%|███████▏  | 362/500 [03:47<01:26,  1.59it/s, atten_entropy=0.699, cox_loss=1.74, loss=1.74]\n"
     ]
    },
    {
     "name": "stdout",
     "output_type": "stream",
     "text": [
      "Added hazard and attention to adata.obs.\n",
      "Added patient_hazards to surv.\n",
      "gene missing rate: 0.00%\n",
      "Added hazard and attention to adata_new.obs.\n",
      "Running sim1 with params: {'cell_surv_ratio': 0.03} and seed: 2\n",
      "  |======================================================================| 100%"
     ]
    },
    {
     "name": "stderr",
     "output_type": "stream",
     "text": [
      "100%|██████████| 100/100 [00:00<00:00, 24951.24it/s]\n"
     ]
    },
    {
     "name": "stdout",
     "output_type": "stream",
     "text": [
      "Running method: scSurvival(VAE)\n",
      "Running method: scSurvival(PCA)\n",
      "Run PCA...\n"
     ]
    },
    {
     "name": "stderr",
     "output_type": "stream",
     "text": [
      "Training:  89%|████████▉ | 446/500 [02:02<00:14,  3.63it/s, atten_entropy=0.771, cox_loss=2.21, loss=2.48]\n"
     ]
    },
    {
     "name": "stdout",
     "output_type": "stream",
     "text": [
      "Added hazard and attention to adata.obs.\n",
      "Added patient_hazards to surv.\n",
      "gene missing rate: 0.00%\n",
      "Added hazard and attention to adata_new.obs.\n",
      "Running method: scSurvival(NMF)\n",
      "NMF feature extraction...\n"
     ]
    },
    {
     "name": "stderr",
     "output_type": "stream",
     "text": [
      "Training:  26%|██▌       | 129/500 [00:35<01:41,  3.64it/s, atten_entropy=1, cox_loss=3.55, loss=4.05]\n"
     ]
    },
    {
     "name": "stdout",
     "output_type": "stream",
     "text": [
      "Added hazard and attention to adata.obs.\n",
      "Added patient_hazards to surv.\n",
      "gene missing rate: 0.00%\n",
      "Added hazard and attention to adata_new.obs.\n",
      "Running method: scSurvival(HVG2000)\n",
      "Standard scaling feature extraction...\n"
     ]
    },
    {
     "name": "stderr",
     "output_type": "stream",
     "text": [
      "Training:  96%|█████████▌| 480/500 [05:03<00:12,  1.58it/s, atten_entropy=0.5, cox_loss=1.76, loss=1.76]  \n"
     ]
    },
    {
     "name": "stdout",
     "output_type": "stream",
     "text": [
      "Added hazard and attention to adata.obs.\n",
      "Added patient_hazards to surv.\n",
      "gene missing rate: 0.00%\n",
      "Added hazard and attention to adata_new.obs.\n",
      "Running sim2 with params: {'ds_rate': 0.2} and seed: 2\n",
      "[1] \"Simulating from Batch1 ...\"\n",
      "  |======================================================================| 100%[1] \"\\n\"\n",
      "[1] \"Simulating from Batch2 ...\"\n",
      "  |======================================================================| 100%"
     ]
    },
    {
     "name": "stderr",
     "output_type": "stream",
     "text": [
      "100%|██████████| 100/100 [00:00<00:00, 49642.61it/s]\n"
     ]
    },
    {
     "name": "stdout",
     "output_type": "stream",
     "text": [
      "Running method: scSurvival(VAE)\n",
      "Running method: scSurvival(PCA)\n",
      "Run PCA...\n"
     ]
    },
    {
     "name": "stderr",
     "output_type": "stream",
     "text": [
      "Training: 100%|██████████| 500/500 [02:15<00:00,  3.70it/s, atten_entropy=0.816, cox_loss=2.46, loss=2.58]\n"
     ]
    },
    {
     "name": "stdout",
     "output_type": "stream",
     "text": [
      "Added hazard and attention to adata.obs.\n",
      "Added patient_hazards to surv.\n",
      "gene missing rate: 0.00%\n",
      "Added hazard and attention to adata_new.obs.\n",
      "Running method: scSurvival(NMF)\n",
      "NMF feature extraction...\n"
     ]
    },
    {
     "name": "stderr",
     "output_type": "stream",
     "text": [
      "Training:  22%|██▏       | 110/500 [00:30<01:47,  3.64it/s, atten_entropy=1, cox_loss=3.58, loss=3.88]\n"
     ]
    },
    {
     "name": "stdout",
     "output_type": "stream",
     "text": [
      "Added hazard and attention to adata.obs.\n",
      "Added patient_hazards to surv.\n",
      "gene missing rate: 0.00%\n",
      "Added hazard and attention to adata_new.obs.\n",
      "Running method: scSurvival(HVG2000)\n",
      "Standard scaling feature extraction...\n"
     ]
    },
    {
     "name": "stderr",
     "output_type": "stream",
     "text": [
      "Training:  54%|█████▍    | 272/500 [02:50<02:23,  1.59it/s, atten_entropy=0.696, cox_loss=1.75, loss=1.75]\n"
     ]
    },
    {
     "name": "stdout",
     "output_type": "stream",
     "text": [
      "Added hazard and attention to adata.obs.\n",
      "Added patient_hazards to surv.\n",
      "gene missing rate: 0.00%\n",
      "Added hazard and attention to adata_new.obs.\n",
      "Running sim3 with params: {'censor_prob': 0.7, 'tr': 2} and seed: 2\n",
      "  |======================================================================| 100%"
     ]
    },
    {
     "name": "stderr",
     "output_type": "stream",
     "text": [
      "100%|██████████| 100/100 [00:00<00:00, 33343.70it/s]\n"
     ]
    },
    {
     "name": "stdout",
     "output_type": "stream",
     "text": [
      "Running method: scSurvival(VAE)\n",
      "Running method: scSurvival(PCA)\n",
      "Run PCA...\n"
     ]
    },
    {
     "name": "stderr",
     "output_type": "stream",
     "text": [
      "Training: 100%|██████████| 500/500 [02:16<00:00,  3.66it/s, atten_entropy=0.807, cox_loss=1.25, loss=1.36]  \n"
     ]
    },
    {
     "name": "stdout",
     "output_type": "stream",
     "text": [
      "Added hazard and attention to adata.obs.\n",
      "Added patient_hazards to surv.\n",
      "gene missing rate: 0.00%\n",
      "Added hazard and attention to adata_new.obs.\n",
      "Running method: scSurvival(NMF)\n",
      "NMF feature extraction...\n"
     ]
    },
    {
     "name": "stderr",
     "output_type": "stream",
     "text": [
      "Training: 100%|██████████| 500/500 [02:18<00:00,  3.60it/s, atten_entropy=0.84, cox_loss=2.31, loss=2.45] \n"
     ]
    },
    {
     "name": "stdout",
     "output_type": "stream",
     "text": [
      "Added hazard and attention to adata.obs.\n",
      "Added patient_hazards to surv.\n",
      "gene missing rate: 0.00%\n",
      "Added hazard and attention to adata_new.obs.\n",
      "Running method: scSurvival(HVG2000)\n",
      "Standard scaling feature extraction...\n"
     ]
    },
    {
     "name": "stderr",
     "output_type": "stream",
     "text": [
      "Training:  82%|████████▏ | 412/500 [04:17<00:54,  1.60it/s, atten_entropy=0.698, cox_loss=1.19, loss=1.19]\n"
     ]
    },
    {
     "name": "stdout",
     "output_type": "stream",
     "text": [
      "Added hazard and attention to adata.obs.\n",
      "Added patient_hazards to surv.\n",
      "gene missing rate: 0.00%\n",
      "Added hazard and attention to adata_new.obs.\n",
      "Running sim4 with params: {'num_bg_clusters': 5} and seed: 2\n",
      "  |======================================================================| 100%"
     ]
    },
    {
     "name": "stderr",
     "output_type": "stream",
     "text": [
      "100%|██████████| 100/100 [00:00<00:00, 24455.16it/s]\n"
     ]
    },
    {
     "name": "stdout",
     "output_type": "stream",
     "text": [
      "Running method: scSurvival(VAE)\n",
      "Running method: scSurvival(PCA)\n",
      "Run PCA...\n"
     ]
    },
    {
     "name": "stderr",
     "output_type": "stream",
     "text": [
      "Training:  64%|██████▍   | 319/500 [01:28<00:49,  3.62it/s, atten_entropy=0.811, cox_loss=2.19, loss=2.3] \n"
     ]
    },
    {
     "name": "stdout",
     "output_type": "stream",
     "text": [
      "Added hazard and attention to adata.obs.\n",
      "Added patient_hazards to surv.\n",
      "gene missing rate: 0.00%\n",
      "Added hazard and attention to adata_new.obs.\n",
      "Running method: scSurvival(NMF)\n",
      "NMF feature extraction...\n"
     ]
    },
    {
     "name": "stderr",
     "output_type": "stream",
     "text": [
      "Training:  22%|██▏       | 110/500 [00:31<01:51,  3.50it/s, atten_entropy=1, cox_loss=3.55, loss=3.85]\n"
     ]
    },
    {
     "name": "stdout",
     "output_type": "stream",
     "text": [
      "Added hazard and attention to adata.obs.\n",
      "Added patient_hazards to surv.\n",
      "gene missing rate: 0.00%\n",
      "Added hazard and attention to adata_new.obs.\n",
      "Running method: scSurvival(HVG2000)\n",
      "Standard scaling feature extraction...\n"
     ]
    },
    {
     "name": "stderr",
     "output_type": "stream",
     "text": [
      "Training:  46%|████▋     | 232/500 [02:27<02:50,  1.58it/s, atten_entropy=0.694, cox_loss=1.81, loss=1.81]\n"
     ]
    },
    {
     "name": "stdout",
     "output_type": "stream",
     "text": [
      "Added hazard and attention to adata.obs.\n",
      "Added patient_hazards to surv.\n",
      "gene missing rate: 0.00%\n",
      "Added hazard and attention to adata_new.obs.\n",
      "Running sim5 with params: {'group_effect': 3, 'high_group_prob': 0.5} and seed: 2\n",
      "  |======================================================================| 100%"
     ]
    },
    {
     "name": "stderr",
     "output_type": "stream",
     "text": [
      "100%|██████████| 100/100 [00:00<00:00, 25010.76it/s]\n"
     ]
    },
    {
     "name": "stdout",
     "output_type": "stream",
     "text": [
      "Running method: scSurvival(VAE)\n",
      "Running method: scSurvival(PCA)\n",
      "Run PCA...\n"
     ]
    },
    {
     "name": "stderr",
     "output_type": "stream",
     "text": [
      "Training:  82%|████████▏ | 410/500 [01:56<00:25,  3.52it/s, atten_entropy=0.755, cox_loss=2.25, loss=2.3] \n"
     ]
    },
    {
     "name": "stdout",
     "output_type": "stream",
     "text": [
      "Added hazard and attention to adata.obs.\n",
      "Added patient_hazards to surv.\n",
      "gene missing rate: 0.00%\n",
      "Added hazard and attention to adata_new.obs.\n",
      "Running method: scSurvival(NMF)\n",
      "NMF feature extraction...\n"
     ]
    },
    {
     "name": "stderr",
     "output_type": "stream",
     "text": [
      "Training: 100%|██████████| 500/500 [02:17<00:00,  3.64it/s, atten_entropy=0.839, cox_loss=3.08, loss=3.22]\n"
     ]
    },
    {
     "name": "stdout",
     "output_type": "stream",
     "text": [
      "Added hazard and attention to adata.obs.\n",
      "Added patient_hazards to surv.\n",
      "gene missing rate: 0.00%\n",
      "Added hazard and attention to adata_new.obs.\n",
      "Running method: scSurvival(HVG2000)\n",
      "Standard scaling feature extraction...\n"
     ]
    },
    {
     "name": "stderr",
     "output_type": "stream",
     "text": [
      "Training:  48%|████▊     | 242/500 [02:32<02:42,  1.59it/s, atten_entropy=0.697, cox_loss=1.92, loss=1.92]\n"
     ]
    },
    {
     "name": "stdout",
     "output_type": "stream",
     "text": [
      "Added hazard and attention to adata.obs.\n",
      "Added patient_hazards to surv.\n",
      "gene missing rate: 0.00%\n",
      "Added hazard and attention to adata_new.obs.\n",
      "Running sim6 with params: {'sub_cluster_ratio': 0.3, 'de_facloc': 0.35} and seed: 2\n",
      "  |======================================================================| 100%"
     ]
    },
    {
     "name": "stderr",
     "output_type": "stream",
     "text": [
      "100%|██████████| 100/100 [00:00<00:00, 100270.24it/s]\n"
     ]
    },
    {
     "name": "stdout",
     "output_type": "stream",
     "text": [
      "Running method: scSurvival(VAE)\n",
      "Running method: scSurvival(PCA)\n",
      "Run PCA...\n"
     ]
    },
    {
     "name": "stderr",
     "output_type": "stream",
     "text": [
      "Training:  89%|████████▉ | 446/500 [02:05<00:15,  3.55it/s, atten_entropy=0.824, cox_loss=2.12, loss=2.25]\n"
     ]
    },
    {
     "name": "stdout",
     "output_type": "stream",
     "text": [
      "Added hazard and attention to adata.obs.\n",
      "Added patient_hazards to surv.\n",
      "gene missing rate: 0.00%\n",
      "Added hazard and attention to adata_new.obs.\n",
      "Running method: scSurvival(NMF)\n",
      "NMF feature extraction...\n"
     ]
    },
    {
     "name": "stderr",
     "output_type": "stream",
     "text": [
      "Training: 100%|██████████| 500/500 [02:19<00:00,  3.58it/s, atten_entropy=0.713, cox_loss=2.81, loss=2.83]\n"
     ]
    },
    {
     "name": "stdout",
     "output_type": "stream",
     "text": [
      "Added hazard and attention to adata.obs.\n",
      "Added patient_hazards to surv.\n",
      "gene missing rate: 0.00%\n",
      "Added hazard and attention to adata_new.obs.\n",
      "Running method: scSurvival(HVG2000)\n",
      "Standard scaling feature extraction...\n"
     ]
    },
    {
     "name": "stderr",
     "output_type": "stream",
     "text": [
      "Training: 100%|██████████| 500/500 [05:12<00:00,  1.60it/s, atten_entropy=0.67, cox_loss=1.79, loss=1.79] \n"
     ]
    },
    {
     "name": "stdout",
     "output_type": "stream",
     "text": [
      "Added hazard and attention to adata.obs.\n",
      "Added patient_hazards to surv.\n",
      "gene missing rate: 0.00%\n",
      "Added hazard and attention to adata_new.obs.\n",
      "Running sim1 with params: {'cell_surv_ratio': 0.15} and seed: 3\n",
      "  |======================================================================| 100%"
     ]
    },
    {
     "name": "stderr",
     "output_type": "stream",
     "text": [
      "100%|██████████| 100/100 [00:00<00:00, 49654.36it/s]\n"
     ]
    },
    {
     "name": "stdout",
     "output_type": "stream",
     "text": [
      "Running method: scSurvival(VAE)\n",
      "Running method: scSurvival(PCA)\n",
      "Run PCA...\n"
     ]
    },
    {
     "name": "stderr",
     "output_type": "stream",
     "text": [
      "Training: 100%|██████████| 500/500 [02:19<00:00,  3.58it/s, atten_entropy=0.754, cox_loss=2.35, loss=2.4] \n"
     ]
    },
    {
     "name": "stdout",
     "output_type": "stream",
     "text": [
      "Added hazard and attention to adata.obs.\n",
      "Added patient_hazards to surv.\n",
      "gene missing rate: 0.00%\n",
      "Added hazard and attention to adata_new.obs.\n",
      "Running method: scSurvival(NMF)\n",
      "NMF feature extraction...\n"
     ]
    },
    {
     "name": "stderr",
     "output_type": "stream",
     "text": [
      "Training:  21%|██        | 106/500 [00:30<01:53,  3.48it/s, atten_entropy=1, cox_loss=3.59, loss=3.89]\n"
     ]
    },
    {
     "name": "stdout",
     "output_type": "stream",
     "text": [
      "Added hazard and attention to adata.obs.\n",
      "Added patient_hazards to surv.\n",
      "gene missing rate: 0.00%\n",
      "Added hazard and attention to adata_new.obs.\n",
      "Running method: scSurvival(HVG2000)\n",
      "Standard scaling feature extraction...\n"
     ]
    },
    {
     "name": "stderr",
     "output_type": "stream",
     "text": [
      "Training:  61%|██████▏   | 307/500 [03:13<02:01,  1.59it/s, atten_entropy=0.699, cox_loss=1.84, loss=1.84]\n"
     ]
    },
    {
     "name": "stdout",
     "output_type": "stream",
     "text": [
      "Added hazard and attention to adata.obs.\n",
      "Added patient_hazards to surv.\n",
      "gene missing rate: 0.00%\n",
      "Added hazard and attention to adata_new.obs.\n",
      "Running sim1 with params: {'cell_surv_ratio': 0.03} and seed: 3\n",
      "  |======================================================================| 100%"
     ]
    },
    {
     "name": "stderr",
     "output_type": "stream",
     "text": [
      "100%|██████████| 100/100 [00:00<00:00, 50075.26it/s]\n"
     ]
    },
    {
     "name": "stdout",
     "output_type": "stream",
     "text": [
      "Running method: scSurvival(VAE)\n",
      "Running method: scSurvival(PCA)\n",
      "Run PCA...\n"
     ]
    },
    {
     "name": "stderr",
     "output_type": "stream",
     "text": [
      "Training: 100%|██████████| 500/500 [02:19<00:00,  3.59it/s, atten_entropy=0.755, cox_loss=2.32, loss=2.57]\n"
     ]
    },
    {
     "name": "stdout",
     "output_type": "stream",
     "text": [
      "Added hazard and attention to adata.obs.\n",
      "Added patient_hazards to surv.\n",
      "gene missing rate: 0.00%\n",
      "Added hazard and attention to adata_new.obs.\n",
      "Running method: scSurvival(NMF)\n",
      "NMF feature extraction...\n"
     ]
    },
    {
     "name": "stderr",
     "output_type": "stream",
     "text": [
      "Training:  26%|██▌       | 129/500 [00:34<01:39,  3.72it/s, atten_entropy=1, cox_loss=3.59, loss=4.09]\n"
     ]
    },
    {
     "name": "stdout",
     "output_type": "stream",
     "text": [
      "Added hazard and attention to adata.obs.\n",
      "Added patient_hazards to surv.\n",
      "gene missing rate: 0.00%\n",
      "Added hazard and attention to adata_new.obs.\n",
      "Running method: scSurvival(HVG2000)\n",
      "Standard scaling feature extraction...\n"
     ]
    },
    {
     "name": "stderr",
     "output_type": "stream",
     "text": [
      "Training: 100%|██████████| 500/500 [05:15<00:00,  1.58it/s, atten_entropy=0.5, cox_loss=1.87, loss=1.87]  \n"
     ]
    },
    {
     "name": "stdout",
     "output_type": "stream",
     "text": [
      "Added hazard and attention to adata.obs.\n",
      "Added patient_hazards to surv.\n",
      "gene missing rate: 0.00%\n",
      "Added hazard and attention to adata_new.obs.\n",
      "Running sim2 with params: {'ds_rate': 0.2} and seed: 3\n",
      "[1] \"Simulating from Batch1 ...\"\n",
      "  |======================================================================| 100%[1] \"\\n\"\n",
      "[1] \"Simulating from Batch2 ...\"\n",
      "  |======================================================================| 100%"
     ]
    },
    {
     "name": "stderr",
     "output_type": "stream",
     "text": [
      "100%|██████████| 100/100 [00:00<00:00, 33317.21it/s]\n"
     ]
    },
    {
     "name": "stdout",
     "output_type": "stream",
     "text": [
      "Running method: scSurvival(VAE)\n",
      "Running method: scSurvival(PCA)\n",
      "Run PCA...\n"
     ]
    },
    {
     "name": "stderr",
     "output_type": "stream",
     "text": [
      "Training: 100%|██████████| 500/500 [02:19<00:00,  3.58it/s, atten_entropy=0.77, cox_loss=2.42, loss=2.49] \n"
     ]
    },
    {
     "name": "stdout",
     "output_type": "stream",
     "text": [
      "Added hazard and attention to adata.obs.\n",
      "Added patient_hazards to surv.\n",
      "gene missing rate: 0.00%\n",
      "Added hazard and attention to adata_new.obs.\n",
      "Running method: scSurvival(NMF)\n",
      "NMF feature extraction...\n"
     ]
    },
    {
     "name": "stderr",
     "output_type": "stream",
     "text": [
      "Training: 100%|██████████| 500/500 [02:13<00:00,  3.75it/s, atten_entropy=0.83, cox_loss=3.02, loss=3.15] \n"
     ]
    },
    {
     "name": "stdout",
     "output_type": "stream",
     "text": [
      "Added hazard and attention to adata.obs.\n",
      "Added patient_hazards to surv.\n",
      "gene missing rate: 0.00%\n",
      "Added hazard and attention to adata_new.obs.\n",
      "Running method: scSurvival(HVG2000)\n",
      "Standard scaling feature extraction...\n"
     ]
    },
    {
     "name": "stderr",
     "output_type": "stream",
     "text": [
      "Training:  51%|█████     | 255/500 [02:39<02:33,  1.60it/s, atten_entropy=0.695, cox_loss=1.78, loss=1.78]\n"
     ]
    },
    {
     "name": "stdout",
     "output_type": "stream",
     "text": [
      "Added hazard and attention to adata.obs.\n",
      "Added patient_hazards to surv.\n",
      "gene missing rate: 0.00%\n",
      "Added hazard and attention to adata_new.obs.\n",
      "Running sim3 with params: {'censor_prob': 0.7, 'tr': 2} and seed: 3\n",
      "  |======================================================================| 100%"
     ]
    },
    {
     "name": "stderr",
     "output_type": "stream",
     "text": [
      "100%|██████████| 100/100 [00:00<00:00, 62452.41it/s]\n"
     ]
    },
    {
     "name": "stdout",
     "output_type": "stream",
     "text": [
      "Running method: scSurvival(VAE)\n",
      "Running method: scSurvival(PCA)\n",
      "Run PCA...\n"
     ]
    },
    {
     "name": "stderr",
     "output_type": "stream",
     "text": [
      "Training:  92%|█████████▏| 460/500 [02:02<00:10,  3.74it/s, atten_entropy=0.784, cox_loss=1.34, loss=1.43]\n"
     ]
    },
    {
     "name": "stdout",
     "output_type": "stream",
     "text": [
      "Added hazard and attention to adata.obs.\n",
      "Added patient_hazards to surv.\n",
      "gene missing rate: 0.00%\n",
      "Added hazard and attention to adata_new.obs.\n",
      "Running method: scSurvival(NMF)\n",
      "NMF feature extraction...\n"
     ]
    },
    {
     "name": "stderr",
     "output_type": "stream",
     "text": [
      "Training:  21%|██        | 103/500 [00:32<02:07,  3.12it/s, atten_entropy=1, cox_loss=3.12, loss=3.42]\n"
     ]
    },
    {
     "name": "stdout",
     "output_type": "stream",
     "text": [
      "Added hazard and attention to adata.obs.\n",
      "Added patient_hazards to surv.\n",
      "gene missing rate: 0.00%\n",
      "Added hazard and attention to adata_new.obs.\n",
      "Running method: scSurvival(HVG2000)\n",
      "Standard scaling feature extraction...\n"
     ]
    },
    {
     "name": "stderr",
     "output_type": "stream",
     "text": [
      "Training:  67%|██████▋   | 334/500 [03:29<01:44,  1.59it/s, atten_entropy=0.7, cox_loss=0.967, loss=0.967]  \n"
     ]
    },
    {
     "name": "stdout",
     "output_type": "stream",
     "text": [
      "Added hazard and attention to adata.obs.\n",
      "Added patient_hazards to surv.\n",
      "gene missing rate: 0.00%\n",
      "Added hazard and attention to adata_new.obs.\n",
      "Running sim4 with params: {'num_bg_clusters': 5} and seed: 3\n",
      "  |======================================================================| 100%"
     ]
    },
    {
     "name": "stderr",
     "output_type": "stream",
     "text": [
      "100%|██████████| 100/100 [00:00<00:00, 99414.65it/s]\n"
     ]
    },
    {
     "name": "stdout",
     "output_type": "stream",
     "text": [
      "Running method: scSurvival(VAE)\n",
      "Running method: scSurvival(PCA)\n",
      "Run PCA...\n"
     ]
    },
    {
     "name": "stderr",
     "output_type": "stream",
     "text": [
      "Training: 100%|██████████| 500/500 [02:13<00:00,  3.73it/s, atten_entropy=0.741, cox_loss=2.37, loss=2.41]\n"
     ]
    },
    {
     "name": "stdout",
     "output_type": "stream",
     "text": [
      "Added hazard and attention to adata.obs.\n",
      "Added patient_hazards to surv.\n",
      "gene missing rate: 0.00%\n",
      "Added hazard and attention to adata_new.obs.\n",
      "Running method: scSurvival(NMF)\n",
      "NMF feature extraction...\n"
     ]
    },
    {
     "name": "stderr",
     "output_type": "stream",
     "text": [
      "Training:  26%|██▌       | 129/500 [00:34<01:40,  3.70it/s, atten_entropy=1, cox_loss=3.57, loss=3.87]\n"
     ]
    },
    {
     "name": "stdout",
     "output_type": "stream",
     "text": [
      "Added hazard and attention to adata.obs.\n",
      "Added patient_hazards to surv.\n",
      "gene missing rate: 0.00%\n",
      "Added hazard and attention to adata_new.obs.\n",
      "Running method: scSurvival(HVG2000)\n",
      "Standard scaling feature extraction...\n"
     ]
    },
    {
     "name": "stderr",
     "output_type": "stream",
     "text": [
      "Training: 100%|██████████| 500/500 [05:17<00:00,  1.58it/s, atten_entropy=0.699, cox_loss=1.84, loss=1.84]\n"
     ]
    },
    {
     "name": "stdout",
     "output_type": "stream",
     "text": [
      "Added hazard and attention to adata.obs.\n",
      "Added patient_hazards to surv.\n",
      "gene missing rate: 0.00%\n",
      "Added hazard and attention to adata_new.obs.\n",
      "Running sim5 with params: {'group_effect': 3, 'high_group_prob': 0.5} and seed: 3\n",
      "  |======================================================================| 100%"
     ]
    },
    {
     "name": "stderr",
     "output_type": "stream",
     "text": [
      "100%|██████████| 100/100 [00:00<00:00, 52586.56it/s]\n"
     ]
    },
    {
     "name": "stdout",
     "output_type": "stream",
     "text": [
      "Running method: scSurvival(VAE)\n",
      "Running method: scSurvival(PCA)\n",
      "Run PCA...\n"
     ]
    },
    {
     "name": "stderr",
     "output_type": "stream",
     "text": [
      "Training: 100%|██████████| 500/500 [02:27<00:00,  3.39it/s, atten_entropy=0.698, cox_loss=2.41, loss=2.41]\n"
     ]
    },
    {
     "name": "stdout",
     "output_type": "stream",
     "text": [
      "Added hazard and attention to adata.obs.\n",
      "Added patient_hazards to surv.\n",
      "gene missing rate: 0.00%\n",
      "Added hazard and attention to adata_new.obs.\n",
      "Running method: scSurvival(NMF)\n",
      "NMF feature extraction...\n"
     ]
    },
    {
     "name": "stderr",
     "output_type": "stream",
     "text": [
      "Training:  21%|██        | 103/500 [00:29<01:55,  3.45it/s, atten_entropy=1, cox_loss=3.58, loss=3.88]\n"
     ]
    },
    {
     "name": "stdout",
     "output_type": "stream",
     "text": [
      "Added hazard and attention to adata.obs.\n",
      "Added patient_hazards to surv.\n",
      "gene missing rate: 0.00%\n",
      "Added hazard and attention to adata_new.obs.\n",
      "Running method: scSurvival(HVG2000)\n",
      "Standard scaling feature extraction...\n"
     ]
    },
    {
     "name": "stderr",
     "output_type": "stream",
     "text": [
      "Training:  81%|████████  | 403/500 [04:14<01:01,  1.58it/s, atten_entropy=0.694, cox_loss=1.76, loss=1.76]\n"
     ]
    },
    {
     "name": "stdout",
     "output_type": "stream",
     "text": [
      "Added hazard and attention to adata.obs.\n",
      "Added patient_hazards to surv.\n",
      "gene missing rate: 0.00%\n",
      "Added hazard and attention to adata_new.obs.\n",
      "Running sim6 with params: {'sub_cluster_ratio': 0.3, 'de_facloc': 0.35} and seed: 3\n",
      "  |======================================================================| 100%"
     ]
    },
    {
     "name": "stderr",
     "output_type": "stream",
     "text": [
      "100%|██████████| 100/100 [00:00<00:00, 48088.79it/s]\n"
     ]
    },
    {
     "name": "stdout",
     "output_type": "stream",
     "text": [
      "Running method: scSurvival(VAE)\n",
      "Running method: scSurvival(PCA)\n",
      "Run PCA...\n"
     ]
    },
    {
     "name": "stderr",
     "output_type": "stream",
     "text": [
      "Training: 100%|██████████| 500/500 [02:22<00:00,  3.51it/s, atten_entropy=0.743, cox_loss=2.38, loss=2.42]\n"
     ]
    },
    {
     "name": "stdout",
     "output_type": "stream",
     "text": [
      "Added hazard and attention to adata.obs.\n",
      "Added patient_hazards to surv.\n",
      "gene missing rate: 0.00%\n",
      "Added hazard and attention to adata_new.obs.\n",
      "Running method: scSurvival(NMF)\n",
      "NMF feature extraction...\n"
     ]
    },
    {
     "name": "stderr",
     "output_type": "stream",
     "text": [
      "Training: 100%|██████████| 500/500 [02:23<00:00,  3.49it/s, atten_entropy=0.699, cox_loss=2.8, loss=2.8]  \n"
     ]
    },
    {
     "name": "stdout",
     "output_type": "stream",
     "text": [
      "Added hazard and attention to adata.obs.\n",
      "Added patient_hazards to surv.\n",
      "gene missing rate: 0.00%\n",
      "Added hazard and attention to adata_new.obs.\n",
      "Running method: scSurvival(HVG2000)\n",
      "Standard scaling feature extraction...\n"
     ]
    },
    {
     "name": "stderr",
     "output_type": "stream",
     "text": [
      "Training:  20%|██        | 101/500 [01:02<04:08,  1.61it/s, atten_entropy=0.736, cox_loss=3.61, loss=3.65]\n"
     ]
    },
    {
     "name": "stdout",
     "output_type": "stream",
     "text": [
      "Added hazard and attention to adata.obs.\n",
      "Added patient_hazards to surv.\n",
      "gene missing rate: 0.00%\n",
      "Added hazard and attention to adata_new.obs.\n",
      "Running sim1 with params: {'cell_surv_ratio': 0.15} and seed: 4\n",
      "  |======================================================================| 100%"
     ]
    },
    {
     "name": "stderr",
     "output_type": "stream",
     "text": [
      "100%|██████████| 100/100 [00:00<00:00, 99983.41it/s]\n"
     ]
    },
    {
     "name": "stdout",
     "output_type": "stream",
     "text": [
      "Running method: scSurvival(VAE)\n",
      "Running method: scSurvival(PCA)\n",
      "Run PCA...\n"
     ]
    },
    {
     "name": "stderr",
     "output_type": "stream",
     "text": [
      "Training:  81%|████████  | 403/500 [01:54<00:27,  3.51it/s, atten_entropy=0.747, cox_loss=2.3, loss=2.35] \n"
     ]
    },
    {
     "name": "stdout",
     "output_type": "stream",
     "text": [
      "Added hazard and attention to adata.obs.\n",
      "Added patient_hazards to surv.\n",
      "gene missing rate: 0.00%\n",
      "Added hazard and attention to adata_new.obs.\n",
      "Running method: scSurvival(NMF)\n",
      "NMF feature extraction...\n"
     ]
    },
    {
     "name": "stderr",
     "output_type": "stream",
     "text": [
      "Training:  21%|██        | 103/500 [00:30<01:57,  3.39it/s, atten_entropy=1, cox_loss=3.59, loss=3.89]\n"
     ]
    },
    {
     "name": "stdout",
     "output_type": "stream",
     "text": [
      "Added hazard and attention to adata.obs.\n",
      "Added patient_hazards to surv.\n",
      "gene missing rate: 0.00%\n",
      "Added hazard and attention to adata_new.obs.\n",
      "Running method: scSurvival(HVG2000)\n",
      "Standard scaling feature extraction...\n"
     ]
    },
    {
     "name": "stderr",
     "output_type": "stream",
     "text": [
      "Training:  50%|█████     | 250/500 [02:36<02:36,  1.59it/s, atten_entropy=0.698, cox_loss=1.77, loss=1.77]\n"
     ]
    },
    {
     "name": "stdout",
     "output_type": "stream",
     "text": [
      "Added hazard and attention to adata.obs.\n",
      "Added patient_hazards to surv.\n",
      "gene missing rate: 0.00%\n",
      "Added hazard and attention to adata_new.obs.\n",
      "Running sim1 with params: {'cell_surv_ratio': 0.03} and seed: 4\n",
      "  |======================================================================| 100%"
     ]
    },
    {
     "name": "stderr",
     "output_type": "stream",
     "text": [
      "100%|██████████| 100/100 [00:00<00:00, 51268.84it/s]\n"
     ]
    },
    {
     "name": "stdout",
     "output_type": "stream",
     "text": [
      "Running method: scSurvival(VAE)\n",
      "Running method: scSurvival(PCA)\n",
      "Run PCA...\n"
     ]
    },
    {
     "name": "stderr",
     "output_type": "stream",
     "text": [
      "Training: 100%|██████████| 500/500 [02:23<00:00,  3.49it/s, atten_entropy=0.741, cox_loss=2.32, loss=2.56]\n"
     ]
    },
    {
     "name": "stdout",
     "output_type": "stream",
     "text": [
      "Added hazard and attention to adata.obs.\n",
      "Added patient_hazards to surv.\n",
      "gene missing rate: 0.00%\n",
      "Added hazard and attention to adata_new.obs.\n",
      "Running method: scSurvival(NMF)\n",
      "NMF feature extraction...\n"
     ]
    },
    {
     "name": "stderr",
     "output_type": "stream",
     "text": [
      "Training:  21%|██        | 103/500 [00:31<01:59,  3.31it/s, atten_entropy=1, cox_loss=3.57, loss=4.07]\n"
     ]
    },
    {
     "name": "stdout",
     "output_type": "stream",
     "text": [
      "Added hazard and attention to adata.obs.\n",
      "Added patient_hazards to surv.\n",
      "gene missing rate: 0.00%\n",
      "Added hazard and attention to adata_new.obs.\n",
      "Running method: scSurvival(HVG2000)\n",
      "Standard scaling feature extraction...\n"
     ]
    },
    {
     "name": "stderr",
     "output_type": "stream",
     "text": [
      "Training:  47%|████▋     | 235/500 [02:28<02:47,  1.59it/s, atten_entropy=0.5, cox_loss=1.77, loss=1.77]  \n"
     ]
    },
    {
     "name": "stdout",
     "output_type": "stream",
     "text": [
      "Added hazard and attention to adata.obs.\n",
      "Added patient_hazards to surv.\n",
      "gene missing rate: 0.00%\n",
      "Added hazard and attention to adata_new.obs.\n",
      "Running sim2 with params: {'ds_rate': 0.2} and seed: 4\n",
      "[1] \"Simulating from Batch1 ...\"\n",
      "  |======================================================================| 100%[1] \"\\n\"\n",
      "[1] \"Simulating from Batch2 ...\"\n",
      "  |======================================================================| 100%"
     ]
    },
    {
     "name": "stderr",
     "output_type": "stream",
     "text": [
      "100%|██████████| 100/100 [00:00<00:00, 20102.10it/s]\n"
     ]
    },
    {
     "name": "stdout",
     "output_type": "stream",
     "text": [
      "Running method: scSurvival(VAE)\n",
      "Running method: scSurvival(PCA)\n",
      "Run PCA...\n"
     ]
    },
    {
     "name": "stderr",
     "output_type": "stream",
     "text": [
      "Training: 100%|██████████| 500/500 [02:14<00:00,  3.71it/s, atten_entropy=0.764, cox_loss=2.61, loss=2.68]\n"
     ]
    },
    {
     "name": "stdout",
     "output_type": "stream",
     "text": [
      "Added hazard and attention to adata.obs.\n",
      "Added patient_hazards to surv.\n",
      "gene missing rate: 0.00%\n",
      "Added hazard and attention to adata_new.obs.\n",
      "Running method: scSurvival(NMF)\n",
      "NMF feature extraction...\n"
     ]
    },
    {
     "name": "stderr",
     "output_type": "stream",
     "text": [
      "Training:  26%|██▌       | 129/500 [00:36<01:45,  3.51it/s, atten_entropy=0.999, cox_loss=3.57, loss=3.87]\n"
     ]
    },
    {
     "name": "stdout",
     "output_type": "stream",
     "text": [
      "Added hazard and attention to adata.obs.\n",
      "Added patient_hazards to surv.\n",
      "gene missing rate: 0.00%\n",
      "Added hazard and attention to adata_new.obs.\n",
      "Running method: scSurvival(HVG2000)\n",
      "Standard scaling feature extraction...\n"
     ]
    },
    {
     "name": "stderr",
     "output_type": "stream",
     "text": [
      "Training:  98%|█████████▊| 488/500 [05:06<00:07,  1.59it/s, atten_entropy=0.698, cox_loss=1.88, loss=1.88]\n"
     ]
    },
    {
     "name": "stdout",
     "output_type": "stream",
     "text": [
      "Added hazard and attention to adata.obs.\n",
      "Added patient_hazards to surv.\n",
      "gene missing rate: 0.00%\n",
      "Added hazard and attention to adata_new.obs.\n",
      "Running sim3 with params: {'censor_prob': 0.7, 'tr': 2} and seed: 4\n",
      "  |======================================================================| 100%"
     ]
    },
    {
     "name": "stderr",
     "output_type": "stream",
     "text": [
      "100%|██████████| 100/100 [00:00<00:00, 33112.05it/s]\n"
     ]
    },
    {
     "name": "stdout",
     "output_type": "stream",
     "text": [
      "Running method: scSurvival(VAE)\n",
      "Running method: scSurvival(PCA)\n",
      "Run PCA...\n"
     ]
    },
    {
     "name": "stderr",
     "output_type": "stream",
     "text": [
      "Training: 100%|██████████| 500/500 [02:23<00:00,  3.50it/s, atten_entropy=0.737, cox_loss=1.52, loss=1.56]\n"
     ]
    },
    {
     "name": "stdout",
     "output_type": "stream",
     "text": [
      "Added hazard and attention to adata.obs.\n",
      "Added patient_hazards to surv.\n",
      "gene missing rate: 0.00%\n",
      "Added hazard and attention to adata_new.obs.\n",
      "Running method: scSurvival(NMF)\n",
      "NMF feature extraction...\n"
     ]
    },
    {
     "name": "stderr",
     "output_type": "stream",
     "text": [
      "Training: 100%|██████████| 500/500 [02:25<00:00,  3.43it/s, atten_entropy=0.76, cox_loss=2.64, loss=2.69] \n"
     ]
    },
    {
     "name": "stdout",
     "output_type": "stream",
     "text": [
      "Added hazard and attention to adata.obs.\n",
      "Added patient_hazards to surv.\n",
      "gene missing rate: 0.00%\n",
      "Added hazard and attention to adata_new.obs.\n",
      "Running method: scSurvival(HVG2000)\n",
      "Standard scaling feature extraction...\n"
     ]
    },
    {
     "name": "stderr",
     "output_type": "stream",
     "text": [
      "Training:  78%|███████▊  | 390/500 [04:04<01:08,  1.60it/s, atten_entropy=0.68, cox_loss=1.05, loss=1.05]   \n"
     ]
    },
    {
     "name": "stdout",
     "output_type": "stream",
     "text": [
      "Added hazard and attention to adata.obs.\n",
      "Added patient_hazards to surv.\n",
      "gene missing rate: 0.00%\n",
      "Added hazard and attention to adata_new.obs.\n",
      "Running sim4 with params: {'num_bg_clusters': 5} and seed: 4\n",
      "  |======================================================================| 100%"
     ]
    },
    {
     "name": "stderr",
     "output_type": "stream",
     "text": [
      "100%|██████████| 100/100 [00:00<00:00, 16373.13it/s]\n"
     ]
    },
    {
     "name": "stdout",
     "output_type": "stream",
     "text": [
      "Running method: scSurvival(VAE)\n",
      "Running method: scSurvival(PCA)\n",
      "Run PCA...\n"
     ]
    },
    {
     "name": "stderr",
     "output_type": "stream",
     "text": [
      "Training: 100%|██████████| 500/500 [02:14<00:00,  3.71it/s, atten_entropy=0.694, cox_loss=2.33, loss=2.33]\n"
     ]
    },
    {
     "name": "stdout",
     "output_type": "stream",
     "text": [
      "Added hazard and attention to adata.obs.\n",
      "Added patient_hazards to surv.\n",
      "gene missing rate: 0.00%\n",
      "Added hazard and attention to adata_new.obs.\n",
      "Running method: scSurvival(NMF)\n",
      "NMF feature extraction...\n"
     ]
    },
    {
     "name": "stderr",
     "output_type": "stream",
     "text": [
      "Training:  26%|██▌       | 129/500 [00:35<01:42,  3.61it/s, atten_entropy=1, cox_loss=3.58, loss=3.88]\n"
     ]
    },
    {
     "name": "stdout",
     "output_type": "stream",
     "text": [
      "Added hazard and attention to adata.obs.\n",
      "Added patient_hazards to surv.\n",
      "gene missing rate: 0.00%\n",
      "Added hazard and attention to adata_new.obs.\n",
      "Running method: scSurvival(HVG2000)\n",
      "Standard scaling feature extraction...\n"
     ]
    },
    {
     "name": "stderr",
     "output_type": "stream",
     "text": [
      "Training:  77%|███████▋  | 385/500 [04:01<01:12,  1.59it/s, atten_entropy=0.694, cox_loss=1.82, loss=1.82]\n"
     ]
    },
    {
     "name": "stdout",
     "output_type": "stream",
     "text": [
      "Added hazard and attention to adata.obs.\n",
      "Added patient_hazards to surv.\n",
      "gene missing rate: 0.00%\n",
      "Added hazard and attention to adata_new.obs.\n",
      "Running sim5 with params: {'group_effect': 3, 'high_group_prob': 0.5} and seed: 4\n",
      "  |======================================================================| 100%"
     ]
    },
    {
     "name": "stderr",
     "output_type": "stream",
     "text": [
      "100%|██████████| 100/100 [00:00<00:00, 105094.06it/s]\n"
     ]
    },
    {
     "name": "stdout",
     "output_type": "stream",
     "text": [
      "Running method: scSurvival(VAE)\n",
      "Running method: scSurvival(PCA)\n",
      "Run PCA...\n"
     ]
    },
    {
     "name": "stderr",
     "output_type": "stream",
     "text": [
      "Training: 100%|██████████| 500/500 [02:17<00:00,  3.62it/s, atten_entropy=0.698, cox_loss=2.66, loss=2.66]\n"
     ]
    },
    {
     "name": "stdout",
     "output_type": "stream",
     "text": [
      "Added hazard and attention to adata.obs.\n",
      "Added patient_hazards to surv.\n",
      "gene missing rate: 0.00%\n",
      "Added hazard and attention to adata_new.obs.\n",
      "Running method: scSurvival(NMF)\n",
      "NMF feature extraction...\n"
     ]
    },
    {
     "name": "stderr",
     "output_type": "stream",
     "text": [
      "Training: 100%|██████████| 500/500 [02:16<00:00,  3.66it/s, atten_entropy=0.779, cox_loss=3.12, loss=3.2] \n"
     ]
    },
    {
     "name": "stdout",
     "output_type": "stream",
     "text": [
      "Added hazard and attention to adata.obs.\n",
      "Added patient_hazards to surv.\n",
      "gene missing rate: 0.00%\n",
      "Added hazard and attention to adata_new.obs.\n",
      "Running method: scSurvival(HVG2000)\n",
      "Standard scaling feature extraction...\n"
     ]
    },
    {
     "name": "stderr",
     "output_type": "stream",
     "text": [
      "Training:  69%|██████▉   | 345/500 [03:36<01:37,  1.59it/s, atten_entropy=0.699, cox_loss=1.86, loss=1.86]\n"
     ]
    },
    {
     "name": "stdout",
     "output_type": "stream",
     "text": [
      "Added hazard and attention to adata.obs.\n",
      "Added patient_hazards to surv.\n",
      "gene missing rate: 0.00%\n",
      "Added hazard and attention to adata_new.obs.\n",
      "Running sim6 with params: {'sub_cluster_ratio': 0.3, 'de_facloc': 0.35} and seed: 4\n",
      "  |======================================================================| 100%"
     ]
    },
    {
     "name": "stderr",
     "output_type": "stream",
     "text": [
      "100%|██████████| 100/100 [00:00<00:00, 100150.53it/s]\n"
     ]
    },
    {
     "name": "stdout",
     "output_type": "stream",
     "text": [
      "Running method: scSurvival(VAE)\n",
      "Running method: scSurvival(PCA)\n",
      "Run PCA...\n"
     ]
    },
    {
     "name": "stderr",
     "output_type": "stream",
     "text": [
      "Training:  81%|████████  | 403/500 [01:56<00:28,  3.45it/s, atten_entropy=0.827, cox_loss=2.27, loss=2.4] \n"
     ]
    },
    {
     "name": "stdout",
     "output_type": "stream",
     "text": [
      "Added hazard and attention to adata.obs.\n",
      "Added patient_hazards to surv.\n",
      "gene missing rate: 0.00%\n",
      "Added hazard and attention to adata_new.obs.\n",
      "Running method: scSurvival(NMF)\n",
      "NMF feature extraction...\n"
     ]
    },
    {
     "name": "stderr",
     "output_type": "stream",
     "text": [
      "Training: 100%|██████████| 500/500 [02:14<00:00,  3.72it/s, atten_entropy=0.696, cox_loss=2.57, loss=2.57]\n"
     ]
    },
    {
     "name": "stdout",
     "output_type": "stream",
     "text": [
      "Added hazard and attention to adata.obs.\n",
      "Added patient_hazards to surv.\n",
      "gene missing rate: 0.00%\n",
      "Added hazard and attention to adata_new.obs.\n",
      "Running method: scSurvival(HVG2000)\n",
      "Standard scaling feature extraction...\n"
     ]
    },
    {
     "name": "stderr",
     "output_type": "stream",
     "text": [
      "Training:  20%|██        | 101/500 [01:02<04:05,  1.63it/s, atten_entropy=0.602, cox_loss=3.55, loss=3.55]\n"
     ]
    },
    {
     "name": "stdout",
     "output_type": "stream",
     "text": [
      "Added hazard and attention to adata.obs.\n",
      "Added patient_hazards to surv.\n",
      "gene missing rate: 0.00%\n",
      "Added hazard and attention to adata_new.obs.\n",
      "Running sim1 with params: {'cell_surv_ratio': 0.15} and seed: 5\n",
      "  |======================================================================| 100%"
     ]
    },
    {
     "name": "stderr",
     "output_type": "stream",
     "text": [
      "100%|██████████| 100/100 [00:00<00:00, 99959.58it/s]\n"
     ]
    },
    {
     "name": "stdout",
     "output_type": "stream",
     "text": [
      "Running method: scSurvival(VAE)\n",
      "Running method: scSurvival(PCA)\n",
      "Run PCA...\n"
     ]
    },
    {
     "name": "stderr",
     "output_type": "stream",
     "text": [
      "Training: 100%|██████████| 500/500 [02:21<00:00,  3.54it/s, atten_entropy=0.745, cox_loss=2.24, loss=2.29]\n"
     ]
    },
    {
     "name": "stdout",
     "output_type": "stream",
     "text": [
      "Added hazard and attention to adata.obs.\n",
      "Added patient_hazards to surv.\n",
      "gene missing rate: 0.00%\n",
      "Added hazard and attention to adata_new.obs.\n",
      "Running method: scSurvival(NMF)\n",
      "NMF feature extraction...\n"
     ]
    },
    {
     "name": "stderr",
     "output_type": "stream",
     "text": [
      "Training: 100%|██████████| 500/500 [02:14<00:00,  3.72it/s, atten_entropy=0.831, cox_loss=2.67, loss=2.8] \n"
     ]
    },
    {
     "name": "stdout",
     "output_type": "stream",
     "text": [
      "Added hazard and attention to adata.obs.\n",
      "Added patient_hazards to surv.\n",
      "gene missing rate: 0.00%\n",
      "Added hazard and attention to adata_new.obs.\n",
      "Running method: scSurvival(HVG2000)\n",
      "Standard scaling feature extraction...\n"
     ]
    },
    {
     "name": "stderr",
     "output_type": "stream",
     "text": [
      "Training:  64%|██████▍   | 321/500 [03:20<01:51,  1.60it/s, atten_entropy=0.695, cox_loss=1.77, loss=1.77]\n"
     ]
    },
    {
     "name": "stdout",
     "output_type": "stream",
     "text": [
      "Added hazard and attention to adata.obs.\n",
      "Added patient_hazards to surv.\n",
      "gene missing rate: 0.00%\n",
      "Added hazard and attention to adata_new.obs.\n",
      "Running sim1 with params: {'cell_surv_ratio': 0.03} and seed: 5\n",
      "  |======================================================================| 100%"
     ]
    },
    {
     "name": "stderr",
     "output_type": "stream",
     "text": [
      "100%|██████████| 100/100 [00:00<00:00, 91698.82it/s]\n"
     ]
    },
    {
     "name": "stdout",
     "output_type": "stream",
     "text": [
      "Running method: scSurvival(VAE)\n",
      "Running method: scSurvival(PCA)\n",
      "Run PCA...\n"
     ]
    },
    {
     "name": "stderr",
     "output_type": "stream",
     "text": [
      "Training: 100%|██████████| 500/500 [02:14<00:00,  3.73it/s, atten_entropy=0.694, cox_loss=2.43, loss=2.63]\n"
     ]
    },
    {
     "name": "stdout",
     "output_type": "stream",
     "text": [
      "Added hazard and attention to adata.obs.\n",
      "Added patient_hazards to surv.\n",
      "gene missing rate: 0.00%\n",
      "Added hazard and attention to adata_new.obs.\n",
      "Running method: scSurvival(NMF)\n",
      "NMF feature extraction...\n"
     ]
    },
    {
     "name": "stderr",
     "output_type": "stream",
     "text": [
      "Training:  21%|██        | 103/500 [00:28<01:48,  3.65it/s, atten_entropy=1, cox_loss=3.51, loss=4.01]\n"
     ]
    },
    {
     "name": "stdout",
     "output_type": "stream",
     "text": [
      "Added hazard and attention to adata.obs.\n",
      "Added patient_hazards to surv.\n",
      "gene missing rate: 0.00%\n",
      "Added hazard and attention to adata_new.obs.\n",
      "Running method: scSurvival(HVG2000)\n",
      "Standard scaling feature extraction...\n"
     ]
    },
    {
     "name": "stderr",
     "output_type": "stream",
     "text": [
      "Training:  51%|█████     | 255/500 [02:40<02:33,  1.59it/s, atten_entropy=0.5, cox_loss=1.82, loss=1.82]  \n"
     ]
    },
    {
     "name": "stdout",
     "output_type": "stream",
     "text": [
      "Added hazard and attention to adata.obs.\n",
      "Added patient_hazards to surv.\n",
      "gene missing rate: 0.00%\n",
      "Added hazard and attention to adata_new.obs.\n",
      "Running sim2 with params: {'ds_rate': 0.2} and seed: 5\n",
      "[1] \"Simulating from Batch1 ...\"\n",
      "  |======================================================================| 100%[1] \"\\n\"\n",
      "[1] \"Simulating from Batch2 ...\"\n",
      "  |======================================================================| 100%"
     ]
    },
    {
     "name": "stderr",
     "output_type": "stream",
     "text": [
      "100%|██████████| 100/100 [00:00<00:00, 24967.58it/s]\n"
     ]
    },
    {
     "name": "stdout",
     "output_type": "stream",
     "text": [
      "Running method: scSurvival(VAE)\n",
      "Running method: scSurvival(PCA)\n",
      "Run PCA...\n"
     ]
    },
    {
     "name": "stderr",
     "output_type": "stream",
     "text": [
      "Training: 100%|██████████| 500/500 [02:14<00:00,  3.72it/s, atten_entropy=0.753, cox_loss=2.52, loss=2.57]\n"
     ]
    },
    {
     "name": "stdout",
     "output_type": "stream",
     "text": [
      "Added hazard and attention to adata.obs.\n",
      "Added patient_hazards to surv.\n",
      "gene missing rate: 0.00%\n",
      "Added hazard and attention to adata_new.obs.\n",
      "Running method: scSurvival(NMF)\n",
      "NMF feature extraction...\n"
     ]
    },
    {
     "name": "stderr",
     "output_type": "stream",
     "text": [
      "Training:  21%|██        | 103/500 [00:28<01:48,  3.66it/s, atten_entropy=1, cox_loss=3.58, loss=3.88]\n"
     ]
    },
    {
     "name": "stdout",
     "output_type": "stream",
     "text": [
      "Added hazard and attention to adata.obs.\n",
      "Added patient_hazards to surv.\n",
      "gene missing rate: 0.00%\n",
      "Added hazard and attention to adata_new.obs.\n",
      "Running method: scSurvival(HVG2000)\n",
      "Standard scaling feature extraction...\n"
     ]
    },
    {
     "name": "stderr",
     "output_type": "stream",
     "text": [
      "Training: 100%|██████████| 500/500 [05:12<00:00,  1.60it/s, atten_entropy=0.699, cox_loss=1.78, loss=1.78]\n"
     ]
    },
    {
     "name": "stdout",
     "output_type": "stream",
     "text": [
      "Added hazard and attention to adata.obs.\n",
      "Added patient_hazards to surv.\n",
      "gene missing rate: 0.00%\n",
      "Added hazard and attention to adata_new.obs.\n",
      "Running sim3 with params: {'censor_prob': 0.7, 'tr': 2} and seed: 5\n",
      "  |======================================================================| 100%"
     ]
    },
    {
     "name": "stderr",
     "output_type": "stream",
     "text": [
      "100%|██████████| 100/100 [00:00<00:00, 24532.40it/s]\n"
     ]
    },
    {
     "name": "stdout",
     "output_type": "stream",
     "text": [
      "Running method: scSurvival(VAE)\n",
      "Running method: scSurvival(PCA)\n",
      "Run PCA...\n"
     ]
    },
    {
     "name": "stderr",
     "output_type": "stream",
     "text": [
      "Training: 100%|██████████| 500/500 [02:14<00:00,  3.71it/s, atten_entropy=0.771, cox_loss=1.32, loss=1.39]\n"
     ]
    },
    {
     "name": "stdout",
     "output_type": "stream",
     "text": [
      "Added hazard and attention to adata.obs.\n",
      "Added patient_hazards to surv.\n",
      "gene missing rate: 0.00%\n",
      "Added hazard and attention to adata_new.obs.\n",
      "Running method: scSurvival(NMF)\n",
      "NMF feature extraction...\n"
     ]
    },
    {
     "name": "stderr",
     "output_type": "stream",
     "text": [
      "Training:  25%|██▌       | 126/500 [00:33<01:40,  3.73it/s, atten_entropy=1, cox_loss=2.99, loss=3.28]\n"
     ]
    },
    {
     "name": "stdout",
     "output_type": "stream",
     "text": [
      "Added hazard and attention to adata.obs.\n",
      "Added patient_hazards to surv.\n",
      "gene missing rate: 0.00%\n",
      "Added hazard and attention to adata_new.obs.\n",
      "Running method: scSurvival(HVG2000)\n",
      "Standard scaling feature extraction...\n"
     ]
    },
    {
     "name": "stderr",
     "output_type": "stream",
     "text": [
      "Training:  51%|█████     | 256/500 [02:38<02:30,  1.62it/s, atten_entropy=0.686, cox_loss=0.901, loss=0.901]\n"
     ]
    },
    {
     "name": "stdout",
     "output_type": "stream",
     "text": [
      "Added hazard and attention to adata.obs.\n",
      "Added patient_hazards to surv.\n",
      "gene missing rate: 0.00%\n",
      "Added hazard and attention to adata_new.obs.\n",
      "Running sim4 with params: {'num_bg_clusters': 5} and seed: 5\n",
      "  |======================================================================| 100%"
     ]
    },
    {
     "name": "stderr",
     "output_type": "stream",
     "text": [
      "100%|██████████| 100/100 [00:00<00:00, 13313.98it/s]\n"
     ]
    },
    {
     "name": "stdout",
     "output_type": "stream",
     "text": [
      "Running method: scSurvival(VAE)\n",
      "Running method: scSurvival(PCA)\n",
      "Run PCA...\n"
     ]
    },
    {
     "name": "stderr",
     "output_type": "stream",
     "text": [
      "Training: 100%|██████████| 500/500 [02:15<00:00,  3.70it/s, atten_entropy=0.697, cox_loss=2.29, loss=2.29]\n"
     ]
    },
    {
     "name": "stdout",
     "output_type": "stream",
     "text": [
      "Added hazard and attention to adata.obs.\n",
      "Added patient_hazards to surv.\n",
      "gene missing rate: 0.00%\n",
      "Added hazard and attention to adata_new.obs.\n",
      "Running method: scSurvival(NMF)\n",
      "NMF feature extraction...\n"
     ]
    },
    {
     "name": "stderr",
     "output_type": "stream",
     "text": [
      "Training: 100%|██████████| 500/500 [02:14<00:00,  3.73it/s, atten_entropy=0.912, cox_loss=2.78, loss=2.99]\n"
     ]
    },
    {
     "name": "stdout",
     "output_type": "stream",
     "text": [
      "Added hazard and attention to adata.obs.\n",
      "Added patient_hazards to surv.\n",
      "gene missing rate: 0.00%\n",
      "Added hazard and attention to adata_new.obs.\n",
      "Running method: scSurvival(HVG2000)\n",
      "Standard scaling feature extraction...\n"
     ]
    },
    {
     "name": "stderr",
     "output_type": "stream",
     "text": [
      "Training:  76%|███████▋  | 382/500 [03:58<01:13,  1.60it/s, atten_entropy=0.698, cox_loss=1.73, loss=1.73]\n"
     ]
    },
    {
     "name": "stdout",
     "output_type": "stream",
     "text": [
      "Added hazard and attention to adata.obs.\n",
      "Added patient_hazards to surv.\n",
      "gene missing rate: 0.00%\n",
      "Added hazard and attention to adata_new.obs.\n",
      "Running sim5 with params: {'group_effect': 3, 'high_group_prob': 0.5} and seed: 5\n",
      "  |======================================================================| 100%"
     ]
    },
    {
     "name": "stderr",
     "output_type": "stream",
     "text": [
      "100%|██████████| 100/100 [00:00<00:00, 99391.09it/s]\n"
     ]
    },
    {
     "name": "stdout",
     "output_type": "stream",
     "text": [
      "Running method: scSurvival(VAE)\n",
      "Running method: scSurvival(PCA)\n",
      "Run PCA...\n"
     ]
    },
    {
     "name": "stderr",
     "output_type": "stream",
     "text": [
      "Training: 100%|██████████| 500/500 [02:14<00:00,  3.72it/s, atten_entropy=0.716, cox_loss=2.4, loss=2.42] \n"
     ]
    },
    {
     "name": "stdout",
     "output_type": "stream",
     "text": [
      "Added hazard and attention to adata.obs.\n",
      "Added patient_hazards to surv.\n",
      "gene missing rate: 0.00%\n",
      "Added hazard and attention to adata_new.obs.\n",
      "Running method: scSurvival(NMF)\n",
      "NMF feature extraction...\n"
     ]
    },
    {
     "name": "stderr",
     "output_type": "stream",
     "text": [
      "Training: 100%|██████████| 500/500 [02:12<00:00,  3.78it/s, atten_entropy=0.861, cox_loss=2.95, loss=3.11]\n"
     ]
    },
    {
     "name": "stdout",
     "output_type": "stream",
     "text": [
      "Added hazard and attention to adata.obs.\n",
      "Added patient_hazards to surv.\n",
      "gene missing rate: 0.00%\n",
      "Added hazard and attention to adata_new.obs.\n",
      "Running method: scSurvival(HVG2000)\n",
      "Standard scaling feature extraction...\n"
     ]
    },
    {
     "name": "stderr",
     "output_type": "stream",
     "text": [
      "Training:  67%|██████▋   | 336/500 [03:30<01:42,  1.60it/s, atten_entropy=0.698, cox_loss=1.95, loss=1.95]\n"
     ]
    },
    {
     "name": "stdout",
     "output_type": "stream",
     "text": [
      "Added hazard and attention to adata.obs.\n",
      "Added patient_hazards to surv.\n",
      "gene missing rate: 0.00%\n",
      "Added hazard and attention to adata_new.obs.\n",
      "Running sim6 with params: {'sub_cluster_ratio': 0.3, 'de_facloc': 0.35} and seed: 5\n",
      "  |======================================================================| 100%"
     ]
    },
    {
     "name": "stderr",
     "output_type": "stream",
     "text": [
      "100%|██████████| 100/100 [00:00<00:00, 99414.65it/s]\n"
     ]
    },
    {
     "name": "stdout",
     "output_type": "stream",
     "text": [
      "Running method: scSurvival(VAE)\n",
      "Running method: scSurvival(PCA)\n",
      "Run PCA...\n"
     ]
    },
    {
     "name": "stderr",
     "output_type": "stream",
     "text": [
      "Training: 100%|██████████| 500/500 [02:13<00:00,  3.75it/s, atten_entropy=0.784, cox_loss=2.38, loss=2.47]\n"
     ]
    },
    {
     "name": "stdout",
     "output_type": "stream",
     "text": [
      "Added hazard and attention to adata.obs.\n",
      "Added patient_hazards to surv.\n",
      "gene missing rate: 0.00%\n",
      "Added hazard and attention to adata_new.obs.\n",
      "Running method: scSurvival(NMF)\n",
      "NMF feature extraction...\n"
     ]
    },
    {
     "name": "stderr",
     "output_type": "stream",
     "text": [
      "Training: 100%|██████████| 500/500 [02:12<00:00,  3.77it/s, atten_entropy=0.764, cox_loss=2.73, loss=2.79]\n"
     ]
    },
    {
     "name": "stdout",
     "output_type": "stream",
     "text": [
      "Added hazard and attention to adata.obs.\n",
      "Added patient_hazards to surv.\n",
      "gene missing rate: 0.00%\n",
      "Added hazard and attention to adata_new.obs.\n",
      "Running method: scSurvival(HVG2000)\n",
      "Standard scaling feature extraction...\n"
     ]
    },
    {
     "name": "stderr",
     "output_type": "stream",
     "text": [
      "Training:  23%|██▎       | 116/500 [01:10<03:53,  1.65it/s, atten_entropy=0.666, cox_loss=3.53, loss=3.53]\n"
     ]
    },
    {
     "name": "stdout",
     "output_type": "stream",
     "text": [
      "Added hazard and attention to adata.obs.\n",
      "Added patient_hazards to surv.\n",
      "gene missing rate: 0.00%\n",
      "Added hazard and attention to adata_new.obs.\n",
      "Running sim1 with params: {'cell_surv_ratio': 0.15} and seed: 6\n",
      "  |======================================================================| 100%"
     ]
    },
    {
     "name": "stderr",
     "output_type": "stream",
     "text": [
      "100%|██████████| 100/100 [00:00<00:00, 99273.47it/s]\n"
     ]
    },
    {
     "name": "stdout",
     "output_type": "stream",
     "text": [
      "Running method: scSurvival(VAE)\n",
      "Running method: scSurvival(PCA)\n",
      "Run PCA...\n"
     ]
    },
    {
     "name": "stderr",
     "output_type": "stream",
     "text": [
      "Training:  64%|██████▍   | 319/500 [01:28<00:50,  3.60it/s, atten_entropy=0.793, cox_loss=2.32, loss=2.41]\n"
     ]
    },
    {
     "name": "stdout",
     "output_type": "stream",
     "text": [
      "Added hazard and attention to adata.obs.\n",
      "Added patient_hazards to surv.\n",
      "gene missing rate: 0.00%\n",
      "Added hazard and attention to adata_new.obs.\n",
      "Running method: scSurvival(NMF)\n",
      "NMF feature extraction...\n"
     ]
    },
    {
     "name": "stderr",
     "output_type": "stream",
     "text": [
      "Training: 100%|██████████| 500/500 [02:19<00:00,  3.59it/s, atten_entropy=0.814, cox_loss=2.93, loss=3.05]\n"
     ]
    },
    {
     "name": "stdout",
     "output_type": "stream",
     "text": [
      "Added hazard and attention to adata.obs.\n",
      "Added patient_hazards to surv.\n",
      "gene missing rate: 0.00%\n",
      "Added hazard and attention to adata_new.obs.\n",
      "Running method: scSurvival(HVG2000)\n",
      "Standard scaling feature extraction...\n"
     ]
    },
    {
     "name": "stderr",
     "output_type": "stream",
     "text": [
      "Training:  64%|██████▍   | 322/500 [03:22<01:52,  1.59it/s, atten_entropy=0.7, cox_loss=1.74, loss=1.74]  \n"
     ]
    },
    {
     "name": "stdout",
     "output_type": "stream",
     "text": [
      "Added hazard and attention to adata.obs.\n",
      "Added patient_hazards to surv.\n",
      "gene missing rate: 0.00%\n",
      "Added hazard and attention to adata_new.obs.\n",
      "Running sim1 with params: {'cell_surv_ratio': 0.03} and seed: 6\n",
      "  |======================================================================| 100%"
     ]
    },
    {
     "name": "stderr",
     "output_type": "stream",
     "text": [
      "100%|██████████| 100/100 [00:00<00:00, 49979.79it/s]\n"
     ]
    },
    {
     "name": "stdout",
     "output_type": "stream",
     "text": [
      "Running method: scSurvival(VAE)\n",
      "Running method: scSurvival(PCA)\n",
      "Run PCA...\n"
     ]
    },
    {
     "name": "stderr",
     "output_type": "stream",
     "text": [
      "Training: 100%|██████████| 500/500 [02:27<00:00,  3.39it/s, atten_entropy=0.695, cox_loss=2.35, loss=2.54]\n"
     ]
    },
    {
     "name": "stdout",
     "output_type": "stream",
     "text": [
      "Added hazard and attention to adata.obs.\n",
      "Added patient_hazards to surv.\n",
      "gene missing rate: 0.00%\n",
      "Added hazard and attention to adata_new.obs.\n",
      "Running method: scSurvival(NMF)\n",
      "NMF feature extraction...\n"
     ]
    },
    {
     "name": "stderr",
     "output_type": "stream",
     "text": [
      "Training:  21%|██        | 106/500 [00:28<01:46,  3.70it/s, atten_entropy=1, cox_loss=3.61, loss=4.11]\n"
     ]
    },
    {
     "name": "stdout",
     "output_type": "stream",
     "text": [
      "Added hazard and attention to adata.obs.\n",
      "Added patient_hazards to surv.\n",
      "gene missing rate: 0.00%\n",
      "Added hazard and attention to adata_new.obs.\n",
      "Running method: scSurvival(HVG2000)\n",
      "Standard scaling feature extraction...\n"
     ]
    },
    {
     "name": "stderr",
     "output_type": "stream",
     "text": [
      "Training:  67%|██████▋   | 337/500 [03:31<01:42,  1.59it/s, atten_entropy=0.5, cox_loss=1.83, loss=1.83]  \n"
     ]
    },
    {
     "name": "stdout",
     "output_type": "stream",
     "text": [
      "Added hazard and attention to adata.obs.\n",
      "Added patient_hazards to surv.\n",
      "gene missing rate: 0.00%\n",
      "Added hazard and attention to adata_new.obs.\n",
      "Running sim2 with params: {'ds_rate': 0.2} and seed: 6\n",
      "[1] \"Simulating from Batch1 ...\"\n",
      "  |======================================================================| 100%[1] \"\\n\"\n",
      "[1] \"Simulating from Batch2 ...\"\n",
      "  |======================================================================| 100%"
     ]
    },
    {
     "name": "stderr",
     "output_type": "stream",
     "text": [
      "100%|██████████| 100/100 [00:00<00:00, 8860.89it/s]\n"
     ]
    },
    {
     "name": "stdout",
     "output_type": "stream",
     "text": [
      "Running method: scSurvival(VAE)\n",
      "Running method: scSurvival(PCA)\n",
      "Run PCA...\n"
     ]
    },
    {
     "name": "stderr",
     "output_type": "stream",
     "text": [
      "Training: 100%|██████████| 500/500 [02:26<00:00,  3.41it/s, atten_entropy=0.751, cox_loss=2.7, loss=2.75] \n"
     ]
    },
    {
     "name": "stdout",
     "output_type": "stream",
     "text": [
      "Added hazard and attention to adata.obs.\n",
      "Added patient_hazards to surv.\n",
      "gene missing rate: 0.00%\n",
      "Added hazard and attention to adata_new.obs.\n",
      "Running method: scSurvival(NMF)\n",
      "NMF feature extraction...\n"
     ]
    },
    {
     "name": "stderr",
     "output_type": "stream",
     "text": [
      "Training:  21%|██        | 103/500 [00:28<01:49,  3.63it/s, atten_entropy=1, cox_loss=3.61, loss=3.91]\n"
     ]
    },
    {
     "name": "stdout",
     "output_type": "stream",
     "text": [
      "Added hazard and attention to adata.obs.\n",
      "Added patient_hazards to surv.\n",
      "gene missing rate: 0.00%\n",
      "Added hazard and attention to adata_new.obs.\n",
      "Running method: scSurvival(HVG2000)\n",
      "Standard scaling feature extraction...\n"
     ]
    },
    {
     "name": "stderr",
     "output_type": "stream",
     "text": [
      "Training:  39%|███▉      | 197/500 [02:04<03:11,  1.59it/s, atten_entropy=0.695, cox_loss=1.81, loss=1.81]\n"
     ]
    },
    {
     "name": "stdout",
     "output_type": "stream",
     "text": [
      "Added hazard and attention to adata.obs.\n",
      "Added patient_hazards to surv.\n",
      "gene missing rate: 0.00%\n",
      "Added hazard and attention to adata_new.obs.\n",
      "Running sim3 with params: {'censor_prob': 0.7, 'tr': 2} and seed: 6\n",
      "  |======================================================================| 100%"
     ]
    },
    {
     "name": "stderr",
     "output_type": "stream",
     "text": [
      "100%|██████████| 100/100 [00:00<00:00, 50045.39it/s]\n"
     ]
    },
    {
     "name": "stdout",
     "output_type": "stream",
     "text": [
      "Running method: scSurvival(VAE)\n",
      "Running method: scSurvival(PCA)\n",
      "Run PCA...\n"
     ]
    },
    {
     "name": "stderr",
     "output_type": "stream",
     "text": [
      "Training: 100%|██████████| 500/500 [02:17<00:00,  3.65it/s, atten_entropy=0.724, cox_loss=1.56, loss=1.59]\n"
     ]
    },
    {
     "name": "stdout",
     "output_type": "stream",
     "text": [
      "Added hazard and attention to adata.obs.\n",
      "Added patient_hazards to surv.\n",
      "gene missing rate: 0.00%\n",
      "Added hazard and attention to adata_new.obs.\n",
      "Running method: scSurvival(NMF)\n",
      "NMF feature extraction...\n"
     ]
    },
    {
     "name": "stderr",
     "output_type": "stream",
     "text": [
      "Training:  22%|██▏       | 112/500 [00:30<01:47,  3.61it/s, atten_entropy=1, cox_loss=3.28, loss=3.58]\n"
     ]
    },
    {
     "name": "stdout",
     "output_type": "stream",
     "text": [
      "Added hazard and attention to adata.obs.\n",
      "Added patient_hazards to surv.\n",
      "gene missing rate: 0.00%\n",
      "Added hazard and attention to adata_new.obs.\n",
      "Running method: scSurvival(HVG2000)\n",
      "Standard scaling feature extraction...\n"
     ]
    },
    {
     "name": "stderr",
     "output_type": "stream",
     "text": [
      "Training:  64%|██████▎   | 318/500 [03:19<01:54,  1.59it/s, atten_entropy=0.69, cox_loss=1.19, loss=1.19] \n"
     ]
    },
    {
     "name": "stdout",
     "output_type": "stream",
     "text": [
      "Added hazard and attention to adata.obs.\n",
      "Added patient_hazards to surv.\n",
      "gene missing rate: 0.00%\n",
      "Added hazard and attention to adata_new.obs.\n",
      "Running sim4 with params: {'num_bg_clusters': 5} and seed: 6\n",
      "  |======================================================================| 100%"
     ]
    },
    {
     "name": "stderr",
     "output_type": "stream",
     "text": [
      "100%|██████████| 100/100 [00:00<00:00, 33303.99it/s]\n"
     ]
    },
    {
     "name": "stdout",
     "output_type": "stream",
     "text": [
      "Running method: scSurvival(VAE)\n",
      "Running method: scSurvival(PCA)\n",
      "Run PCA...\n"
     ]
    },
    {
     "name": "stderr",
     "output_type": "stream",
     "text": [
      "Training:  77%|███████▋  | 387/500 [01:49<00:31,  3.55it/s, atten_entropy=0.735, cox_loss=2.13, loss=2.17]\n"
     ]
    },
    {
     "name": "stdout",
     "output_type": "stream",
     "text": [
      "Added hazard and attention to adata.obs.\n",
      "Added patient_hazards to surv.\n",
      "gene missing rate: 0.00%\n",
      "Added hazard and attention to adata_new.obs.\n",
      "Running method: scSurvival(NMF)\n",
      "NMF feature extraction...\n"
     ]
    },
    {
     "name": "stderr",
     "output_type": "stream",
     "text": [
      "Training:  26%|██▌       | 129/500 [00:35<01:42,  3.61it/s, atten_entropy=1, cox_loss=3.55, loss=3.85]\n"
     ]
    },
    {
     "name": "stdout",
     "output_type": "stream",
     "text": [
      "Added hazard and attention to adata.obs.\n",
      "Added patient_hazards to surv.\n",
      "gene missing rate: 0.00%\n",
      "Added hazard and attention to adata_new.obs.\n",
      "Running method: scSurvival(HVG2000)\n",
      "Standard scaling feature extraction...\n"
     ]
    },
    {
     "name": "stderr",
     "output_type": "stream",
     "text": [
      "Training:  37%|███▋      | 185/500 [01:55<03:17,  1.60it/s, atten_entropy=0.694, cox_loss=1.77, loss=1.77]\n"
     ]
    },
    {
     "name": "stdout",
     "output_type": "stream",
     "text": [
      "Added hazard and attention to adata.obs.\n",
      "Added patient_hazards to surv.\n",
      "gene missing rate: 0.00%\n",
      "Added hazard and attention to adata_new.obs.\n",
      "Running sim5 with params: {'group_effect': 3, 'high_group_prob': 0.5} and seed: 6\n",
      "  |======================================================================| 100%"
     ]
    },
    {
     "name": "stderr",
     "output_type": "stream",
     "text": [
      "100%|██████████| 100/100 [00:00<00:00, 33333.10it/s]\n"
     ]
    },
    {
     "name": "stdout",
     "output_type": "stream",
     "text": [
      "Running method: scSurvival(VAE)\n",
      "Running method: scSurvival(PCA)\n",
      "Run PCA...\n"
     ]
    },
    {
     "name": "stderr",
     "output_type": "stream",
     "text": [
      "Training: 100%|██████████| 500/500 [02:22<00:00,  3.51it/s, atten_entropy=0.705, cox_loss=2.54, loss=2.54]\n"
     ]
    },
    {
     "name": "stdout",
     "output_type": "stream",
     "text": [
      "Added hazard and attention to adata.obs.\n",
      "Added patient_hazards to surv.\n",
      "gene missing rate: 0.00%\n",
      "Added hazard and attention to adata_new.obs.\n",
      "Running method: scSurvival(NMF)\n",
      "NMF feature extraction...\n"
     ]
    },
    {
     "name": "stderr",
     "output_type": "stream",
     "text": [
      "Training: 100%|██████████| 500/500 [02:14<00:00,  3.72it/s, atten_entropy=0.786, cox_loss=3.06, loss=3.15]\n"
     ]
    },
    {
     "name": "stdout",
     "output_type": "stream",
     "text": [
      "Added hazard and attention to adata.obs.\n",
      "Added patient_hazards to surv.\n",
      "gene missing rate: 0.00%\n",
      "Added hazard and attention to adata_new.obs.\n",
      "Running method: scSurvival(HVG2000)\n",
      "Standard scaling feature extraction...\n"
     ]
    },
    {
     "name": "stderr",
     "output_type": "stream",
     "text": [
      "Training:  64%|██████▍   | 322/500 [03:21<01:51,  1.59it/s, atten_entropy=0.695, cox_loss=1.76, loss=1.76]\n"
     ]
    },
    {
     "name": "stdout",
     "output_type": "stream",
     "text": [
      "Added hazard and attention to adata.obs.\n",
      "Added patient_hazards to surv.\n",
      "gene missing rate: 0.00%\n",
      "Added hazard and attention to adata_new.obs.\n",
      "Running sim6 with params: {'sub_cluster_ratio': 0.3, 'de_facloc': 0.35} and seed: 6\n",
      "  |======================================================================| 100%"
     ]
    },
    {
     "name": "stderr",
     "output_type": "stream",
     "text": [
      "100%|██████████| 100/100 [00:00<00:00, 94338.82it/s]\n"
     ]
    },
    {
     "name": "stdout",
     "output_type": "stream",
     "text": [
      "Running method: scSurvival(VAE)\n",
      "Running method: scSurvival(PCA)\n",
      "Run PCA...\n"
     ]
    },
    {
     "name": "stderr",
     "output_type": "stream",
     "text": [
      "Training: 100%|██████████| 500/500 [02:26<00:00,  3.42it/s, atten_entropy=0.697, cox_loss=2.3, loss=2.3]  \n"
     ]
    },
    {
     "name": "stdout",
     "output_type": "stream",
     "text": [
      "Added hazard and attention to adata.obs.\n",
      "Added patient_hazards to surv.\n",
      "gene missing rate: 0.00%\n",
      "Added hazard and attention to adata_new.obs.\n",
      "Running method: scSurvival(NMF)\n",
      "NMF feature extraction...\n"
     ]
    },
    {
     "name": "stderr",
     "output_type": "stream",
     "text": [
      "Training: 100%|██████████| 500/500 [02:32<00:00,  3.28it/s, atten_entropy=0.734, cox_loss=2.75, loss=2.79]\n"
     ]
    },
    {
     "name": "stdout",
     "output_type": "stream",
     "text": [
      "Added hazard and attention to adata.obs.\n",
      "Added patient_hazards to surv.\n",
      "gene missing rate: 0.00%\n",
      "Added hazard and attention to adata_new.obs.\n",
      "Running method: scSurvival(HVG2000)\n",
      "Standard scaling feature extraction...\n"
     ]
    },
    {
     "name": "stderr",
     "output_type": "stream",
     "text": [
      "Training:  20%|██        | 101/500 [01:02<04:08,  1.61it/s, atten_entropy=0.649, cox_loss=3.57, loss=3.57]\n"
     ]
    },
    {
     "name": "stdout",
     "output_type": "stream",
     "text": [
      "Added hazard and attention to adata.obs.\n",
      "Added patient_hazards to surv.\n",
      "gene missing rate: 0.00%\n",
      "Added hazard and attention to adata_new.obs.\n",
      "Running sim1 with params: {'cell_surv_ratio': 0.15} and seed: 7\n",
      "  |======================================================================| 100%"
     ]
    },
    {
     "name": "stderr",
     "output_type": "stream",
     "text": [
      "100%|██████████| 100/100 [00:00<00:00, 49914.36it/s]\n"
     ]
    },
    {
     "name": "stdout",
     "output_type": "stream",
     "text": [
      "Running method: scSurvival(VAE)\n",
      "Running method: scSurvival(PCA)\n",
      "Run PCA...\n"
     ]
    },
    {
     "name": "stderr",
     "output_type": "stream",
     "text": [
      "Training: 100%|██████████| 500/500 [02:29<00:00,  3.35it/s, atten_entropy=0.731, cox_loss=2.28, loss=2.31]\n"
     ]
    },
    {
     "name": "stdout",
     "output_type": "stream",
     "text": [
      "Added hazard and attention to adata.obs.\n",
      "Added patient_hazards to surv.\n",
      "gene missing rate: 0.00%\n",
      "Added hazard and attention to adata_new.obs.\n",
      "Running method: scSurvival(NMF)\n",
      "NMF feature extraction...\n"
     ]
    },
    {
     "name": "stderr",
     "output_type": "stream",
     "text": [
      "Training:  26%|██▌       | 129/500 [00:40<01:55,  3.21it/s, atten_entropy=0.999, cox_loss=3.6, loss=3.9]\n"
     ]
    },
    {
     "name": "stdout",
     "output_type": "stream",
     "text": [
      "Added hazard and attention to adata.obs.\n",
      "Added patient_hazards to surv.\n",
      "gene missing rate: 0.00%\n",
      "Added hazard and attention to adata_new.obs.\n",
      "Running method: scSurvival(HVG2000)\n",
      "Standard scaling feature extraction...\n"
     ]
    },
    {
     "name": "stderr",
     "output_type": "stream",
     "text": [
      "Training:  64%|██████▍   | 319/500 [03:21<01:54,  1.58it/s, atten_entropy=0.7, cox_loss=1.86, loss=1.86]  \n"
     ]
    },
    {
     "name": "stdout",
     "output_type": "stream",
     "text": [
      "Added hazard and attention to adata.obs.\n",
      "Added patient_hazards to surv.\n",
      "gene missing rate: 0.00%\n",
      "Added hazard and attention to adata_new.obs.\n",
      "Running sim1 with params: {'cell_surv_ratio': 0.03} and seed: 7\n",
      "  |======================================================================| 100%"
     ]
    },
    {
     "name": "stderr",
     "output_type": "stream",
     "text": [
      "100%|██████████| 100/100 [00:00<00:00, 32855.27it/s]\n"
     ]
    },
    {
     "name": "stdout",
     "output_type": "stream",
     "text": [
      "Running method: scSurvival(VAE)\n",
      "Running method: scSurvival(PCA)\n",
      "Run PCA...\n"
     ]
    },
    {
     "name": "stderr",
     "output_type": "stream",
     "text": [
      "Training: 100%|██████████| 500/500 [02:32<00:00,  3.28it/s, atten_entropy=0.728, cox_loss=2.38, loss=2.61]\n"
     ]
    },
    {
     "name": "stdout",
     "output_type": "stream",
     "text": [
      "Added hazard and attention to adata.obs.\n",
      "Added patient_hazards to surv.\n",
      "gene missing rate: 0.00%\n",
      "Added hazard and attention to adata_new.obs.\n",
      "Running method: scSurvival(NMF)\n",
      "NMF feature extraction...\n"
     ]
    },
    {
     "name": "stderr",
     "output_type": "stream",
     "text": [
      "Training:  26%|██▌       | 129/500 [00:39<01:54,  3.25it/s, atten_entropy=1, cox_loss=3.62, loss=4.12]\n"
     ]
    },
    {
     "name": "stdout",
     "output_type": "stream",
     "text": [
      "Added hazard and attention to adata.obs.\n",
      "Added patient_hazards to surv.\n",
      "gene missing rate: 0.00%\n",
      "Added hazard and attention to adata_new.obs.\n",
      "Running method: scSurvival(HVG2000)\n",
      "Standard scaling feature extraction...\n"
     ]
    },
    {
     "name": "stderr",
     "output_type": "stream",
     "text": [
      "Training:  58%|█████▊    | 292/500 [03:06<02:12,  1.57it/s, atten_entropy=0.494, cox_loss=1.88, loss=1.88]\n"
     ]
    },
    {
     "name": "stdout",
     "output_type": "stream",
     "text": [
      "Added hazard and attention to adata.obs.\n",
      "Added patient_hazards to surv.\n",
      "gene missing rate: 0.00%\n",
      "Added hazard and attention to adata_new.obs.\n",
      "Running sim2 with params: {'ds_rate': 0.2} and seed: 7\n",
      "[1] \"Simulating from Batch1 ...\"\n",
      "  |======================================================================| 100%[1] \"\\n\"\n",
      "[1] \"Simulating from Batch2 ...\"\n",
      "  |======================================================================| 100%"
     ]
    },
    {
     "name": "stderr",
     "output_type": "stream",
     "text": [
      "100%|██████████| 100/100 [00:00<00:00, 8196.80it/s]\n"
     ]
    },
    {
     "name": "stdout",
     "output_type": "stream",
     "text": [
      "Running method: scSurvival(VAE)\n",
      "Running method: scSurvival(PCA)\n",
      "Run PCA...\n"
     ]
    },
    {
     "name": "stderr",
     "output_type": "stream",
     "text": [
      "Training: 100%|██████████| 500/500 [02:31<00:00,  3.31it/s, atten_entropy=0.794, cox_loss=2.61, loss=2.7] \n"
     ]
    },
    {
     "name": "stdout",
     "output_type": "stream",
     "text": [
      "Added hazard and attention to adata.obs.\n",
      "Added patient_hazards to surv.\n",
      "gene missing rate: 0.00%\n",
      "Added hazard and attention to adata_new.obs.\n",
      "Running method: scSurvival(NMF)\n",
      "NMF feature extraction...\n"
     ]
    },
    {
     "name": "stderr",
     "output_type": "stream",
     "text": [
      "Training:  26%|██▌       | 129/500 [00:38<01:52,  3.31it/s, atten_entropy=1, cox_loss=3.53, loss=3.83]\n"
     ]
    },
    {
     "name": "stdout",
     "output_type": "stream",
     "text": [
      "Added hazard and attention to adata.obs.\n",
      "Added patient_hazards to surv.\n",
      "gene missing rate: 0.00%\n",
      "Added hazard and attention to adata_new.obs.\n",
      "Running method: scSurvival(HVG2000)\n",
      "Standard scaling feature extraction...\n"
     ]
    },
    {
     "name": "stderr",
     "output_type": "stream",
     "text": [
      "Training:  63%|██████▎   | 313/500 [03:16<01:57,  1.59it/s, atten_entropy=0.68, cox_loss=1.76, loss=1.76] \n"
     ]
    },
    {
     "name": "stdout",
     "output_type": "stream",
     "text": [
      "Added hazard and attention to adata.obs.\n",
      "Added patient_hazards to surv.\n",
      "gene missing rate: 0.00%\n",
      "Added hazard and attention to adata_new.obs.\n",
      "Running sim3 with params: {'censor_prob': 0.7, 'tr': 2} and seed: 7\n",
      "  |======================================================================| 100%"
     ]
    },
    {
     "name": "stderr",
     "output_type": "stream",
     "text": [
      "100%|██████████| 100/100 [00:00<00:00, 48623.97it/s]\n"
     ]
    },
    {
     "name": "stdout",
     "output_type": "stream",
     "text": [
      "Running method: scSurvival(VAE)\n",
      "Running method: scSurvival(PCA)\n",
      "Run PCA...\n"
     ]
    },
    {
     "name": "stderr",
     "output_type": "stream",
     "text": [
      "Training: 100%|██████████| 500/500 [02:29<00:00,  3.34it/s, atten_entropy=0.776, cox_loss=1.12, loss=1.2]   \n"
     ]
    },
    {
     "name": "stdout",
     "output_type": "stream",
     "text": [
      "Added hazard and attention to adata.obs.\n",
      "Added patient_hazards to surv.\n",
      "gene missing rate: 0.00%\n",
      "Added hazard and attention to adata_new.obs.\n",
      "Running method: scSurvival(NMF)\n",
      "NMF feature extraction...\n"
     ]
    },
    {
     "name": "stderr",
     "output_type": "stream",
     "text": [
      "Training:  22%|██▏       | 112/500 [00:34<01:59,  3.26it/s, atten_entropy=1, cox_loss=3.24, loss=3.54]\n"
     ]
    },
    {
     "name": "stdout",
     "output_type": "stream",
     "text": [
      "Added hazard and attention to adata.obs.\n",
      "Added patient_hazards to surv.\n",
      "gene missing rate: 0.00%\n",
      "Added hazard and attention to adata_new.obs.\n",
      "Running method: scSurvival(HVG2000)\n",
      "Standard scaling feature extraction...\n"
     ]
    },
    {
     "name": "stderr",
     "output_type": "stream",
     "text": [
      "Training:  43%|████▎     | 217/500 [02:15<02:56,  1.60it/s, atten_entropy=0.696, cox_loss=0.819, loss=0.819]\n"
     ]
    },
    {
     "name": "stdout",
     "output_type": "stream",
     "text": [
      "Added hazard and attention to adata.obs.\n",
      "Added patient_hazards to surv.\n",
      "gene missing rate: 0.00%\n",
      "Added hazard and attention to adata_new.obs.\n",
      "Running sim4 with params: {'num_bg_clusters': 5} and seed: 7\n",
      "  |======================================================================| 100%"
     ]
    },
    {
     "name": "stderr",
     "output_type": "stream",
     "text": [
      "100%|██████████| 100/100 [00:00<00:00, 33288.13it/s]\n"
     ]
    },
    {
     "name": "stdout",
     "output_type": "stream",
     "text": [
      "Running method: scSurvival(VAE)\n",
      "Running method: scSurvival(PCA)\n",
      "Run PCA...\n"
     ]
    },
    {
     "name": "stderr",
     "output_type": "stream",
     "text": [
      "Training: 100%|██████████| 500/500 [02:31<00:00,  3.30it/s, atten_entropy=0.698, cox_loss=2.34, loss=2.34]\n"
     ]
    },
    {
     "name": "stdout",
     "output_type": "stream",
     "text": [
      "Added hazard and attention to adata.obs.\n",
      "Added patient_hazards to surv.\n",
      "gene missing rate: 0.00%\n",
      "Added hazard and attention to adata_new.obs.\n",
      "Running method: scSurvival(NMF)\n",
      "NMF feature extraction...\n"
     ]
    },
    {
     "name": "stderr",
     "output_type": "stream",
     "text": [
      "Training: 100%|██████████| 500/500 [02:27<00:00,  3.40it/s, atten_entropy=0.907, cox_loss=2.8, loss=3.01] \n"
     ]
    },
    {
     "name": "stdout",
     "output_type": "stream",
     "text": [
      "Added hazard and attention to adata.obs.\n",
      "Added patient_hazards to surv.\n",
      "gene missing rate: 0.00%\n",
      "Added hazard and attention to adata_new.obs.\n",
      "Running method: scSurvival(HVG2000)\n",
      "Standard scaling feature extraction...\n"
     ]
    },
    {
     "name": "stderr",
     "output_type": "stream",
     "text": [
      "Training:  88%|████████▊ | 440/500 [04:36<00:37,  1.59it/s, atten_entropy=0.695, cox_loss=1.76, loss=1.76]\n"
     ]
    },
    {
     "name": "stdout",
     "output_type": "stream",
     "text": [
      "Added hazard and attention to adata.obs.\n",
      "Added patient_hazards to surv.\n",
      "gene missing rate: 0.00%\n",
      "Added hazard and attention to adata_new.obs.\n",
      "Running sim5 with params: {'group_effect': 3, 'high_group_prob': 0.5} and seed: 7\n",
      "  |======================================================================| 100%"
     ]
    },
    {
     "name": "stderr",
     "output_type": "stream",
     "text": [
      "100%|██████████| 100/100 [00:00<00:00, 47382.56it/s]\n"
     ]
    },
    {
     "name": "stdout",
     "output_type": "stream",
     "text": [
      "Running method: scSurvival(VAE)\n",
      "Running method: scSurvival(PCA)\n",
      "Run PCA...\n"
     ]
    },
    {
     "name": "stderr",
     "output_type": "stream",
     "text": [
      "Training: 100%|██████████| 500/500 [02:17<00:00,  3.63it/s, atten_entropy=0.712, cox_loss=2.43, loss=2.45]\n"
     ]
    },
    {
     "name": "stdout",
     "output_type": "stream",
     "text": [
      "Added hazard and attention to adata.obs.\n",
      "Added patient_hazards to surv.\n",
      "gene missing rate: 0.00%\n",
      "Added hazard and attention to adata_new.obs.\n",
      "Running method: scSurvival(NMF)\n",
      "NMF feature extraction...\n"
     ]
    },
    {
     "name": "stderr",
     "output_type": "stream",
     "text": [
      "Training: 100%|██████████| 500/500 [02:13<00:00,  3.74it/s, atten_entropy=0.829, cox_loss=2.95, loss=3.08]\n"
     ]
    },
    {
     "name": "stdout",
     "output_type": "stream",
     "text": [
      "Added hazard and attention to adata.obs.\n",
      "Added patient_hazards to surv.\n",
      "gene missing rate: 0.00%\n",
      "Added hazard and attention to adata_new.obs.\n",
      "Running method: scSurvival(HVG2000)\n",
      "Standard scaling feature extraction...\n"
     ]
    },
    {
     "name": "stderr",
     "output_type": "stream",
     "text": [
      "Training:  73%|███████▎  | 367/500 [03:50<01:23,  1.59it/s, atten_entropy=0.699, cox_loss=1.78, loss=1.78]\n"
     ]
    },
    {
     "name": "stdout",
     "output_type": "stream",
     "text": [
      "Added hazard and attention to adata.obs.\n",
      "Added patient_hazards to surv.\n",
      "gene missing rate: 0.00%\n",
      "Added hazard and attention to adata_new.obs.\n",
      "Running sim6 with params: {'sub_cluster_ratio': 0.3, 'de_facloc': 0.35} and seed: 7\n",
      "  |======================================================================| 100%"
     ]
    },
    {
     "name": "stderr",
     "output_type": "stream",
     "text": [
      "100%|██████████| 100/100 [00:00<00:00, 92020.71it/s]\n"
     ]
    },
    {
     "name": "stdout",
     "output_type": "stream",
     "text": [
      "Running method: scSurvival(VAE)\n",
      "Running method: scSurvival(PCA)\n",
      "Run PCA...\n"
     ]
    },
    {
     "name": "stderr",
     "output_type": "stream",
     "text": [
      "Training: 100%|██████████| 500/500 [02:13<00:00,  3.74it/s, atten_entropy=0.698, cox_loss=2.33, loss=2.33]\n"
     ]
    },
    {
     "name": "stdout",
     "output_type": "stream",
     "text": [
      "Added hazard and attention to adata.obs.\n",
      "Added patient_hazards to surv.\n",
      "gene missing rate: 0.00%\n",
      "Added hazard and attention to adata_new.obs.\n",
      "Running method: scSurvival(NMF)\n",
      "NMF feature extraction...\n"
     ]
    },
    {
     "name": "stderr",
     "output_type": "stream",
     "text": [
      "Training: 100%|██████████| 500/500 [02:23<00:00,  3.47it/s, atten_entropy=0.699, cox_loss=2.87, loss=2.87]\n"
     ]
    },
    {
     "name": "stdout",
     "output_type": "stream",
     "text": [
      "Added hazard and attention to adata.obs.\n",
      "Added patient_hazards to surv.\n",
      "gene missing rate: 0.00%\n",
      "Added hazard and attention to adata_new.obs.\n",
      "Running method: scSurvival(HVG2000)\n",
      "Standard scaling feature extraction...\n"
     ]
    },
    {
     "name": "stderr",
     "output_type": "stream",
     "text": [
      "Training:  20%|██        | 101/500 [01:02<04:05,  1.62it/s, atten_entropy=0.684, cox_loss=3.57, loss=3.57]\n"
     ]
    },
    {
     "name": "stdout",
     "output_type": "stream",
     "text": [
      "Added hazard and attention to adata.obs.\n",
      "Added patient_hazards to surv.\n",
      "gene missing rate: 0.00%\n",
      "Added hazard and attention to adata_new.obs.\n",
      "Running sim1 with params: {'cell_surv_ratio': 0.15} and seed: 8\n",
      "  |======================================================================| 100%"
     ]
    },
    {
     "name": "stderr",
     "output_type": "stream",
     "text": [
      "100%|██████████| 100/100 [00:00<00:00, 32313.59it/s]\n"
     ]
    },
    {
     "name": "stdout",
     "output_type": "stream",
     "text": [
      "Running method: scSurvival(VAE)\n",
      "Running method: scSurvival(PCA)\n",
      "Run PCA...\n"
     ]
    },
    {
     "name": "stderr",
     "output_type": "stream",
     "text": [
      "Training:  75%|███████▍  | 373/500 [01:42<00:34,  3.66it/s, atten_entropy=0.789, cox_loss=2.19, loss=2.27]\n"
     ]
    },
    {
     "name": "stdout",
     "output_type": "stream",
     "text": [
      "Added hazard and attention to adata.obs.\n",
      "Added patient_hazards to surv.\n",
      "gene missing rate: 0.00%\n",
      "Added hazard and attention to adata_new.obs.\n",
      "Running method: scSurvival(NMF)\n",
      "NMF feature extraction...\n"
     ]
    },
    {
     "name": "stderr",
     "output_type": "stream",
     "text": [
      "Training:  21%|██        | 103/500 [00:29<01:53,  3.50it/s, atten_entropy=1, cox_loss=3.56, loss=3.86]\n"
     ]
    },
    {
     "name": "stdout",
     "output_type": "stream",
     "text": [
      "Added hazard and attention to adata.obs.\n",
      "Added patient_hazards to surv.\n",
      "gene missing rate: 0.00%\n",
      "Added hazard and attention to adata_new.obs.\n",
      "Running method: scSurvival(HVG2000)\n",
      "Standard scaling feature extraction...\n"
     ]
    },
    {
     "name": "stderr",
     "output_type": "stream",
     "text": [
      "Training:  74%|███████▍  | 370/500 [03:53<01:22,  1.58it/s, atten_entropy=0.699, cox_loss=1.76, loss=1.76]\n"
     ]
    },
    {
     "name": "stdout",
     "output_type": "stream",
     "text": [
      "Added hazard and attention to adata.obs.\n",
      "Added patient_hazards to surv.\n",
      "gene missing rate: 0.00%\n",
      "Added hazard and attention to adata_new.obs.\n",
      "Running sim1 with params: {'cell_surv_ratio': 0.03} and seed: 8\n",
      "  |======================================================================| 100%"
     ]
    },
    {
     "name": "stderr",
     "output_type": "stream",
     "text": [
      "100%|██████████| 100/100 [00:00<00:00, 33285.49it/s]\n"
     ]
    },
    {
     "name": "stdout",
     "output_type": "stream",
     "text": [
      "Running method: scSurvival(VAE)\n",
      "Running method: scSurvival(PCA)\n",
      "Run PCA...\n"
     ]
    },
    {
     "name": "stderr",
     "output_type": "stream",
     "text": [
      "Training: 100%|██████████| 500/500 [02:15<00:00,  3.69it/s, atten_entropy=0.762, cox_loss=2.38, loss=2.64]\n"
     ]
    },
    {
     "name": "stdout",
     "output_type": "stream",
     "text": [
      "Added hazard and attention to adata.obs.\n",
      "Added patient_hazards to surv.\n",
      "gene missing rate: 0.00%\n",
      "Added hazard and attention to adata_new.obs.\n",
      "Running method: scSurvival(NMF)\n",
      "NMF feature extraction...\n"
     ]
    },
    {
     "name": "stderr",
     "output_type": "stream",
     "text": [
      "Training:  21%|██        | 103/500 [00:28<01:50,  3.60it/s, atten_entropy=1, cox_loss=3.58, loss=4.08]\n"
     ]
    },
    {
     "name": "stdout",
     "output_type": "stream",
     "text": [
      "Added hazard and attention to adata.obs.\n",
      "Added patient_hazards to surv.\n",
      "gene missing rate: 0.00%\n",
      "Added hazard and attention to adata_new.obs.\n",
      "Running method: scSurvival(HVG2000)\n",
      "Standard scaling feature extraction...\n"
     ]
    },
    {
     "name": "stderr",
     "output_type": "stream",
     "text": [
      "Training:  64%|██████▍   | 319/500 [03:21<01:54,  1.58it/s, atten_entropy=0.5, cox_loss=1.85, loss=1.85]  \n"
     ]
    },
    {
     "name": "stdout",
     "output_type": "stream",
     "text": [
      "Added hazard and attention to adata.obs.\n",
      "Added patient_hazards to surv.\n",
      "gene missing rate: 0.00%\n",
      "Added hazard and attention to adata_new.obs.\n",
      "Running sim2 with params: {'ds_rate': 0.2} and seed: 8\n",
      "[1] \"Simulating from Batch1 ...\"\n",
      "  |======================================================================| 100%[1] \"\\n\"\n",
      "[1] \"Simulating from Batch2 ...\"\n",
      "  |======================================================================| 100%"
     ]
    },
    {
     "name": "stderr",
     "output_type": "stream",
     "text": [
      "100%|██████████| 100/100 [00:00<00:00, 5655.75it/s]\n"
     ]
    },
    {
     "name": "stdout",
     "output_type": "stream",
     "text": [
      "Running method: scSurvival(VAE)\n",
      "Running method: scSurvival(PCA)\n",
      "Run PCA...\n"
     ]
    },
    {
     "name": "stderr",
     "output_type": "stream",
     "text": [
      "Training: 100%|██████████| 500/500 [02:21<00:00,  3.54it/s, atten_entropy=0.775, cox_loss=2.65, loss=2.73]\n"
     ]
    },
    {
     "name": "stdout",
     "output_type": "stream",
     "text": [
      "Added hazard and attention to adata.obs.\n",
      "Added patient_hazards to surv.\n",
      "gene missing rate: 0.00%\n",
      "Added hazard and attention to adata_new.obs.\n",
      "Running method: scSurvival(NMF)\n",
      "NMF feature extraction...\n"
     ]
    },
    {
     "name": "stderr",
     "output_type": "stream",
     "text": [
      "Training:  21%|██        | 103/500 [00:30<01:58,  3.34it/s, atten_entropy=1, cox_loss=3.57, loss=3.87]\n"
     ]
    },
    {
     "name": "stdout",
     "output_type": "stream",
     "text": [
      "Added hazard and attention to adata.obs.\n",
      "Added patient_hazards to surv.\n",
      "gene missing rate: 0.00%\n",
      "Added hazard and attention to adata_new.obs.\n",
      "Running method: scSurvival(HVG2000)\n",
      "Standard scaling feature extraction...\n"
     ]
    },
    {
     "name": "stderr",
     "output_type": "stream",
     "text": [
      "Training:  35%|███▌      | 175/500 [01:50<03:24,  1.59it/s, atten_entropy=0.693, cox_loss=1.87, loss=1.87]\n"
     ]
    },
    {
     "name": "stdout",
     "output_type": "stream",
     "text": [
      "Added hazard and attention to adata.obs.\n",
      "Added patient_hazards to surv.\n",
      "gene missing rate: 0.00%\n",
      "Added hazard and attention to adata_new.obs.\n",
      "Running sim3 with params: {'censor_prob': 0.7, 'tr': 2} and seed: 8\n",
      "  |======================================================================| 100%"
     ]
    },
    {
     "name": "stderr",
     "output_type": "stream",
     "text": [
      "100%|██████████| 100/100 [00:00<00:00, 32328.53it/s]\n"
     ]
    },
    {
     "name": "stdout",
     "output_type": "stream",
     "text": [
      "Running method: scSurvival(VAE)\n",
      "Running method: scSurvival(PCA)\n",
      "Run PCA...\n"
     ]
    },
    {
     "name": "stderr",
     "output_type": "stream",
     "text": [
      "Training:  90%|████████▉ | 448/500 [02:07<00:14,  3.51it/s, atten_entropy=0.796, cox_loss=1.25, loss=1.34] \n"
     ]
    },
    {
     "name": "stdout",
     "output_type": "stream",
     "text": [
      "Added hazard and attention to adata.obs.\n",
      "Added patient_hazards to surv.\n",
      "gene missing rate: 0.00%\n",
      "Added hazard and attention to adata_new.obs.\n",
      "Running method: scSurvival(NMF)\n",
      "NMF feature extraction...\n"
     ]
    },
    {
     "name": "stderr",
     "output_type": "stream",
     "text": [
      "Training:  23%|██▎       | 117/500 [00:32<01:47,  3.58it/s, atten_entropy=1, cox_loss=2.79, loss=3.09]\n"
     ]
    },
    {
     "name": "stdout",
     "output_type": "stream",
     "text": [
      "Added hazard and attention to adata.obs.\n",
      "Added patient_hazards to surv.\n",
      "gene missing rate: 0.00%\n",
      "Added hazard and attention to adata_new.obs.\n",
      "Running method: scSurvival(HVG2000)\n",
      "Standard scaling feature extraction...\n"
     ]
    },
    {
     "name": "stderr",
     "output_type": "stream",
     "text": [
      "Training: 100%|██████████| 500/500 [05:12<00:00,  1.60it/s, atten_entropy=0.691, cox_loss=0.862, loss=0.862]\n"
     ]
    },
    {
     "name": "stdout",
     "output_type": "stream",
     "text": [
      "Added hazard and attention to adata.obs.\n",
      "Added patient_hazards to surv.\n",
      "gene missing rate: 0.00%\n",
      "Added hazard and attention to adata_new.obs.\n",
      "Running sim4 with params: {'num_bg_clusters': 5} and seed: 8\n",
      "  |======================================================================| 100%"
     ]
    },
    {
     "name": "stderr",
     "output_type": "stream",
     "text": [
      "100%|██████████| 100/100 [00:00<00:00, 19973.83it/s]\n"
     ]
    },
    {
     "name": "stdout",
     "output_type": "stream",
     "text": [
      "Running method: scSurvival(VAE)\n",
      "Running method: scSurvival(PCA)\n",
      "Run PCA...\n"
     ]
    },
    {
     "name": "stderr",
     "output_type": "stream",
     "text": [
      "Training: 100%|██████████| 500/500 [02:21<00:00,  3.54it/s, atten_entropy=0.729, cox_loss=2.34, loss=2.37]\n"
     ]
    },
    {
     "name": "stdout",
     "output_type": "stream",
     "text": [
      "Added hazard and attention to adata.obs.\n",
      "Added patient_hazards to surv.\n",
      "gene missing rate: 0.00%\n",
      "Added hazard and attention to adata_new.obs.\n",
      "Running method: scSurvival(NMF)\n",
      "NMF feature extraction...\n"
     ]
    },
    {
     "name": "stderr",
     "output_type": "stream",
     "text": [
      "Training:  21%|██        | 103/500 [00:28<01:49,  3.61it/s, atten_entropy=1, cox_loss=3.58, loss=3.88]\n"
     ]
    },
    {
     "name": "stdout",
     "output_type": "stream",
     "text": [
      "Added hazard and attention to adata.obs.\n",
      "Added patient_hazards to surv.\n",
      "gene missing rate: 0.00%\n",
      "Added hazard and attention to adata_new.obs.\n",
      "Running method: scSurvival(HVG2000)\n",
      "Standard scaling feature extraction...\n"
     ]
    },
    {
     "name": "stderr",
     "output_type": "stream",
     "text": [
      "Training: 100%|██████████| 500/500 [05:13<00:00,  1.59it/s, atten_entropy=0.699, cox_loss=1.77, loss=1.77]\n"
     ]
    },
    {
     "name": "stdout",
     "output_type": "stream",
     "text": [
      "Added hazard and attention to adata.obs.\n",
      "Added patient_hazards to surv.\n",
      "gene missing rate: 0.00%\n",
      "Added hazard and attention to adata_new.obs.\n",
      "Running sim5 with params: {'group_effect': 3, 'high_group_prob': 0.5} and seed: 8\n",
      "  |======================================================================| 100%"
     ]
    },
    {
     "name": "stderr",
     "output_type": "stream",
     "text": [
      "100%|██████████| 100/100 [00:00<00:00, 33338.40it/s]\n"
     ]
    },
    {
     "name": "stdout",
     "output_type": "stream",
     "text": [
      "Running method: scSurvival(VAE)\n",
      "Running method: scSurvival(PCA)\n",
      "Run PCA...\n"
     ]
    },
    {
     "name": "stderr",
     "output_type": "stream",
     "text": [
      "Training: 100%|██████████| 500/500 [02:16<00:00,  3.65it/s, atten_entropy=0.703, cox_loss=2.37, loss=2.37]\n"
     ]
    },
    {
     "name": "stdout",
     "output_type": "stream",
     "text": [
      "Added hazard and attention to adata.obs.\n",
      "Added patient_hazards to surv.\n",
      "gene missing rate: 0.00%\n",
      "Added hazard and attention to adata_new.obs.\n",
      "Running method: scSurvival(NMF)\n",
      "NMF feature extraction...\n"
     ]
    },
    {
     "name": "stderr",
     "output_type": "stream",
     "text": [
      "Training:  21%|██        | 103/500 [00:33<02:09,  3.08it/s, atten_entropy=1, cox_loss=3.55, loss=3.85]\n"
     ]
    },
    {
     "name": "stdout",
     "output_type": "stream",
     "text": [
      "Added hazard and attention to adata.obs.\n",
      "Added patient_hazards to surv.\n",
      "gene missing rate: 0.00%\n",
      "Added hazard and attention to adata_new.obs.\n",
      "Running method: scSurvival(HVG2000)\n",
      "Standard scaling feature extraction...\n"
     ]
    },
    {
     "name": "stderr",
     "output_type": "stream",
     "text": [
      "Training:  57%|█████▋    | 283/500 [02:57<02:16,  1.59it/s, atten_entropy=0.698, cox_loss=1.84, loss=1.84]\n"
     ]
    },
    {
     "name": "stdout",
     "output_type": "stream",
     "text": [
      "Added hazard and attention to adata.obs.\n",
      "Added patient_hazards to surv.\n",
      "gene missing rate: 0.00%\n",
      "Added hazard and attention to adata_new.obs.\n",
      "Running sim6 with params: {'sub_cluster_ratio': 0.3, 'de_facloc': 0.35} and seed: 8\n",
      "  |======================================================================| 100%"
     ]
    },
    {
     "name": "stderr",
     "output_type": "stream",
     "text": [
      "100%|██████████| 100/100 [00:00<00:00, 49496.15it/s]\n"
     ]
    },
    {
     "name": "stdout",
     "output_type": "stream",
     "text": [
      "Running method: scSurvival(VAE)\n",
      "Running method: scSurvival(PCA)\n",
      "Run PCA...\n"
     ]
    },
    {
     "name": "stderr",
     "output_type": "stream",
     "text": [
      "Training: 100%|██████████| 500/500 [02:17<00:00,  3.64it/s, atten_entropy=0.834, cox_loss=2.38, loss=2.51]\n"
     ]
    },
    {
     "name": "stdout",
     "output_type": "stream",
     "text": [
      "Added hazard and attention to adata.obs.\n",
      "Added patient_hazards to surv.\n",
      "gene missing rate: 0.00%\n",
      "Added hazard and attention to adata_new.obs.\n",
      "Running method: scSurvival(NMF)\n",
      "NMF feature extraction...\n"
     ]
    },
    {
     "name": "stderr",
     "output_type": "stream",
     "text": [
      "Training: 100%|██████████| 500/500 [02:19<00:00,  3.60it/s, atten_entropy=0.715, cox_loss=2.83, loss=2.85]\n"
     ]
    },
    {
     "name": "stdout",
     "output_type": "stream",
     "text": [
      "Added hazard and attention to adata.obs.\n",
      "Added patient_hazards to surv.\n",
      "gene missing rate: 0.00%\n",
      "Added hazard and attention to adata_new.obs.\n",
      "Running method: scSurvival(HVG2000)\n",
      "Standard scaling feature extraction...\n"
     ]
    },
    {
     "name": "stderr",
     "output_type": "stream",
     "text": [
      "Training:  73%|███████▎  | 366/500 [03:50<01:24,  1.59it/s, atten_entropy=0.7, cox_loss=1.84, loss=1.84]  \n"
     ]
    },
    {
     "name": "stdout",
     "output_type": "stream",
     "text": [
      "Added hazard and attention to adata.obs.\n",
      "Added patient_hazards to surv.\n",
      "gene missing rate: 0.00%\n",
      "Added hazard and attention to adata_new.obs.\n",
      "Running sim1 with params: {'cell_surv_ratio': 0.15} and seed: 9\n",
      "  |======================================================================| 100%"
     ]
    },
    {
     "name": "stderr",
     "output_type": "stream",
     "text": [
      "100%|██████████| 100/100 [00:00<00:00, 68624.08it/s]\n"
     ]
    },
    {
     "name": "stdout",
     "output_type": "stream",
     "text": [
      "Running method: scSurvival(VAE)\n",
      "Running method: scSurvival(PCA)\n",
      "Run PCA...\n"
     ]
    },
    {
     "name": "stderr",
     "output_type": "stream",
     "text": [
      "Training: 100%|██████████| 500/500 [02:14<00:00,  3.72it/s, atten_entropy=0.723, cox_loss=2.24, loss=2.27]\n"
     ]
    },
    {
     "name": "stdout",
     "output_type": "stream",
     "text": [
      "Added hazard and attention to adata.obs.\n",
      "Added patient_hazards to surv.\n",
      "gene missing rate: 0.00%\n",
      "Added hazard and attention to adata_new.obs.\n",
      "Running method: scSurvival(NMF)\n",
      "NMF feature extraction...\n"
     ]
    },
    {
     "name": "stderr",
     "output_type": "stream",
     "text": [
      "Training: 100%|██████████| 500/500 [02:18<00:00,  3.60it/s, atten_entropy=0.831, cox_loss=2.73, loss=2.86]\n"
     ]
    },
    {
     "name": "stdout",
     "output_type": "stream",
     "text": [
      "Added hazard and attention to adata.obs.\n",
      "Added patient_hazards to surv.\n",
      "gene missing rate: 0.00%\n",
      "Added hazard and attention to adata_new.obs.\n",
      "Running method: scSurvival(HVG2000)\n",
      "Standard scaling feature extraction...\n"
     ]
    },
    {
     "name": "stderr",
     "output_type": "stream",
     "text": [
      "Training:  34%|███▍      | 170/500 [01:47<03:27,  1.59it/s, atten_entropy=0.7, cox_loss=1.71, loss=1.71]  \n"
     ]
    },
    {
     "name": "stdout",
     "output_type": "stream",
     "text": [
      "Added hazard and attention to adata.obs.\n",
      "Added patient_hazards to surv.\n",
      "gene missing rate: 0.00%\n",
      "Added hazard and attention to adata_new.obs.\n",
      "Running sim1 with params: {'cell_surv_ratio': 0.03} and seed: 9\n",
      "  |======================================================================| 100%"
     ]
    },
    {
     "name": "stderr",
     "output_type": "stream",
     "text": [
      "100%|██████████| 100/100 [00:00<00:00, 94148.24it/s]\n"
     ]
    },
    {
     "name": "stdout",
     "output_type": "stream",
     "text": [
      "Running method: scSurvival(VAE)\n",
      "Running method: scSurvival(PCA)\n",
      "Run PCA...\n"
     ]
    },
    {
     "name": "stderr",
     "output_type": "stream",
     "text": [
      "Training: 100%|██████████| 500/500 [02:14<00:00,  3.72it/s, atten_entropy=0.708, cox_loss=2.34, loss=2.55]\n"
     ]
    },
    {
     "name": "stdout",
     "output_type": "stream",
     "text": [
      "Added hazard and attention to adata.obs.\n",
      "Added patient_hazards to surv.\n",
      "gene missing rate: 0.00%\n",
      "Added hazard and attention to adata_new.obs.\n",
      "Running method: scSurvival(NMF)\n",
      "NMF feature extraction...\n"
     ]
    },
    {
     "name": "stderr",
     "output_type": "stream",
     "text": [
      "Training:  22%|██▏       | 110/500 [00:30<01:46,  3.65it/s, atten_entropy=1, cox_loss=3.56, loss=4.06]\n"
     ]
    },
    {
     "name": "stdout",
     "output_type": "stream",
     "text": [
      "Added hazard and attention to adata.obs.\n",
      "Added patient_hazards to surv.\n",
      "gene missing rate: 0.00%\n",
      "Added hazard and attention to adata_new.obs.\n",
      "Running method: scSurvival(HVG2000)\n",
      "Standard scaling feature extraction...\n"
     ]
    },
    {
     "name": "stderr",
     "output_type": "stream",
     "text": [
      "Training: 100%|██████████| 500/500 [05:14<00:00,  1.59it/s, atten_entropy=0.497, cox_loss=1.81, loss=1.81]\n"
     ]
    },
    {
     "name": "stdout",
     "output_type": "stream",
     "text": [
      "Added hazard and attention to adata.obs.\n",
      "Added patient_hazards to surv.\n",
      "gene missing rate: 0.00%\n",
      "Added hazard and attention to adata_new.obs.\n",
      "Running sim2 with params: {'ds_rate': 0.2} and seed: 9\n",
      "[1] \"Simulating from Batch1 ...\"\n",
      "  |======================================================================| 100%[1] \"\\n\"\n",
      "[1] \"Simulating from Batch2 ...\"\n",
      "  |======================================================================| 100%"
     ]
    },
    {
     "name": "stderr",
     "output_type": "stream",
     "text": [
      "100%|██████████| 100/100 [00:00<00:00, 27228.67it/s]\n"
     ]
    },
    {
     "name": "stdout",
     "output_type": "stream",
     "text": [
      "Running method: scSurvival(VAE)\n",
      "Running method: scSurvival(PCA)\n",
      "Run PCA...\n"
     ]
    },
    {
     "name": "stderr",
     "output_type": "stream",
     "text": [
      "Training: 100%|██████████| 500/500 [02:16<00:00,  3.65it/s, atten_entropy=0.787, cox_loss=2.39, loss=2.48]\n"
     ]
    },
    {
     "name": "stdout",
     "output_type": "stream",
     "text": [
      "Added hazard and attention to adata.obs.\n",
      "Added patient_hazards to surv.\n",
      "gene missing rate: 0.00%\n",
      "Added hazard and attention to adata_new.obs.\n",
      "Running method: scSurvival(NMF)\n",
      "NMF feature extraction...\n"
     ]
    },
    {
     "name": "stderr",
     "output_type": "stream",
     "text": [
      "Training:  21%|██        | 103/500 [00:27<01:47,  3.70it/s, atten_entropy=1, cox_loss=3.6, loss=3.9]  \n"
     ]
    },
    {
     "name": "stdout",
     "output_type": "stream",
     "text": [
      "Added hazard and attention to adata.obs.\n",
      "Added patient_hazards to surv.\n",
      "gene missing rate: 0.00%\n",
      "Added hazard and attention to adata_new.obs.\n",
      "Running method: scSurvival(HVG2000)\n",
      "Standard scaling feature extraction...\n"
     ]
    },
    {
     "name": "stderr",
     "output_type": "stream",
     "text": [
      "Training:  50%|████▉     | 249/500 [02:36<02:37,  1.59it/s, atten_entropy=0.694, cox_loss=1.78, loss=1.78]\n"
     ]
    },
    {
     "name": "stdout",
     "output_type": "stream",
     "text": [
      "Added hazard and attention to adata.obs.\n",
      "Added patient_hazards to surv.\n",
      "gene missing rate: 0.00%\n",
      "Added hazard and attention to adata_new.obs.\n",
      "Running sim3 with params: {'censor_prob': 0.7, 'tr': 2} and seed: 9\n",
      "  |======================================================================| 100%"
     ]
    },
    {
     "name": "stderr",
     "output_type": "stream",
     "text": [
      "100%|██████████| 100/100 [00:00<00:00, 51056.65it/s]\n"
     ]
    },
    {
     "name": "stdout",
     "output_type": "stream",
     "text": [
      "Running method: scSurvival(VAE)\n",
      "Running method: scSurvival(PCA)\n",
      "Run PCA...\n"
     ]
    },
    {
     "name": "stderr",
     "output_type": "stream",
     "text": [
      "Training: 100%|██████████| 500/500 [02:13<00:00,  3.76it/s, atten_entropy=0.754, cox_loss=1.22, loss=1.27] \n"
     ]
    },
    {
     "name": "stdout",
     "output_type": "stream",
     "text": [
      "Added hazard and attention to adata.obs.\n",
      "Added patient_hazards to surv.\n",
      "gene missing rate: 0.00%\n",
      "Added hazard and attention to adata_new.obs.\n",
      "Running method: scSurvival(NMF)\n",
      "NMF feature extraction...\n"
     ]
    },
    {
     "name": "stderr",
     "output_type": "stream",
     "text": [
      "Training:  22%|██▏       | 110/500 [00:29<01:45,  3.71it/s, atten_entropy=1, cox_loss=3.11, loss=3.41]\n"
     ]
    },
    {
     "name": "stdout",
     "output_type": "stream",
     "text": [
      "Added hazard and attention to adata.obs.\n",
      "Added patient_hazards to surv.\n",
      "gene missing rate: 0.00%\n",
      "Added hazard and attention to adata_new.obs.\n",
      "Running method: scSurvival(HVG2000)\n",
      "Standard scaling feature extraction...\n"
     ]
    },
    {
     "name": "stderr",
     "output_type": "stream",
     "text": [
      "Training: 100%|█████████▉| 498/500 [05:11<00:01,  1.60it/s, atten_entropy=0.698, cox_loss=0.907, loss=0.907]\n"
     ]
    },
    {
     "name": "stdout",
     "output_type": "stream",
     "text": [
      "Added hazard and attention to adata.obs.\n",
      "Added patient_hazards to surv.\n",
      "gene missing rate: 0.00%\n",
      "Added hazard and attention to adata_new.obs.\n",
      "Running sim4 with params: {'num_bg_clusters': 5} and seed: 9\n",
      "  |======================================================================| 100%"
     ]
    },
    {
     "name": "stderr",
     "output_type": "stream",
     "text": [
      "100%|██████████| 100/100 [00:00<00:00, 12494.58it/s]\n"
     ]
    },
    {
     "name": "stdout",
     "output_type": "stream",
     "text": [
      "Running method: scSurvival(VAE)\n",
      "Running method: scSurvival(PCA)\n",
      "Run PCA...\n"
     ]
    },
    {
     "name": "stderr",
     "output_type": "stream",
     "text": [
      "Training:  64%|██████▍   | 319/500 [01:28<00:49,  3.62it/s, atten_entropy=0.782, cox_loss=2.18, loss=2.26]\n"
     ]
    },
    {
     "name": "stdout",
     "output_type": "stream",
     "text": [
      "Added hazard and attention to adata.obs.\n",
      "Added patient_hazards to surv.\n",
      "gene missing rate: 0.00%\n",
      "Added hazard and attention to adata_new.obs.\n",
      "Running method: scSurvival(NMF)\n",
      "NMF feature extraction...\n"
     ]
    },
    {
     "name": "stderr",
     "output_type": "stream",
     "text": [
      "Training:  22%|██▏       | 110/500 [00:30<01:46,  3.66it/s, atten_entropy=1, cox_loss=3.54, loss=3.84]\n"
     ]
    },
    {
     "name": "stdout",
     "output_type": "stream",
     "text": [
      "Added hazard and attention to adata.obs.\n",
      "Added patient_hazards to surv.\n",
      "gene missing rate: 0.00%\n",
      "Added hazard and attention to adata_new.obs.\n",
      "Running method: scSurvival(HVG2000)\n",
      "Standard scaling feature extraction...\n"
     ]
    },
    {
     "name": "stderr",
     "output_type": "stream",
     "text": [
      "Training: 100%|██████████| 500/500 [05:14<00:00,  1.59it/s, atten_entropy=0.698, cox_loss=1.74, loss=1.74]\n"
     ]
    },
    {
     "name": "stdout",
     "output_type": "stream",
     "text": [
      "Added hazard and attention to adata.obs.\n",
      "Added patient_hazards to surv.\n",
      "gene missing rate: 0.00%\n",
      "Added hazard and attention to adata_new.obs.\n",
      "Running sim5 with params: {'group_effect': 3, 'high_group_prob': 0.5} and seed: 9\n",
      "  |======================================================================| 100%"
     ]
    },
    {
     "name": "stderr",
     "output_type": "stream",
     "text": [
      "100%|██████████| 100/100 [00:00<00:00, 50009.59it/s]\n"
     ]
    },
    {
     "name": "stdout",
     "output_type": "stream",
     "text": [
      "Running method: scSurvival(VAE)\n",
      "Running method: scSurvival(PCA)\n",
      "Run PCA...\n"
     ]
    },
    {
     "name": "stderr",
     "output_type": "stream",
     "text": [
      "Training: 100%|██████████| 500/500 [02:18<00:00,  3.62it/s, atten_entropy=0.711, cox_loss=2.33, loss=2.34]\n"
     ]
    },
    {
     "name": "stdout",
     "output_type": "stream",
     "text": [
      "Added hazard and attention to adata.obs.\n",
      "Added patient_hazards to surv.\n",
      "gene missing rate: 0.00%\n",
      "Added hazard and attention to adata_new.obs.\n",
      "Running method: scSurvival(NMF)\n",
      "NMF feature extraction...\n"
     ]
    },
    {
     "name": "stderr",
     "output_type": "stream",
     "text": [
      "Training: 100%|██████████| 500/500 [02:14<00:00,  3.72it/s, atten_entropy=0.849, cox_loss=2.88, loss=3.03]\n"
     ]
    },
    {
     "name": "stdout",
     "output_type": "stream",
     "text": [
      "Added hazard and attention to adata.obs.\n",
      "Added patient_hazards to surv.\n",
      "gene missing rate: 0.00%\n",
      "Added hazard and attention to adata_new.obs.\n",
      "Running method: scSurvival(HVG2000)\n",
      "Standard scaling feature extraction...\n"
     ]
    },
    {
     "name": "stderr",
     "output_type": "stream",
     "text": [
      "Training:  57%|█████▋    | 287/500 [03:00<02:13,  1.59it/s, atten_entropy=0.699, cox_loss=1.83, loss=1.83]\n"
     ]
    },
    {
     "name": "stdout",
     "output_type": "stream",
     "text": [
      "Added hazard and attention to adata.obs.\n",
      "Added patient_hazards to surv.\n",
      "gene missing rate: 0.00%\n",
      "Added hazard and attention to adata_new.obs.\n",
      "Running sim6 with params: {'sub_cluster_ratio': 0.3, 'de_facloc': 0.35} and seed: 9\n",
      "  |======================================================================| 100%"
     ]
    },
    {
     "name": "stderr",
     "output_type": "stream",
     "text": [
      "100%|██████████| 100/100 [00:00<00:00, 51961.15it/s]\n"
     ]
    },
    {
     "name": "stdout",
     "output_type": "stream",
     "text": [
      "Running method: scSurvival(VAE)\n",
      "Running method: scSurvival(PCA)\n",
      "Run PCA...\n"
     ]
    },
    {
     "name": "stderr",
     "output_type": "stream",
     "text": [
      "Training:  64%|██████▍   | 319/500 [01:26<00:48,  3.70it/s, atten_entropy=0.887, cox_loss=2.29, loss=2.48]\n"
     ]
    },
    {
     "name": "stdout",
     "output_type": "stream",
     "text": [
      "Added hazard and attention to adata.obs.\n",
      "Added patient_hazards to surv.\n",
      "gene missing rate: 0.00%\n",
      "Added hazard and attention to adata_new.obs.\n",
      "Running method: scSurvival(NMF)\n",
      "NMF feature extraction...\n"
     ]
    },
    {
     "name": "stderr",
     "output_type": "stream",
     "text": [
      "Training: 100%|██████████| 500/500 [02:17<00:00,  3.63it/s, atten_entropy=0.704, cox_loss=2.54, loss=2.55]\n"
     ]
    },
    {
     "name": "stdout",
     "output_type": "stream",
     "text": [
      "Added hazard and attention to adata.obs.\n",
      "Added patient_hazards to surv.\n",
      "gene missing rate: 0.00%\n",
      "Added hazard and attention to adata_new.obs.\n",
      "Running method: scSurvival(HVG2000)\n",
      "Standard scaling feature extraction...\n"
     ]
    },
    {
     "name": "stderr",
     "output_type": "stream",
     "text": [
      "Training:  47%|████▋     | 234/500 [02:23<02:43,  1.63it/s, atten_entropy=0.668, cox_loss=3.59, loss=3.59]\n"
     ]
    },
    {
     "name": "stdout",
     "output_type": "stream",
     "text": [
      "Added hazard and attention to adata.obs.\n",
      "Added patient_hazards to surv.\n",
      "gene missing rate: 0.00%\n",
      "Added hazard and attention to adata_new.obs.\n",
      "Running sim1 with params: {'cell_surv_ratio': 0.15} and seed: 10\n",
      "  |======================================================================| 100%"
     ]
    },
    {
     "name": "stderr",
     "output_type": "stream",
     "text": [
      "100%|██████████| 100/100 [00:00<00:00, 28511.35it/s]\n"
     ]
    },
    {
     "name": "stdout",
     "output_type": "stream",
     "text": [
      "Running method: scSurvival(VAE)\n",
      "Running method: scSurvival(PCA)\n",
      "Run PCA...\n"
     ]
    },
    {
     "name": "stderr",
     "output_type": "stream",
     "text": [
      "Training: 100%|██████████| 500/500 [02:17<00:00,  3.62it/s, atten_entropy=0.766, cox_loss=2.37, loss=2.44]\n"
     ]
    },
    {
     "name": "stdout",
     "output_type": "stream",
     "text": [
      "Added hazard and attention to adata.obs.\n",
      "Added patient_hazards to surv.\n",
      "gene missing rate: 0.00%\n",
      "Added hazard and attention to adata_new.obs.\n",
      "Running method: scSurvival(NMF)\n",
      "NMF feature extraction...\n"
     ]
    },
    {
     "name": "stderr",
     "output_type": "stream",
     "text": [
      "Training:  21%|██        | 103/500 [00:28<01:48,  3.65it/s, atten_entropy=1, cox_loss=3.62, loss=3.92]\n"
     ]
    },
    {
     "name": "stdout",
     "output_type": "stream",
     "text": [
      "Added hazard and attention to adata.obs.\n",
      "Added patient_hazards to surv.\n",
      "gene missing rate: 0.00%\n",
      "Added hazard and attention to adata_new.obs.\n",
      "Running method: scSurvival(HVG2000)\n",
      "Standard scaling feature extraction...\n"
     ]
    },
    {
     "name": "stderr",
     "output_type": "stream",
     "text": [
      "Training:  46%|████▋     | 232/500 [02:25<02:48,  1.59it/s, atten_entropy=0.7, cox_loss=1.82, loss=1.82]  \n"
     ]
    },
    {
     "name": "stdout",
     "output_type": "stream",
     "text": [
      "Added hazard and attention to adata.obs.\n",
      "Added patient_hazards to surv.\n",
      "gene missing rate: 0.00%\n",
      "Added hazard and attention to adata_new.obs.\n",
      "Running sim1 with params: {'cell_surv_ratio': 0.03} and seed: 10\n",
      "  |======================================================================| 100%"
     ]
    },
    {
     "name": "stderr",
     "output_type": "stream",
     "text": [
      "100%|██████████| 100/100 [00:00<00:00, 47436.15it/s]\n"
     ]
    },
    {
     "name": "stdout",
     "output_type": "stream",
     "text": [
      "Running method: scSurvival(VAE)\n",
      "Running method: scSurvival(PCA)\n",
      "Run PCA...\n"
     ]
    },
    {
     "name": "stderr",
     "output_type": "stream",
     "text": [
      "Training: 100%|██████████| 500/500 [02:15<00:00,  3.68it/s, atten_entropy=0.739, cox_loss=2.27, loss=2.51]\n"
     ]
    },
    {
     "name": "stdout",
     "output_type": "stream",
     "text": [
      "Added hazard and attention to adata.obs.\n",
      "Added patient_hazards to surv.\n",
      "gene missing rate: 0.00%\n",
      "Added hazard and attention to adata_new.obs.\n",
      "Running method: scSurvival(NMF)\n",
      "NMF feature extraction...\n"
     ]
    },
    {
     "name": "stderr",
     "output_type": "stream",
     "text": [
      "Training:  22%|██▏       | 110/500 [00:30<01:48,  3.61it/s, atten_entropy=1, cox_loss=3.52, loss=4.02]\n"
     ]
    },
    {
     "name": "stdout",
     "output_type": "stream",
     "text": [
      "Added hazard and attention to adata.obs.\n",
      "Added patient_hazards to surv.\n",
      "gene missing rate: 0.00%\n",
      "Added hazard and attention to adata_new.obs.\n",
      "Running method: scSurvival(HVG2000)\n",
      "Standard scaling feature extraction...\n"
     ]
    },
    {
     "name": "stderr",
     "output_type": "stream",
     "text": [
      "Training:  57%|█████▋    | 284/500 [02:58<02:15,  1.59it/s, atten_entropy=0.499, cox_loss=1.75, loss=1.75]\n"
     ]
    },
    {
     "name": "stdout",
     "output_type": "stream",
     "text": [
      "Added hazard and attention to adata.obs.\n",
      "Added patient_hazards to surv.\n",
      "gene missing rate: 0.00%\n",
      "Added hazard and attention to adata_new.obs.\n",
      "Running sim2 with params: {'ds_rate': 0.2} and seed: 10\n",
      "[1] \"Simulating from Batch1 ...\"\n",
      "  |======================================================================| 100%[1] \"\\n\"\n",
      "[1] \"Simulating from Batch2 ...\"\n",
      "  |======================================================================| 100%"
     ]
    },
    {
     "name": "stderr",
     "output_type": "stream",
     "text": [
      "100%|██████████| 100/100 [00:00<00:00, 18155.59it/s]\n"
     ]
    },
    {
     "name": "stdout",
     "output_type": "stream",
     "text": [
      "Running method: scSurvival(VAE)\n",
      "Running method: scSurvival(PCA)\n",
      "Run PCA...\n"
     ]
    },
    {
     "name": "stderr",
     "output_type": "stream",
     "text": [
      "Training: 100%|██████████| 500/500 [02:15<00:00,  3.70it/s, atten_entropy=0.758, cox_loss=2.35, loss=2.41]\n"
     ]
    },
    {
     "name": "stdout",
     "output_type": "stream",
     "text": [
      "Added hazard and attention to adata.obs.\n",
      "Added patient_hazards to surv.\n",
      "gene missing rate: 0.00%\n",
      "Added hazard and attention to adata_new.obs.\n",
      "Running method: scSurvival(NMF)\n",
      "NMF feature extraction...\n"
     ]
    },
    {
     "name": "stderr",
     "output_type": "stream",
     "text": [
      "Training:  26%|██▌       | 129/500 [00:35<01:42,  3.61it/s, atten_entropy=0.999, cox_loss=3.52, loss=3.82]\n"
     ]
    },
    {
     "name": "stdout",
     "output_type": "stream",
     "text": [
      "Added hazard and attention to adata.obs.\n",
      "Added patient_hazards to surv.\n",
      "gene missing rate: 0.00%\n",
      "Added hazard and attention to adata_new.obs.\n",
      "Running method: scSurvival(HVG2000)\n",
      "Standard scaling feature extraction...\n"
     ]
    },
    {
     "name": "stderr",
     "output_type": "stream",
     "text": [
      "Training:  89%|████████▉ | 444/500 [04:39<00:35,  1.59it/s, atten_entropy=0.7, cox_loss=1.73, loss=1.73]  \n"
     ]
    },
    {
     "name": "stdout",
     "output_type": "stream",
     "text": [
      "Added hazard and attention to adata.obs.\n",
      "Added patient_hazards to surv.\n",
      "gene missing rate: 0.00%\n",
      "Added hazard and attention to adata_new.obs.\n",
      "Running sim3 with params: {'censor_prob': 0.7, 'tr': 2} and seed: 10\n",
      "  |======================================================================| 100%"
     ]
    },
    {
     "name": "stderr",
     "output_type": "stream",
     "text": [
      "100%|██████████| 100/100 [00:00<00:00, 33235.37it/s]\n"
     ]
    },
    {
     "name": "stdout",
     "output_type": "stream",
     "text": [
      "Running method: scSurvival(VAE)\n",
      "Running method: scSurvival(PCA)\n",
      "Run PCA...\n"
     ]
    },
    {
     "name": "stderr",
     "output_type": "stream",
     "text": [
      "Training: 100%|██████████| 500/500 [02:18<00:00,  3.61it/s, atten_entropy=0.753, cox_loss=1.22, loss=1.27]\n"
     ]
    },
    {
     "name": "stdout",
     "output_type": "stream",
     "text": [
      "Added hazard and attention to adata.obs.\n",
      "Added patient_hazards to surv.\n",
      "gene missing rate: 0.00%\n",
      "Added hazard and attention to adata_new.obs.\n",
      "Running method: scSurvival(NMF)\n",
      "NMF feature extraction...\n"
     ]
    },
    {
     "name": "stderr",
     "output_type": "stream",
     "text": [
      "Training:  21%|██        | 103/500 [00:31<02:01,  3.27it/s, atten_entropy=1, cox_loss=3.23, loss=3.53]\n"
     ]
    },
    {
     "name": "stdout",
     "output_type": "stream",
     "text": [
      "Added hazard and attention to adata.obs.\n",
      "Added patient_hazards to surv.\n",
      "gene missing rate: 0.00%\n",
      "Added hazard and attention to adata_new.obs.\n",
      "Running method: scSurvival(HVG2000)\n",
      "Standard scaling feature extraction...\n"
     ]
    },
    {
     "name": "stderr",
     "output_type": "stream",
     "text": [
      "Training:  69%|██████▉   | 347/500 [03:40<01:37,  1.58it/s, atten_entropy=0.698, cox_loss=0.88, loss=0.88]  \n"
     ]
    },
    {
     "name": "stdout",
     "output_type": "stream",
     "text": [
      "Added hazard and attention to adata.obs.\n",
      "Added patient_hazards to surv.\n",
      "gene missing rate: 0.00%\n",
      "Added hazard and attention to adata_new.obs.\n",
      "Running sim4 with params: {'num_bg_clusters': 5} and seed: 10\n",
      "  |======================================================================| 100%"
     ]
    },
    {
     "name": "stderr",
     "output_type": "stream",
     "text": [
      "100%|██████████| 100/100 [00:00<00:00, 12491.97it/s]\n"
     ]
    },
    {
     "name": "stdout",
     "output_type": "stream",
     "text": [
      "Running method: scSurvival(VAE)\n",
      "Running method: scSurvival(PCA)\n",
      "Run PCA...\n"
     ]
    },
    {
     "name": "stderr",
     "output_type": "stream",
     "text": [
      "Training: 100%|██████████| 500/500 [02:27<00:00,  3.39it/s, atten_entropy=0.749, cox_loss=2.28, loss=2.32]\n"
     ]
    },
    {
     "name": "stdout",
     "output_type": "stream",
     "text": [
      "Added hazard and attention to adata.obs.\n",
      "Added patient_hazards to surv.\n",
      "gene missing rate: 0.00%\n",
      "Added hazard and attention to adata_new.obs.\n",
      "Running method: scSurvival(NMF)\n",
      "NMF feature extraction...\n"
     ]
    },
    {
     "name": "stderr",
     "output_type": "stream",
     "text": [
      "Training:  26%|██▌       | 129/500 [00:39<01:52,  3.31it/s, atten_entropy=1, cox_loss=3.58, loss=3.88]\n"
     ]
    },
    {
     "name": "stdout",
     "output_type": "stream",
     "text": [
      "Added hazard and attention to adata.obs.\n",
      "Added patient_hazards to surv.\n",
      "gene missing rate: 0.00%\n",
      "Added hazard and attention to adata_new.obs.\n",
      "Running method: scSurvival(HVG2000)\n",
      "Standard scaling feature extraction...\n"
     ]
    },
    {
     "name": "stderr",
     "output_type": "stream",
     "text": [
      "Training: 100%|██████████| 500/500 [05:13<00:00,  1.59it/s, atten_entropy=0.698, cox_loss=1.72, loss=1.72]\n"
     ]
    },
    {
     "name": "stdout",
     "output_type": "stream",
     "text": [
      "Added hazard and attention to adata.obs.\n",
      "Added patient_hazards to surv.\n",
      "gene missing rate: 0.00%\n",
      "Added hazard and attention to adata_new.obs.\n",
      "Running sim5 with params: {'group_effect': 3, 'high_group_prob': 0.5} and seed: 10\n",
      "  |======================================================================| 100%"
     ]
    },
    {
     "name": "stderr",
     "output_type": "stream",
     "text": [
      "100%|██████████| 100/100 [00:00<00:00, 50237.20it/s]\n"
     ]
    },
    {
     "name": "stdout",
     "output_type": "stream",
     "text": [
      "Running method: scSurvival(VAE)\n",
      "Running method: scSurvival(PCA)\n",
      "Run PCA...\n"
     ]
    },
    {
     "name": "stderr",
     "output_type": "stream",
     "text": [
      "Training: 100%|██████████| 500/500 [02:28<00:00,  3.38it/s, atten_entropy=0.698, cox_loss=2.41, loss=2.41]\n"
     ]
    },
    {
     "name": "stdout",
     "output_type": "stream",
     "text": [
      "Added hazard and attention to adata.obs.\n",
      "Added patient_hazards to surv.\n",
      "gene missing rate: 0.00%\n",
      "Added hazard and attention to adata_new.obs.\n",
      "Running method: scSurvival(NMF)\n",
      "NMF feature extraction...\n"
     ]
    },
    {
     "name": "stderr",
     "output_type": "stream",
     "text": [
      "Training: 100%|██████████| 500/500 [02:27<00:00,  3.38it/s, atten_entropy=0.837, cox_loss=3.1, loss=3.23] \n"
     ]
    },
    {
     "name": "stdout",
     "output_type": "stream",
     "text": [
      "Added hazard and attention to adata.obs.\n",
      "Added patient_hazards to surv.\n",
      "gene missing rate: 0.00%\n",
      "Added hazard and attention to adata_new.obs.\n",
      "Running method: scSurvival(HVG2000)\n",
      "Standard scaling feature extraction...\n"
     ]
    },
    {
     "name": "stderr",
     "output_type": "stream",
     "text": [
      "Training:  76%|███████▌  | 379/500 [03:59<01:16,  1.58it/s, atten_entropy=0.691, cox_loss=1.79, loss=1.79]\n"
     ]
    },
    {
     "name": "stdout",
     "output_type": "stream",
     "text": [
      "Added hazard and attention to adata.obs.\n",
      "Added patient_hazards to surv.\n",
      "gene missing rate: 0.00%\n",
      "Added hazard and attention to adata_new.obs.\n",
      "Running sim6 with params: {'sub_cluster_ratio': 0.3, 'de_facloc': 0.35} and seed: 10\n",
      "  |======================================================================| 100%"
     ]
    },
    {
     "name": "stderr",
     "output_type": "stream",
     "text": [
      "100%|██████████| 100/100 [00:00<00:00, 98898.94it/s]\n"
     ]
    },
    {
     "name": "stdout",
     "output_type": "stream",
     "text": [
      "Running method: scSurvival(VAE)\n",
      "Running method: scSurvival(PCA)\n",
      "Run PCA...\n"
     ]
    },
    {
     "name": "stderr",
     "output_type": "stream",
     "text": [
      "Training: 100%|██████████| 500/500 [02:28<00:00,  3.37it/s, atten_entropy=0.723, cox_loss=2.35, loss=2.37]\n"
     ]
    },
    {
     "name": "stdout",
     "output_type": "stream",
     "text": [
      "Added hazard and attention to adata.obs.\n",
      "Added patient_hazards to surv.\n",
      "gene missing rate: 0.00%\n",
      "Added hazard and attention to adata_new.obs.\n",
      "Running method: scSurvival(NMF)\n",
      "NMF feature extraction...\n"
     ]
    },
    {
     "name": "stderr",
     "output_type": "stream",
     "text": [
      "Training: 100%|██████████| 500/500 [02:32<00:00,  3.29it/s, atten_entropy=0.689, cox_loss=2.77, loss=2.77]\n"
     ]
    },
    {
     "name": "stdout",
     "output_type": "stream",
     "text": [
      "Added hazard and attention to adata.obs.\n",
      "Added patient_hazards to surv.\n",
      "gene missing rate: 0.00%\n",
      "Added hazard and attention to adata_new.obs.\n",
      "Running method: scSurvival(HVG2000)\n",
      "Standard scaling feature extraction...\n"
     ]
    },
    {
     "name": "stderr",
     "output_type": "stream",
     "text": [
      "Training:  20%|██        | 101/500 [01:01<04:03,  1.64it/s, atten_entropy=0.652, cox_loss=3.59, loss=3.59]\n"
     ]
    },
    {
     "name": "stdout",
     "output_type": "stream",
     "text": [
      "Added hazard and attention to adata.obs.\n",
      "Added patient_hazards to surv.\n",
      "gene missing rate: 0.00%\n",
      "Added hazard and attention to adata_new.obs.\n"
     ]
    }
   ],
   "source": [
    "save_root_path = './benchmark_results/'\n",
    "if not os.path.exists(save_root_path):\n",
    "    os.makedirs(save_root_path)\n",
    "\n",
    "logger = Logger(f'{save_root_path}/log_detecting_cells.csv')\n",
    "for seed in seeds:\n",
    "    for i, (case, params) in enumerate(represent_cases.items()):\n",
    "        sim = importlib.import_module(f'simu_type_{i+1}')\n",
    "        \n",
    "        keys, values = zip(*params.items())\n",
    "        combos = [dict(zip(keys, v)) for v in product(*values)]\n",
    "        for param in combos:\n",
    "            print(f'Running {case} with params: {param} and seed: {seed}')\n",
    "            # param['seed'] = seed\n",
    "            adata, surv, adata_new = sim.create_data(seed=seed, **param)\n",
    "\n",
    "            for method in methods:\n",
    "                \n",
    "\n",
    "                if not method.startswith('scSurvival'):\n",
    "                    continue\n",
    "\n",
    "                print(f'Running method: {method}')\n",
    "                \n",
    "                logger.log('seed', seed)\n",
    "                logger.log('case', case)\n",
    "                logger.log('params', str(param))\n",
    "                logger.log('method', method)\n",
    "\n",
    "                if method == 'scSurvival(VAE)':\n",
    "                    clf_report_dict = load_scSurvival_vae_results(rst_type='clf_report', sim_case=case, seed=seed, **param)\n",
    "                    logger.log_dict(clf_report_dict)\n",
    "                    logger.get_logs_df()\n",
    "                    continue\n",
    "\n",
    "                alg_params_on_methods = get_alg_params_on_methods(method)\n",
    "                alg_params_on_sim = get_alg_params_on_sim(case)\n",
    "                alg_params = {**alg_params_on_methods, **alg_params_on_sim}\n",
    "\n",
    "                if 'cell_surv_ratio' in param:\n",
    "                    if param['cell_surv_ratio'] == 0.03:\n",
    "                        alg_params['entropy_threshold'] = 0.5\n",
    "\n",
    "                clf_report_df, adata_new = detect_subpopulations(adata, surv, adata_new, **alg_params)\n",
    "                logger = log_clf_report_df(logger, clf_report_df)\n",
    "                \n",
    "                logger.get_logs_df()\n",
    "\n",
    "                # raise ValueError('stop here for testing')"
   ]
  },
  {
   "cell_type": "code",
   "execution_count": 10,
   "id": "0114b8fd",
   "metadata": {},
   "outputs": [
    {
     "data": {
      "text/plain": [
       "AnnData object with n_obs × n_vars = 100000 × 2000\n",
       "    obs: 'sample', 'hazard', 'attention', 'hazard_adj'\n",
       "    var: 'mean', 'std'\n",
       "    uns: 'pca'\n",
       "    obsm: 'X_pca'\n",
       "    varm: 'PCs'"
      ]
     },
     "execution_count": 10,
     "metadata": {},
     "output_type": "execute_result"
    }
   ],
   "source": [
    "adata"
   ]
  }
 ],
 "metadata": {
  "kernelspec": {
   "display_name": "base",
   "language": "python",
   "name": "python3"
  },
  "language_info": {
   "codemirror_mode": {
    "name": "ipython",
    "version": 3
   },
   "file_extension": ".py",
   "mimetype": "text/x-python",
   "name": "python",
   "nbconvert_exporter": "python",
   "pygments_lexer": "ipython3",
   "version": "3.11.9"
  }
 },
 "nbformat": 4,
 "nbformat_minor": 5
}
