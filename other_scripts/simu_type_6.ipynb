{
 "cells": [
  {
   "cell_type": "code",
   "execution_count": 1,
   "id": "1f7ef388",
   "metadata": {},
   "outputs": [],
   "source": [
    "import os\n",
    "os.environ[\"RPY2_CFFI_MODE\"] = \"ABI\"\n",
    "import rpy2.robjects as ro\n",
    "import rpy2.robjects as ro\n",
    "from rpy2.robjects import pandas2ri\n",
    "from rpy2.robjects.conversion import localconverter\n",
    "from rpy2.rinterface_lib.callbacks import logger as rpy2_logger\n",
    "rpy2_logger.setLevel(\"ERROR\")   # 只显示错误，屏蔽 message 和 warning\n",
    "rpy2_logger.propagate = False   # 阻止继续传给 root logger\n",
    "\n",
    "import sys\n",
    "sys.path.append(\"../../\")\n",
    "\n",
    "# from scSurvival.scsurvival import scSurvival, scSurvivalRun, PredictIndSample\n",
    "from scSurvival_beta import scSurvivalRun, PredictIndSample\n",
    "import torch\n",
    "import seaborn as sns\n",
    "import matplotlib.pyplot as plt\n",
    "import numpy as np\n",
    "import pandas as pd\n",
    "\n",
    "import os \n",
    "os.environ['KMP_DUPLICATE_LIB_OK']='True'\n",
    "\n",
    "from tqdm import tqdm, trange\n",
    "import scanpy as sc\n",
    "from sklearn.preprocessing import StandardScaler\n",
    "from sklearn.decomposition import PCA\n",
    "from sklearn.cluster import KMeans\n",
    "\n",
    "from sklearn.metrics import classification_report\n",
    "from sklearn.model_selection import KFold\n",
    "import io\n",
    "import contextlib\n",
    "f = io.StringIO()\n",
    "from lifelines.utils import concordance_index\n",
    "from scipy.stats import percentileofscore\n",
    "from utils import *"
   ]
  },
  {
   "cell_type": "code",
   "execution_count": 2,
   "id": "ef9ae14a",
   "metadata": {},
   "outputs": [],
   "source": [
    "def load_r_packages():\n",
    "    ro.r('''  \n",
    "    rm(list=ls())\n",
    "    # library(\"scater\")\n",
    "    library(\"splatter\")\n",
    "    library(scran)\n",
    "    library(Seurat)\n",
    "    # library(preprocessCore)\n",
    "    library(pROC)\n",
    "    # library(APML2)\n",
    "    # library(APML1)\n",
    "    # library(APML0)\n",
    "\n",
    "    library(ggplot2)\n",
    "    library(dplyr)\n",
    "    library(caret)\n",
    "    set.seed(1)\n",
    "    ''')\n",
    "\n",
    "\n",
    "def simulated_base_sc_dataset(seed=42, plot=False, cell_surv_ratio=0.15, sub_cluster_ratio=0.3, de_facloc=0.35):\n",
    "    ro.r(f'''\n",
    "    seed <- {seed}\n",
    "    alpha = {cell_surv_ratio}\n",
    "    sub_cluster_ratio = {sub_cluster_ratio}\n",
    "    de_facLoc = {de_facloc}\n",
    "    num_bg_clusters = 3\n",
    "\n",
    "    # ----------------------\n",
    "    # 第一步：生成 3 个大类\n",
    "    # ----------------------\n",
    "    sim.top <- splatSimulateGroups(\n",
    "      batchCells = 10000, nGenes = 2000,\n",
    "      group.prob = c(1- 2*alpha, alpha, alpha),   # 背景:70%, A:15%, B:15%\n",
    "      de.prob = c(0.6, 0.3, 0.3),\n",
    "      de.facLoc = c(0.6, 0.2, 0.2),\n",
    "      de.facScale = c(0.6, 0.6, 0.6),\n",
    "      seed = seed\n",
    "    )\n",
    "\n",
    "    # ----------------------\n",
    "    # 第二步：细分 A -> (2,3)，B -> (4,5)\n",
    "    # ----------------------\n",
    "    sce.A <- sim.top[, sim.top$Group == \"Group2\"]\n",
    "    sim.A <- splatSimulateGroups(\n",
    "      # params.ref,\n",
    "      batchCells = ncol(sce.A),\n",
    "      nGenes = 2000,\n",
    "      group.prob = c(sub_cluster_ratio, 1-sub_cluster_ratio),          \n",
    "      de.prob = c(0.02, 0.02),             # 保证 2/3 相似\n",
    "      de.facLoc = c(de_facLoc, de_facLoc),\n",
    "      de.facScale = c(0.1, 0.1),\n",
    "      seed = seed + 1\n",
    "    )\n",
    "\n",
    "    sce.B <- sim.top[, sim.top$Group == \"Group3\"]\n",
    "    sim.B <- splatSimulateGroups(\n",
    "      # params.ref,\n",
    "      batchCells = ncol(sce.B),\n",
    "      nGenes = 2000,\n",
    "      group.prob = c(sub_cluster_ratio, 1-sub_cluster_ratio),          \n",
    "      de.prob = c(0.02, 0.02),           \n",
    "      de.facLoc = c(de_facLoc, de_facLoc),\n",
    "      de.facScale = c(0.1, 0.1),\n",
    "      seed = seed + 2\n",
    "    )\n",
    "\n",
    "    # 合并 counts\n",
    "    sce.bg <- sim.top[, sim.top$Group == \"Group1\"]\n",
    "    expr.all <- cbind(\n",
    "      counts(sce.bg),\n",
    "      counts(sim.A),\n",
    "      counts(sim.B)\n",
    "    )\n",
    "\n",
    "    # 构造 group 标签\n",
    "    group.labels <- c(\n",
    "      rep(\"Group1\", ncol(sce.bg)),\n",
    "      paste0(\"Group\", 2:3)[sim.A$Group],\n",
    "      paste0(\"Group\", 4:5)[sim.B$Group]\n",
    "    )\n",
    "\n",
    "    # 生成完整的 SCE 对象\n",
    "    sim.groups <- SingleCellExperiment(\n",
    "      assays = list(counts = expr.all)\n",
    "    )\n",
    "    colData(sim.groups)$Group <- factor(group.labels, levels = paste0(\"Group\", 1:5))\n",
    "\n",
    "    counts.mat <- counts(sim.groups)\n",
    "    rownames(counts.mat) <- make.unique(rownames(counts.mat))\n",
    "    colnames(counts.mat) <- paste0('Cell', 1:ncol(counts.mat))\n",
    "\n",
    "    data <- CreateSeuratObject(counts = counts.mat)\n",
    "    data <- AddMetaData(object = data, metadata = sim.groups$Group, col.name = \"sim.group\")\n",
    "\n",
    "    sim.groups.recode <- rep('other', dim(data)[2])\n",
    "    sim.groups.recode[data$sim.group %in% c('Group2')] <- 'good.survival'\n",
    "    sim.groups.recode[data$sim.group %in% c('Group4')] <- 'bad.survival'\n",
    "    data$Actual.cond <- factor(sim.groups.recode, levels=c('other', 'good.survival', 'bad.survival'))\n",
    "\n",
    "    select_gene_ids <- 1:2000\n",
    "    data <- NormalizeData(object = data, normalization.method = \"LogNormalize\", \n",
    "                          scale.factor = 10000)\n",
    "    data <- FindVariableFeatures(object = data, selection.method = 'vst', nfeatures=2000)\n",
    "    var_features_genes = VariableFeatures(data)\n",
    "    ''')\n",
    "\n",
    "    if plot:\n",
    "        ro.r('''\n",
    "        data <- ScaleData(object = data)\n",
    "        data <- RunPCA(object = data, features = VariableFeatures(data)[select_gene_ids])\n",
    "\n",
    "        data <- RunUMAP(object = data, dims = 1:10, n.neighbors = 5, min.dist=0.5, spread=1.5)\n",
    "        # data <- RunUMAP(object = data, dims = 1:10)\n",
    "        data <- FindNeighbors(object = data, dims = 1:10, k.param=20)\n",
    "        # data <- FindNeighbors(object = data, dims = 1:10, k.param=20,prune.SNN = 0.2)\n",
    "        data <- FindClusters(object = data, resolution = 0.5)\n",
    "\n",
    "        DimPlot(object = data, reduction = 'umap', group.by = 'seurat_clusters', label = F, label.size = 10,pt.size=0.5)\n",
    "        ggsave(paste0(save_path, 'simu_seurat_cluster_umap.pdf'), height = 5, width = 7)\n",
    "\n",
    "        DimPlot(object = data, reduction = 'umap', group.by = 'sim.group', pt.size = 0.5, label = T)\n",
    "        ggsave(paste0(save_path, 'simu_group_umap.pdf'), height = 5, width = 7)\n",
    "\n",
    "        # DimPlot(object = data, reduction = 'umap',  cols = c('grey','blue', 'red'), group.by = 'sim.group', pt.size = 0.5, label = T)\n",
    "        # \n",
    "        DimPlot(object = data, reduction = 'umap',  cols = c('grey','blue', 'red'), group.by = 'Actual.cond', pt.size = 0.5, label = T)\n",
    "        ggsave(paste0(save_path, 'simu_surv_group_umap.pdf'), height = 5, width = 7)\n",
    "        ''')\n",
    "\n",
    "def simulated_sc_datasets(plot=False):\n",
    "    ro.r('''\n",
    "    Expression_pbmc <- as.matrix(data@assays[[\"RNA\"]]@layers[[\"data\"]])\n",
    "    rownames(Expression_pbmc) <- rownames(data)\n",
    "    colnames(Expression_pbmc) <- colnames(data)\n",
    "    Expression_pbmc <- as.data.frame(Expression_pbmc)\n",
    "    all_genes <- rownames(Expression_pbmc)\n",
    "         \n",
    "    sampled_cells = 1000\n",
    "    bulk_num=100\n",
    "\n",
    "    other_cells <- colnames(Expression_pbmc)[data$Actual.cond=='other']\n",
    "    good_cells <- colnames(Expression_pbmc)[data$Actual.cond=='good.survival']\n",
    "    bad_cells <- colnames(Expression_pbmc)[data$Actual.cond=='bad.survival']\n",
    "    num_good <- length(good_cells)\n",
    "    num_bad <- length(bad_cells)\n",
    "\n",
    "    bulk_condition = NULL\n",
    "    censor_prob = 0.1\n",
    "\n",
    "    status = NULL\n",
    "    surv_time = NULL\n",
    "\n",
    "    num_good_cond_cells = NULL\n",
    "    num_bad_cond_cells = NULL\n",
    "         \n",
    "    risk_prop <- alpha / (1 - alpha)\n",
    "\n",
    "    sc_data_list = list()\n",
    "    pb <- txtProgressBar(min = 1, max = bulk_num, style = 3)\n",
    "    for (i in 1:bulk_num){\n",
    "      setTxtProgressBar(pb, i)\n",
    "      set.seed(seed+i)   \n",
    "      ratio <- (i-1) / (bulk_num-1)\n",
    "      # ratio <- plogis((ratio - 0.5) * 2 * 6)\n",
    "      num_good_cond_cells_i = round(sampled_cells * ratio * risk_prop)\n",
    "      num_bad_cond_cells_i = round(sampled_cells * (1-ratio) * risk_prop)\n",
    "  \n",
    "      # bg_rand_prob <- runif(num_bg_clusters)\n",
    "      bg_rand_prob <- runif(num_bg_clusters)\n",
    "      bg_rand_prob_1 <- runif(1, min=0.5, max=1)\n",
    "      bg_rand_prob_23 <- runif(2, min=0, max=(1-bg_rand_prob_1))\n",
    "      bg_rand_prob_23 <- bg_rand_prob_23 / sum(bg_rand_prob_23) * (1 - bg_rand_prob_1)\n",
    "      bg_rand_prob <- c(bg_rand_prob_1, bg_rand_prob_23)\n",
    "      bg_rand_prob <- bg_rand_prob / sum(bg_rand_prob) * (1 - risk_prop)\n",
    "      num_bg_cond_cells_i <- round(sampled_cells * bg_rand_prob)\n",
    "  \n",
    "  \n",
    "      condition_good_cells <- good_cells[sample(num_good, num_good_cond_cells_i , replace=TRUE)]\n",
    "      condition_bad_cells <- bad_cells[sample(num_bad, num_bad_cond_cells_i, replace=TRUE)]\n",
    "\n",
    "      num_rc <- length(unique(data$sim.group[c(condition_good_cells, condition_bad_cells)]))\n",
    "      condition_bg_cells <- c()\n",
    "      bg_clusters <- unique(data$sim.group[other_cells])\n",
    "      for (j in 1:num_bg_clusters){\n",
    "        bg_cells <- colnames(Expression_pbmc)[data$sim.group==bg_clusters[j]]\n",
    "        num_bg_cells_j <- num_bg_cond_cells_i[j]\n",
    "        condition_bg_cells_j <- bg_cells[sample(length(bg_cells), num_bg_cells_j, replace=TRUE)]\n",
    "        condition_bg_cells <- c(condition_bg_cells, condition_bg_cells_j)\n",
    "      }\n",
    "  \n",
    "      condition_cells <- c(condition_good_cells, condition_bad_cells, condition_bg_cells)\n",
    "  \n",
    "      num_good_cond_cells = c(num_good_cond_cells, num_good_cond_cells_i)\n",
    "      num_bad_cond_cells = c(num_bad_cond_cells, num_bad_cond_cells_i)\n",
    "      Expression_selected <- Expression_pbmc[, condition_cells]\n",
    "  \n",
    "      sc_data_list[[sprintf('bulk%d', i)]] <- Expression_selected\n",
    "\n",
    "      if (runif(1, min = 0, max = 1) < censor_prob){\n",
    "        status = c(status, 0)\n",
    "        surv_time = c(surv_time, sample(i, 1))\n",
    "      }\n",
    "      else{\n",
    "        surv_time = c(surv_time, i)\n",
    "        status = c(status, 1)\n",
    "      }\n",
    "    }\n",
    "\n",
    "    bulk_names <- paste0('bulk', 1:bulk_num)\n",
    "    surv_info <- data.frame(\n",
    "      time=surv_time,\n",
    "      status=status,\n",
    "      num.good.cells = num_good_cond_cells,\n",
    "      num.bad.cells = num_bad_cond_cells,\n",
    "      row.names = bulk_names\n",
    "    )\n",
    "\n",
    "    dim(surv_info)\n",
    "    dim(Expression_pbmc)\n",
    "         \n",
    "    labels <- data$Actual.cond\n",
    "    labels <- as.data.frame(labels)\n",
    "    row.names(labels) <- colnames(data)\n",
    "    \n",
    "    ''')\n",
    "\n",
    "    if plot:\n",
    "        ro.r('''\n",
    "        library(gridExtra)\n",
    "        library(ggpubr)\n",
    "\n",
    "        plot_list <- list()\n",
    "        sampled_cells = 1000\n",
    "        for (i in c(2, 10, 40, 60, 90, 99)){\n",
    "          set.seed(seed+i)\n",
    "          ratio <- (i-1) / (bulk_num-1)\n",
    "          # ratio <- plogis((ratio - 0.5) * 2 * 6)\n",
    "          num_good_cond_cells_i = round(sampled_cells * ratio * risk_prop)\n",
    "          num_bad_cond_cells_i = round(sampled_cells * (1-ratio) * risk_prop)\n",
    "  \n",
    "          # bg_rand_prob <- runif(num_bg_clusters)\n",
    "          bg_rand_prob <- runif(num_bg_clusters)\n",
    "          bg_rand_prob_1 <- runif(1, min=0.5, max=1)\n",
    "          bg_rand_prob_23 <- runif(2, min=0, max=(1-bg_rand_prob_1))\n",
    "          bg_rand_prob_23 <- bg_rand_prob_23 / sum(bg_rand_prob_23) * (1 - bg_rand_prob_1)\n",
    "          bg_rand_prob <- c(bg_rand_prob_1, bg_rand_prob_23)\n",
    "          # print('bg_rand_prob:')\n",
    "          # print(bg_rand_prob)\n",
    "          # print(digest(bg_rand_prob)) \n",
    "          bg_rand_prob <- bg_rand_prob / sum(bg_rand_prob) * (1 - risk_prop)\n",
    "          num_bg_cond_cells_i <- round(sampled_cells * bg_rand_prob)\n",
    "  \n",
    "  \n",
    "          condition_good_cells <- good_cells[sample(num_good, num_good_cond_cells_i , replace=T)]\n",
    "          condition_bad_cells <- bad_cells[sample(num_bad, num_bad_cond_cells_i, replace=T)]\n",
    "          \n",
    "          num_rc <- length(unique(data$sim.group[c(condition_good_cells, condition_bad_cells)]))\n",
    "          condition_bg_cells <- c()\n",
    "          bg_clusters <- unique(data$sim.group[other_cells])\n",
    "          for (j in 1:num_bg_clusters){\n",
    "            bg_cells <- colnames(Expression_pbmc)[data$sim.group==bg_clusters[j]]\n",
    "            num_bg_cells_j <- num_bg_cond_cells_i[j]\n",
    "            condition_bg_cells_j <- bg_cells[sample(length(bg_cells), num_bg_cells_j, replace=T)]\n",
    "            condition_bg_cells <- c(condition_bg_cells, condition_bg_cells_j)\n",
    "          }\n",
    "  \n",
    "          condition_cells <- c(condition_good_cells, condition_bad_cells, condition_bg_cells)\n",
    "  \n",
    "  \n",
    "          p <- DimPlot(data[, condition_cells], group.by = 'Actual.cond', cols = c('grey','blue', 'red'), pt.size = 0.5) +\n",
    "          ggtitle(sprintf(\"survival.time: %d months\", i))\n",
    "          plot_list[[length(plot_list) + 1]] <- p\n",
    "        }\n",
    "\n",
    "        # combined_plot <- do.call(grid.arrange, c(plot_list, ncol = 3))\n",
    "        # combined_plot\n",
    "        ggarrange(plotlist = plot_list, ncol = 3, nrow=2, common.legend = TRUE, legend = \"bottom\")\n",
    "        ggsave(paste0(save_path, 'survival.time.simulated_real.pdf'), height = 7, width = 10.5)\n",
    "        ''')\n",
    "\n",
    "    # collected sc_data_list, surv_info, Expression_pbmc and transfer to python\n",
    "    surv_info_df     = r_to_pandas(\"surv_info\")\n",
    "    Expression_pbmc_df = r_to_pandas(\"Expression_pbmc\")\n",
    "    sc_data_list     = r_list_to_pydict_df(\"sc_data_list\")  # dict: { 'bulk_1': DataFrame, ... }\n",
    "    labels_df       = r_to_pandas(\"labels\")\n",
    "    features = {\n",
    "        'all_genes': list(ro.r(\"all_genes\")),\n",
    "        'hvg': list(ro.r(\"var_features_genes\"))\n",
    "    }\n",
    "\n",
    "    return_data = {\n",
    "        'sc_data_list': sc_data_list,\n",
    "        'surv_info_df': surv_info_df,\n",
    "        'Expression_pbmc_df': Expression_pbmc_df,\n",
    "        'labels_df': labels_df,\n",
    "        'features': features\n",
    "    }\n",
    "\n",
    "    return return_data"
   ]
  },
  {
   "cell_type": "code",
   "execution_count": 3,
   "id": "5473ad7e",
   "metadata": {},
   "outputs": [],
   "source": [
    "def organize_data_for_model(datasets):\n",
    "    sc_data_list = datasets['sc_data_list']\n",
    "    clinic = datasets['surv_info_df']\n",
    "\n",
    "    xs = []\n",
    "    samples = []\n",
    "    for key, val in tqdm(sc_data_list.items()):\n",
    "        df = val\n",
    "        xs.append(df.values.T)\n",
    "        samples.extend([key] * df.shape[1])\n",
    "\n",
    "    X = np.concatenate(xs, axis=0)\n",
    "    adata = sc.AnnData(X, obs=pd.DataFrame(samples, index=np.arange(X.shape[0]), columns=['sample']),\n",
    "    var=pd.DataFrame(index=datasets['features']['all_genes']))\n",
    "\n",
    "    adata.raw = adata.copy()\n",
    "    adata = adata[:, datasets['features']['hvg']]\n",
    "\n",
    "    surv = clinic[['time', 'status']].copy()\n",
    "    surv['time'] = surv['time'].astype(float)\n",
    "    surv['status'] = surv['status'].astype(int)\n",
    "\n",
    "    df = datasets['Expression_pbmc_df']\n",
    "    x = df.values.T\n",
    "    sim_group = datasets['labels_df']\n",
    "    sim_group = sim_group['labels'].values\n",
    "\n",
    "    adata_new = sc.AnnData(x, obs=pd.DataFrame(sim_group, index=np.arange(x.shape[0]), columns=['sim_group']), var=pd.DataFrame(index=datasets['features']['all_genes']))\n",
    "\n",
    "    return adata, surv, adata_new\n",
    "\n",
    "def detect_subpopulations(adata, surv, adata_new, entropy_threshold=0.7):\n",
    "    adata, surv, model = scSurvivalRun(adata, \n",
    "        sample_column='sample',\n",
    "        surv=surv,\n",
    "        # batch_key='batch',\n",
    "        feature_flavor='AE',\n",
    "        entropy_threshold=entropy_threshold,\n",
    "        lambdas=(0.01, 1.0),\n",
    "        pretrain_epochs=200,\n",
    "        epochs=500,\n",
    "        weight_decay=0.01,\n",
    "        lr=0.001,\n",
    "        patience=100,\n",
    "        rec_likelihood='ZIG',\n",
    "        do_scale_ae=False,\n",
    "        beta=0.1, tau=0.2, \n",
    "        # num_heads=16,\n",
    "        sample_size_ae=None,\n",
    "        finetue_lr_factor=0.1,\n",
    "        gene_weight_alpha=0.2,\n",
    "        gamma_beta_weight=(0.1, 0.0),\n",
    "        once_load_to_gpu=True,\n",
    "        use_amp=False,\n",
    "        fitnetune_strategy='alternating', # jointly, alternating, alternating_lightly,\n",
    "        )\n",
    "\n",
    "    data = adata.obs['attention'].values.reshape(-1, 1)\n",
    "    kmeans = KMeans(n_clusters=2, random_state=42)\n",
    "    kmeans.fit(data)\n",
    "    cluster_centers = kmeans.cluster_centers_\n",
    "    atten_thr = cluster_centers.flatten().mean()\n",
    "    \n",
    "    adata_new, _ = PredictIndSample(adata_new, adata, model)\n",
    "\n",
    "    attention = adata_new.obs['attention'].values\n",
    "    hazard_adj = adata_new.obs['hazard_adj'].values\n",
    "    hazard = adata_new.obs['hazard'].values\n",
    "\n",
    "    risk_group = np.array(['inattentive'] * attention.shape[0], dtype=object)\n",
    "    risk_group[np.logical_and(attention >= atten_thr, hazard_adj > 0)] = 'higher'\n",
    "    risk_group[np.logical_and(attention >= atten_thr, hazard_adj <= 0)] = 'lower'\n",
    "\n",
    "    # higher -> bad.survival, lower -> good.survival, inattentive -> other \n",
    "\n",
    "    risk_group_recoded = np.array(['other'] * attention.shape[0], dtype=object)\n",
    "    risk_group_recoded[risk_group == 'higher'] = 'bad.survival'\n",
    "    risk_group_recoded[risk_group == 'lower'] = 'good.survival'\n",
    "\n",
    "    clf_report = classification_report(adata_new.obs['sim_group'].values, risk_group_recoded, output_dict=True, zero_division=0)\n",
    "\n",
    "    clf_report_df = pd.DataFrame(clf_report).T\n",
    "    return clf_report_df, adata_new\n",
    "\n",
    "def cross_validation_samples(adata, surv, entropy_threshold=0.7):\n",
    "    # 交叉验证样本\n",
    "    adata = adata.raw.to_adata()\n",
    "    adata.obs['patient_no'] = adata.obs['sample']\n",
    "    patients = adata.obs['patient_no'].unique()\n",
    "\n",
    "    # K fold cross validation\n",
    "    cv_hazards_adj_cells = np.zeros((adata.shape[0], ))\n",
    "    surv['cv_hazards_adj_patient'] = 0.0\n",
    "    surv['cv_hazard_percentile_patient'] = 0.0\n",
    "    cindexs = []\n",
    "    surv_test_all_folds = []\n",
    "\n",
    "    kf = KFold(n_splits=5, shuffle=True, random_state=42)\n",
    "    for i, (train_index, test_index) in enumerate(kf.split(patients)):\n",
    "\n",
    "        print(f'fold {i}, train_size: {train_index.shape[0]}, test_size: {test_index.shape[0]}')\n",
    "        train_patients = patients[train_index]\n",
    "        test_patients = patients[test_index]\n",
    "\n",
    "        # train\n",
    "        adata_train = adata[adata.obs['patient_no'].isin(train_patients), :].copy()\n",
    "    \n",
    "        ## select HVGs on training set only\n",
    "        sc.pp.highly_variable_genes(adata_train, n_top_genes=2000, subset=False, flavor='seurat')\n",
    "        hvgs = adata_train.var[adata_train.var['highly_variable']].index.tolist() \n",
    "        adata_train = adata_train[:, hvgs]\n",
    "\n",
    "        surv_train = surv.loc[surv.index.isin(train_patients), :].copy()\n",
    "\n",
    "        adata_train, surv_train, model = scSurvivalRun(\n",
    "            adata_train,\n",
    "            sample_column='sample',\n",
    "            surv=surv_train,\n",
    "            # batch_key='batch',\n",
    "            feature_flavor='AE',\n",
    "            entropy_threshold=entropy_threshold,\n",
    "            validate=True,\n",
    "            validate_ratio=0.2,\n",
    "            validate_metric='ccindex',\n",
    "            lambdas=(0.01, 1.0),\n",
    "            pretrain_epochs=200,\n",
    "            epochs=500,\n",
    "            weight_decay=0.01,\n",
    "            lr=0.001,\n",
    "            patience=100,\n",
    "            rec_likelihood='ZIG',\n",
    "            do_scale_ae=False,\n",
    "            beta=0.1, tau=0.2, \n",
    "            sample_size_ae=None,\n",
    "            finetue_lr_factor=0.1,\n",
    "            gene_weight_alpha=0.2,\n",
    "            gamma_beta_weight=(0.1, 0.0),\n",
    "            once_load_to_gpu=True,\n",
    "            use_amp=False,\n",
    "            fitnetune_strategy='alternating', # jointly, alternating, alternating_lightly,\n",
    "            )  \n",
    "        \n",
    "        \n",
    "        train_cindex = concordance_index(surv_train['time'], -surv_train['patient_hazards'], surv_train['status'])\n",
    "        print(f'train c-index: {train_cindex:.4f}')\n",
    "\n",
    "        # test\n",
    "        print('testing...')\n",
    "        adata_test = adata[adata.obs['patient_no'].isin(test_patients), :].copy()\n",
    "        adata_test = adata_test[:, hvgs]\n",
    "\n",
    "        with contextlib.redirect_stdout(f):\n",
    "            for test_patient in test_patients:\n",
    "                adata_test_patient = adata_test[adata_test.obs['patient_no'] == test_patient, :].copy()\n",
    "                adata_test_patient, patient_hazard = PredictIndSample(adata_test_patient, adata_train, model)\n",
    "                cv_hazards_adj_cells[adata.obs['patient_no'] == test_patient] = adata_test_patient.obs['hazard_adj'].values\n",
    "                surv.loc[surv.index == test_patient, 'cv_hazards_adj_patient'] = patient_hazard\n",
    "                surv.loc[surv.index == test_patient, 'cv_hazard_percentile_patient'] = percentileofscore(surv_train['patient_hazards'], patient_hazard, kind='rank')\n",
    "\n",
    "        surv_test = surv.loc[surv.index.isin(test_patients), :]\n",
    "        c_index = concordance_index(surv_test['time'], -surv_test['cv_hazards_adj_patient'], surv_test['status'])\n",
    "\n",
    "        cindexs.append(c_index)\n",
    "        surv_test_all_folds.append(surv_test)\n",
    "\n",
    "        print(f'c-index: {c_index:.4f}')\n",
    "        print('='*50)\n",
    "\n",
    "        # if i == 0:\n",
    "        #     break\n",
    "\n",
    "    mean_cindex = np.mean(cindexs)\n",
    "    std_cindex = np.std(cindexs)\n",
    "\n",
    "    print(f'mean c-index: {mean_cindex:.4f} ± {std_cindex:.4f}')\n",
    "    cindexs_df = pd.DataFrame(cindexs, columns=['c-index'], index=['fold%d' % i for i in range(5)])\n",
    "\n",
    "    cindex_results = {\n",
    "        'mean_cindex': mean_cindex,\n",
    "        'std_cindex': std_cindex,\n",
    "        'cindexs_df': cindexs_df\n",
    "    }\n",
    "\n",
    "    return cindex_results\n"
   ]
  },
  {
   "cell_type": "code",
   "execution_count": 4,
   "id": "3ff10db7",
   "metadata": {},
   "outputs": [
    {
     "data": {
      "text/html": [
       "\n",
       "        <span>StrVector with 2 elements.</span>\n",
       "        <table>\n",
       "        <tbody>\n",
       "          <tr>\n",
       "          \n",
       "            <td>\n",
       "            'C:/Users/renta/AppData...\n",
       "            </td>\n",
       "          \n",
       "            <td>\n",
       "            'C:/Program Files/R/R-4...\n",
       "            </td>\n",
       "          \n",
       "          </tr>\n",
       "        </tbody>\n",
       "        </table>\n",
       "        "
      ],
      "text/plain": [
       "<rpy2.robjects.vectors.StrVector object at 0x0000024A450F5190> [16]\n",
       "R classes: ('character',)\n",
       "['C:/Users/renta/AppData..., 'C:/Program Files/R/R-4...]"
      ]
     },
     "execution_count": 4,
     "metadata": {},
     "output_type": "execute_result"
    }
   ],
   "source": [
    "ro.r('.libPaths()')"
   ]
  },
  {
   "cell_type": "code",
   "execution_count": 5,
   "id": "842f141a",
   "metadata": {},
   "outputs": [
    {
     "name": "stdout",
     "output_type": "stream",
     "text": [
      "\n",
      "    WARNING: The R package \"reticulate\" only fixed recently\n",
      "    an issue that caused a segfault when used with rpy2:\n",
      "    https://github.com/rstudio/reticulate/pull/1188\n",
      "    Make sure that you use a version of that package that includes\n",
      "    the fix.\n",
      "    "
     ]
    }
   ],
   "source": [
    "load_r_packages()"
   ]
  },
  {
   "cell_type": "code",
   "execution_count": 6,
   "id": "b5bff430",
   "metadata": {},
   "outputs": [
    {
     "name": "stdout",
     "output_type": "stream",
     "text": [
      "Running 1/1: seed=1, sub_cluster_ratio=0.3, de_facloc=0.35\n",
      "Modularity Optimizer version 1.3.0 by Ludo Waltman and Nees Jan van Eck\n",
      "\n",
      "Number of nodes: 10000\n",
      "Number of edges: 279457\n",
      "\n",
      "Running Louvain algorithm...\n",
      "Maximum modularity in 10 random starts: 0.7676\n",
      "Number of communities: 3\n",
      "Elapsed time: 1 seconds\n",
      "  |======================================================================| 100%"
     ]
    },
    {
     "name": "stderr",
     "output_type": "stream",
     "text": [
      "100%|██████████| 100/100 [00:00<00:00, 39133.27it/s]\n",
      "Pretraining: 100%|██████████| 200/200 [05:31<00:00,  1.66s/it, ae_loss=167]   \n",
      "Finetuning: 100%|██████████| 500/500 [52:50<00:00,  6.34s/it, ae_loss=139, atten_entropy=0.688, cox_loss=1.92, loss=3.31]\n"
     ]
    },
    {
     "name": "stdout",
     "output_type": "stream",
     "text": [
      "Added hazard and attention to adata.obs.\n",
      "Added patient_hazards to surv.\n",
      "gene missing rate: 0.00%\n",
      "Added hazard and attention to adata_new.obs.\n"
     ]
    }
   ],
   "source": [
    "from utils import Logger\n",
    "from itertools import product\n",
    "cell_surv_ratio=0.15\n",
    "\n",
    "load_r_packages()\n",
    "# param_grid = {\n",
    "#     'seed': range(1, 11),\n",
    "#     'sub_cluster_ratio': [0.3, 0.5, 0.7],\n",
    "#     'de_facloc': [0.2, 0.35, 0.5],\n",
    "\n",
    "# }\n",
    "\n",
    "param_grid = {\n",
    "    'seed': range(1, 2),\n",
    "    'sub_cluster_ratio': [0.3],\n",
    "    'de_facloc': [0.35],\n",
    "\n",
    "}\n",
    "keys, values = zip(*param_grid.items())\n",
    "combos = [dict(zip(keys, v)) for v in product(*values)]\n",
    "\n",
    "save_root_path = './results/revision-sim6-python/'\n",
    "logger = Logger(save_path=f'{save_root_path}cell_subpopulation_logs_rpcase.csv')\n",
    "\n",
    "for i, params in enumerate(combos):\n",
    "    # if params['seed'] > 1:\n",
    "    #     break\n",
    "    \n",
    "    logger.log_dict(params)\n",
    "    seed = params['seed']\n",
    "    sub_cluster_ratio = params['sub_cluster_ratio']\n",
    "    de_facloc = params['de_facloc']\n",
    "\n",
    "    print(f'Running {i+1}/{len(combos)}: seed={seed}, sub_cluster_ratio={sub_cluster_ratio}, de_facloc={de_facloc}')\n",
    "\n",
    "    save_path = f'{save_root_path}/nbgs-{sub_cluster_ratio}_defacloc-{de_facloc}/seed-{seed}/'\n",
    "    ro.globalenv['save_path'] = save_path\n",
    "    \n",
    "    if seed == 1:\n",
    "        ro.r('dir.create(save_path, recursive=T)')\n",
    "        simulated_base_sc_dataset(seed=seed, plot=True, cell_surv_ratio=cell_surv_ratio, sub_cluster_ratio=sub_cluster_ratio, de_facloc=de_facloc)\n",
    "        datasets = simulated_sc_datasets(plot=True)\n",
    "    else:\n",
    "        simulated_base_sc_dataset(seed=seed, plot=False, cell_surv_ratio=cell_surv_ratio, sub_cluster_ratio=sub_cluster_ratio, de_facloc=de_facloc)\n",
    "        datasets = simulated_sc_datasets(plot=False)\n",
    "\n",
    "    adata, surv, adata_new = organize_data_for_model(datasets)\n",
    "    clf_report_df, adata_new = detect_subpopulations(adata, surv, adata_new, entropy_threshold=0.7)\n",
    "\n",
    "    clf_rst = {\n",
    "        'precision': clf_report_df.loc['macro avg', 'precision'],\n",
    "        'recall': clf_report_df.loc['macro avg', 'recall'],\n",
    "        'f1-score': clf_report_df.loc['macro avg', 'f1-score'],\n",
    "    }\n",
    "\n",
    "    for cls in ['good.survival', 'bad.survival', 'other']:\n",
    "        for metric in ['precision', 'recall', 'f1-score']:\n",
    "            key = f'{cls}_{metric}'\n",
    "            if cls in clf_report_df.index:\n",
    "                clf_rst[key] = clf_report_df.loc[cls, metric]\n",
    "            else:\n",
    "                clf_rst[key] = 0.0\n",
    "\n",
    "    logger.log_dict(clf_rst)\n",
    "    logger.get_logs_df()\n",
    "\n",
    "    if seed==1:\n",
    "        adata_new.obs.to_csv(f'{save_path}/adata_new_obs.csv')\n",
    "\n",
    "    # break"
   ]
  },
  {
   "cell_type": "code",
   "execution_count": 7,
   "id": "e7b4ed98",
   "metadata": {},
   "outputs": [
    {
     "name": "stdout",
     "output_type": "stream",
     "text": [
      "Running 1/9: seed=1, sub_cluster_ratio=0.3, de_facloc=0.2\n",
      "  |======================================================================| 100%"
     ]
    },
    {
     "name": "stderr",
     "output_type": "stream",
     "text": [
      "100%|██████████| 100/100 [00:00<00:00, 98945.60it/s]\n",
      "c:\\Users\\renta\\AppData\\Local\\anaconda3\\Lib\\site-packages\\anndata\\_core\\aligned_df.py:67: ImplicitModificationWarning: Transforming to str index.\n",
      "  warnings.warn(\"Transforming to str index.\", ImplicitModificationWarning)\n",
      "c:\\Users\\renta\\AppData\\Local\\anaconda3\\Lib\\site-packages\\anndata\\_core\\aligned_df.py:67: ImplicitModificationWarning: Transforming to str index.\n",
      "  warnings.warn(\"Transforming to str index.\", ImplicitModificationWarning)\n"
     ]
    },
    {
     "name": "stdout",
     "output_type": "stream",
     "text": [
      "fold 0, train_size: 80, test_size: 20\n",
      "Validation mode is enabled, will split 20% of the data for validation.\n"
     ]
    },
    {
     "name": "stderr",
     "output_type": "stream",
     "text": [
      "Pretraining: 100%|██████████| 200/200 [01:33<00:00,  2.15it/s, ae_loss=203]   \n",
      "Finetuning:  53%|█████▎    | 264/500 [03:51<03:26,  1.14it/s, ae_loss=170, atten_entropy=0.677, ccindex_val=0.943, cox_loss=1.55, loss=3.24]\n"
     ]
    },
    {
     "name": "stdout",
     "output_type": "stream",
     "text": [
      "Early stopping with best validation ccindex: 0.9589.\n"
     ]
    },
    {
     "name": "stderr",
     "output_type": "stream",
     "text": [
      "d:\\Projects\\scSurvival\\code\\datasets\\sim_surv_revision\\../..\\scSurvival_beta\\scsurvival.py:231: ImplicitModificationWarning: Setting element `.obsm['X_ae']` of view, initializing view as actual.\n",
      "  model.scaler = None\n"
     ]
    },
    {
     "name": "stdout",
     "output_type": "stream",
     "text": [
      "Added hazard and attention to adata.obs.\n",
      "Added patient_hazards to surv.\n",
      "train c-index: 0.9753\n",
      "testing...\n",
      "c-index: 0.9562\n",
      "==================================================\n",
      "fold 1, train_size: 80, test_size: 20\n",
      "Validation mode is enabled, will split 20% of the data for validation.\n"
     ]
    },
    {
     "name": "stderr",
     "output_type": "stream",
     "text": [
      "Pretraining: 100%|██████████| 200/200 [01:33<00:00,  2.13it/s, ae_loss=184]   \n",
      "Finetuning:  64%|██████▍   | 321/500 [04:42<02:37,  1.14it/s, ae_loss=149, atten_entropy=0.656, ccindex_val=0.931, cox_loss=1.66, loss=3.15]\n"
     ]
    },
    {
     "name": "stdout",
     "output_type": "stream",
     "text": [
      "Early stopping with best validation ccindex: 0.9507.\n"
     ]
    },
    {
     "name": "stderr",
     "output_type": "stream",
     "text": [
      "d:\\Projects\\scSurvival\\code\\datasets\\sim_surv_revision\\../..\\scSurvival_beta\\scsurvival.py:231: ImplicitModificationWarning: Setting element `.obsm['X_ae']` of view, initializing view as actual.\n",
      "  model.scaler = None\n"
     ]
    },
    {
     "name": "stdout",
     "output_type": "stream",
     "text": [
      "Added hazard and attention to adata.obs.\n",
      "Added patient_hazards to surv.\n",
      "train c-index: 0.9759\n",
      "testing...\n",
      "c-index: 0.9641\n",
      "==================================================\n",
      "fold 2, train_size: 80, test_size: 20\n",
      "Validation mode is enabled, will split 20% of the data for validation.\n"
     ]
    },
    {
     "name": "stderr",
     "output_type": "stream",
     "text": [
      "Pretraining: 100%|██████████| 200/200 [01:33<00:00,  2.14it/s, ae_loss=200]   \n",
      "Finetuning:  39%|███▊      | 193/500 [02:54<04:37,  1.11it/s, ae_loss=174, atten_entropy=0.657, ccindex_val=0.95, cox_loss=1.51, loss=3.25] \n"
     ]
    },
    {
     "name": "stdout",
     "output_type": "stream",
     "text": [
      "Early stopping with best validation ccindex: 0.9593.\n"
     ]
    },
    {
     "name": "stderr",
     "output_type": "stream",
     "text": [
      "d:\\Projects\\scSurvival\\code\\datasets\\sim_surv_revision\\../..\\scSurvival_beta\\scsurvival.py:231: ImplicitModificationWarning: Setting element `.obsm['X_ae']` of view, initializing view as actual.\n",
      "  model.scaler = None\n"
     ]
    },
    {
     "name": "stdout",
     "output_type": "stream",
     "text": [
      "Added hazard and attention to adata.obs.\n",
      "Added patient_hazards to surv.\n",
      "train c-index: 0.9790\n",
      "testing...\n",
      "c-index: 0.9331\n",
      "==================================================\n",
      "fold 3, train_size: 80, test_size: 20\n",
      "Validation mode is enabled, will split 20% of the data for validation.\n"
     ]
    },
    {
     "name": "stderr",
     "output_type": "stream",
     "text": [
      "Pretraining: 100%|██████████| 200/200 [01:34<00:00,  2.13it/s, ae_loss=152]   \n",
      "Finetuning:  61%|██████    | 305/500 [04:39<02:58,  1.09it/s, ae_loss=119, atten_entropy=0.665, ccindex_val=0.952, cox_loss=1.53, loss=2.73]\n"
     ]
    },
    {
     "name": "stdout",
     "output_type": "stream",
     "text": [
      "Early stopping with best validation ccindex: 0.9605.\n"
     ]
    },
    {
     "name": "stderr",
     "output_type": "stream",
     "text": [
      "d:\\Projects\\scSurvival\\code\\datasets\\sim_surv_revision\\../..\\scSurvival_beta\\scsurvival.py:231: ImplicitModificationWarning: Setting element `.obsm['X_ae']` of view, initializing view as actual.\n",
      "  model.scaler = None\n"
     ]
    },
    {
     "name": "stdout",
     "output_type": "stream",
     "text": [
      "Added hazard and attention to adata.obs.\n",
      "Added patient_hazards to surv.\n",
      "train c-index: 0.9754\n",
      "testing...\n",
      "c-index: 0.8889\n",
      "==================================================\n",
      "fold 4, train_size: 80, test_size: 20\n",
      "Validation mode is enabled, will split 20% of the data for validation.\n"
     ]
    },
    {
     "name": "stderr",
     "output_type": "stream",
     "text": [
      "Pretraining: 100%|██████████| 200/200 [01:33<00:00,  2.14it/s, ae_loss=139]   \n",
      "Finetuning:  36%|███▋      | 182/500 [02:44<04:48,  1.10it/s, ae_loss=114, atten_entropy=0.685, ccindex_val=0.942, cox_loss=1.61, loss=2.75]\n"
     ]
    },
    {
     "name": "stdout",
     "output_type": "stream",
     "text": [
      "Early stopping with best validation ccindex: 0.9544.\n"
     ]
    },
    {
     "name": "stderr",
     "output_type": "stream",
     "text": [
      "d:\\Projects\\scSurvival\\code\\datasets\\sim_surv_revision\\../..\\scSurvival_beta\\scsurvival.py:231: ImplicitModificationWarning: Setting element `.obsm['X_ae']` of view, initializing view as actual.\n",
      "  model.scaler = None\n"
     ]
    },
    {
     "name": "stdout",
     "output_type": "stream",
     "text": [
      "Added hazard and attention to adata.obs.\n",
      "Added patient_hazards to surv.\n",
      "train c-index: 0.9687\n",
      "testing...\n",
      "c-index: 0.9854\n",
      "==================================================\n",
      "mean c-index: 0.9455 ± 0.0329\n",
      "Running 2/9: seed=1, sub_cluster_ratio=0.3, de_facloc=0.35\n",
      "  |======================================================================| 100%"
     ]
    },
    {
     "name": "stderr",
     "output_type": "stream",
     "text": [
      "100%|██████████| 100/100 [00:00<00:00, 50093.20it/s]\n",
      "c:\\Users\\renta\\AppData\\Local\\anaconda3\\Lib\\site-packages\\anndata\\_core\\aligned_df.py:67: ImplicitModificationWarning: Transforming to str index.\n",
      "  warnings.warn(\"Transforming to str index.\", ImplicitModificationWarning)\n",
      "c:\\Users\\renta\\AppData\\Local\\anaconda3\\Lib\\site-packages\\anndata\\_core\\aligned_df.py:67: ImplicitModificationWarning: Transforming to str index.\n",
      "  warnings.warn(\"Transforming to str index.\", ImplicitModificationWarning)\n"
     ]
    },
    {
     "name": "stdout",
     "output_type": "stream",
     "text": [
      "fold 0, train_size: 80, test_size: 20\n",
      "Validation mode is enabled, will split 20% of the data for validation.\n"
     ]
    },
    {
     "name": "stderr",
     "output_type": "stream",
     "text": [
      "Pretraining: 100%|██████████| 200/200 [01:33<00:00,  2.14it/s, ae_loss=123]   \n",
      "Finetuning:  41%|████      | 205/500 [03:06<04:28,  1.10it/s, ae_loss=97.5, atten_entropy=0.713, ccindex_val=0.955, cox_loss=1.66, loss=2.65]\n"
     ]
    },
    {
     "name": "stdout",
     "output_type": "stream",
     "text": [
      "Early stopping with best validation ccindex: 0.9687.\n"
     ]
    },
    {
     "name": "stderr",
     "output_type": "stream",
     "text": [
      "d:\\Projects\\scSurvival\\code\\datasets\\sim_surv_revision\\../..\\scSurvival_beta\\scsurvival.py:231: ImplicitModificationWarning: Setting element `.obsm['X_ae']` of view, initializing view as actual.\n",
      "  model.scaler = None\n"
     ]
    },
    {
     "name": "stdout",
     "output_type": "stream",
     "text": [
      "Added hazard and attention to adata.obs.\n",
      "Added patient_hazards to surv.\n",
      "train c-index: 0.9819\n",
      "testing...\n",
      "c-index: 0.9708\n",
      "==================================================\n",
      "fold 1, train_size: 80, test_size: 20\n",
      "Validation mode is enabled, will split 20% of the data for validation.\n"
     ]
    },
    {
     "name": "stderr",
     "output_type": "stream",
     "text": [
      "Pretraining: 100%|██████████| 200/200 [01:33<00:00,  2.13it/s, ae_loss=152]   \n",
      "Finetuning:  63%|██████▎   | 313/500 [04:41<02:48,  1.11it/s, ae_loss=116, atten_entropy=0.694, ccindex_val=0.968, cox_loss=1.47, loss=2.63]\n"
     ]
    },
    {
     "name": "stdout",
     "output_type": "stream",
     "text": [
      "Early stopping with best validation ccindex: 0.9707.\n"
     ]
    },
    {
     "name": "stderr",
     "output_type": "stream",
     "text": [
      "d:\\Projects\\scSurvival\\code\\datasets\\sim_surv_revision\\../..\\scSurvival_beta\\scsurvival.py:231: ImplicitModificationWarning: Setting element `.obsm['X_ae']` of view, initializing view as actual.\n",
      "  model.scaler = None\n"
     ]
    },
    {
     "name": "stdout",
     "output_type": "stream",
     "text": [
      "Added hazard and attention to adata.obs.\n",
      "Added patient_hazards to surv.\n",
      "train c-index: 0.9871\n",
      "testing...\n",
      "c-index: 0.9902\n",
      "==================================================\n",
      "fold 2, train_size: 80, test_size: 20\n",
      "Validation mode is enabled, will split 20% of the data for validation.\n"
     ]
    },
    {
     "name": "stderr",
     "output_type": "stream",
     "text": [
      "Pretraining: 100%|██████████| 200/200 [01:33<00:00,  2.13it/s, ae_loss=160]   \n",
      "Finetuning:  57%|█████▋    | 285/500 [04:17<03:14,  1.11it/s, ae_loss=127, atten_entropy=0.7, ccindex_val=0.966, cox_loss=1.58, loss=2.86]  \n"
     ]
    },
    {
     "name": "stdout",
     "output_type": "stream",
     "text": [
      "Early stopping with best validation ccindex: 0.9765.\n"
     ]
    },
    {
     "name": "stderr",
     "output_type": "stream",
     "text": [
      "d:\\Projects\\scSurvival\\code\\datasets\\sim_surv_revision\\../..\\scSurvival_beta\\scsurvival.py:231: ImplicitModificationWarning: Setting element `.obsm['X_ae']` of view, initializing view as actual.\n",
      "  model.scaler = None\n"
     ]
    },
    {
     "name": "stdout",
     "output_type": "stream",
     "text": [
      "Added hazard and attention to adata.obs.\n",
      "Added patient_hazards to surv.\n",
      "train c-index: 0.9855\n",
      "testing...\n",
      "c-index: 0.9593\n",
      "==================================================\n",
      "fold 3, train_size: 80, test_size: 20\n",
      "Validation mode is enabled, will split 20% of the data for validation.\n"
     ]
    },
    {
     "name": "stderr",
     "output_type": "stream",
     "text": [
      "Pretraining: 100%|██████████| 200/200 [01:33<00:00,  2.13it/s, ae_loss=140]   \n",
      "Finetuning:  36%|███▌      | 180/500 [02:40<04:46,  1.12it/s, ae_loss=115, atten_entropy=0.709, ccindex_val=0.951, cox_loss=1.72, loss=2.87]\n"
     ]
    },
    {
     "name": "stdout",
     "output_type": "stream",
     "text": [
      "Early stopping with best validation ccindex: 0.9670.\n"
     ]
    },
    {
     "name": "stderr",
     "output_type": "stream",
     "text": [
      "d:\\Projects\\scSurvival\\code\\datasets\\sim_surv_revision\\../..\\scSurvival_beta\\scsurvival.py:231: ImplicitModificationWarning: Setting element `.obsm['X_ae']` of view, initializing view as actual.\n",
      "  model.scaler = None\n"
     ]
    },
    {
     "name": "stdout",
     "output_type": "stream",
     "text": [
      "Added hazard and attention to adata.obs.\n",
      "Added patient_hazards to surv.\n",
      "train c-index: 0.9804\n",
      "testing...\n",
      "c-index: 0.9532\n",
      "==================================================\n",
      "fold 4, train_size: 80, test_size: 20\n",
      "Validation mode is enabled, will split 20% of the data for validation.\n"
     ]
    },
    {
     "name": "stderr",
     "output_type": "stream",
     "text": [
      "Pretraining: 100%|██████████| 200/200 [01:33<00:00,  2.14it/s, ae_loss=167]   \n",
      "Finetuning:  57%|█████▋    | 285/500 [04:13<03:11,  1.12it/s, ae_loss=136, atten_entropy=0.692, ccindex_val=0.964, cox_loss=1.53, loss=2.89]\n"
     ]
    },
    {
     "name": "stdout",
     "output_type": "stream",
     "text": [
      "Early stopping with best validation ccindex: 0.9681.\n"
     ]
    },
    {
     "name": "stderr",
     "output_type": "stream",
     "text": [
      "d:\\Projects\\scSurvival\\code\\datasets\\sim_surv_revision\\../..\\scSurvival_beta\\scsurvival.py:231: ImplicitModificationWarning: Setting element `.obsm['X_ae']` of view, initializing view as actual.\n",
      "  model.scaler = None\n"
     ]
    },
    {
     "name": "stdout",
     "output_type": "stream",
     "text": [
      "Added hazard and attention to adata.obs.\n",
      "Added patient_hazards to surv.\n",
      "train c-index: 0.9822\n",
      "testing...\n",
      "c-index: 0.9818\n",
      "==================================================\n",
      "mean c-index: 0.9711 ± 0.0137\n",
      "Running 3/9: seed=1, sub_cluster_ratio=0.3, de_facloc=0.5\n",
      "  |======================================================================| 100%"
     ]
    },
    {
     "name": "stderr",
     "output_type": "stream",
     "text": [
      "100%|██████████| 100/100 [00:00<00:00, 92304.23it/s]\n",
      "c:\\Users\\renta\\AppData\\Local\\anaconda3\\Lib\\site-packages\\anndata\\_core\\aligned_df.py:67: ImplicitModificationWarning: Transforming to str index.\n",
      "  warnings.warn(\"Transforming to str index.\", ImplicitModificationWarning)\n",
      "c:\\Users\\renta\\AppData\\Local\\anaconda3\\Lib\\site-packages\\anndata\\_core\\aligned_df.py:67: ImplicitModificationWarning: Transforming to str index.\n",
      "  warnings.warn(\"Transforming to str index.\", ImplicitModificationWarning)\n"
     ]
    },
    {
     "name": "stdout",
     "output_type": "stream",
     "text": [
      "fold 0, train_size: 80, test_size: 20\n",
      "Validation mode is enabled, will split 20% of the data for validation.\n"
     ]
    },
    {
     "name": "stderr",
     "output_type": "stream",
     "text": [
      "Pretraining: 100%|██████████| 200/200 [01:33<00:00,  2.15it/s, ae_loss=134]   \n",
      "Finetuning:  51%|█████     | 254/500 [03:47<03:40,  1.12it/s, ae_loss=101, atten_entropy=0.691, ccindex_val=0.963, cox_loss=1.58, loss=2.6] \n"
     ]
    },
    {
     "name": "stdout",
     "output_type": "stream",
     "text": [
      "Early stopping with best validation ccindex: 0.9703.\n"
     ]
    },
    {
     "name": "stderr",
     "output_type": "stream",
     "text": [
      "d:\\Projects\\scSurvival\\code\\datasets\\sim_surv_revision\\../..\\scSurvival_beta\\scsurvival.py:231: ImplicitModificationWarning: Setting element `.obsm['X_ae']` of view, initializing view as actual.\n",
      "  model.scaler = None\n"
     ]
    },
    {
     "name": "stdout",
     "output_type": "stream",
     "text": [
      "Added hazard and attention to adata.obs.\n",
      "Added patient_hazards to surv.\n",
      "train c-index: 0.9832\n",
      "testing...\n",
      "c-index: 0.9781\n",
      "==================================================\n",
      "fold 1, train_size: 80, test_size: 20\n",
      "Validation mode is enabled, will split 20% of the data for validation.\n"
     ]
    },
    {
     "name": "stderr",
     "output_type": "stream",
     "text": [
      "Pretraining: 100%|██████████| 200/200 [01:33<00:00,  2.13it/s, ae_loss=206]   \n",
      "Finetuning:  44%|████▍     | 220/500 [03:17<04:10,  1.12it/s, ae_loss=177, atten_entropy=0.69, ccindex_val=0.967, cox_loss=1.6, loss=3.36]  \n"
     ]
    },
    {
     "name": "stdout",
     "output_type": "stream",
     "text": [
      "Early stopping with best validation ccindex: 0.9698.\n"
     ]
    },
    {
     "name": "stderr",
     "output_type": "stream",
     "text": [
      "d:\\Projects\\scSurvival\\code\\datasets\\sim_surv_revision\\../..\\scSurvival_beta\\scsurvival.py:231: ImplicitModificationWarning: Setting element `.obsm['X_ae']` of view, initializing view as actual.\n",
      "  model.scaler = None\n"
     ]
    },
    {
     "name": "stdout",
     "output_type": "stream",
     "text": [
      "Added hazard and attention to adata.obs.\n",
      "Added patient_hazards to surv.\n",
      "train c-index: 0.9848\n",
      "testing...\n",
      "c-index: 0.9869\n",
      "==================================================\n",
      "fold 2, train_size: 80, test_size: 20\n",
      "Validation mode is enabled, will split 20% of the data for validation.\n"
     ]
    },
    {
     "name": "stderr",
     "output_type": "stream",
     "text": [
      "Pretraining: 100%|██████████| 200/200 [01:33<00:00,  2.13it/s, ae_loss=128]   \n",
      "Finetuning:  45%|████▍     | 223/500 [03:17<04:04,  1.13it/s, ae_loss=102, atten_entropy=0.742, ccindex_val=0.959, cox_loss=1.68, loss=2.74]\n"
     ]
    },
    {
     "name": "stdout",
     "output_type": "stream",
     "text": [
      "Early stopping with best validation ccindex: 0.9731.\n"
     ]
    },
    {
     "name": "stderr",
     "output_type": "stream",
     "text": [
      "d:\\Projects\\scSurvival\\code\\datasets\\sim_surv_revision\\../..\\scSurvival_beta\\scsurvival.py:231: ImplicitModificationWarning: Setting element `.obsm['X_ae']` of view, initializing view as actual.\n",
      "  model.scaler = None\n"
     ]
    },
    {
     "name": "stdout",
     "output_type": "stream",
     "text": [
      "Added hazard and attention to adata.obs.\n",
      "Added patient_hazards to surv.\n",
      "train c-index: 0.9839\n",
      "testing...\n",
      "c-index: 0.9709\n",
      "==================================================\n",
      "fold 3, train_size: 80, test_size: 20\n",
      "Validation mode is enabled, will split 20% of the data for validation.\n"
     ]
    },
    {
     "name": "stderr",
     "output_type": "stream",
     "text": [
      "Pretraining: 100%|██████████| 200/200 [01:33<00:00,  2.13it/s, ae_loss=123]   \n",
      "Finetuning:  39%|███▉      | 196/500 [02:57<04:35,  1.10it/s, ae_loss=98.3, atten_entropy=0.708, ccindex_val=0.958, cox_loss=1.68, loss=2.67]\n"
     ]
    },
    {
     "name": "stdout",
     "output_type": "stream",
     "text": [
      "Early stopping with best validation ccindex: 0.9706.\n"
     ]
    },
    {
     "name": "stderr",
     "output_type": "stream",
     "text": [
      "d:\\Projects\\scSurvival\\code\\datasets\\sim_surv_revision\\../..\\scSurvival_beta\\scsurvival.py:231: ImplicitModificationWarning: Setting element `.obsm['X_ae']` of view, initializing view as actual.\n",
      "  model.scaler = None\n"
     ]
    },
    {
     "name": "stdout",
     "output_type": "stream",
     "text": [
      "Added hazard and attention to adata.obs.\n",
      "Added patient_hazards to surv.\n",
      "train c-index: 0.9851\n",
      "testing...\n",
      "c-index: 0.9357\n",
      "==================================================\n",
      "fold 4, train_size: 80, test_size: 20\n",
      "Validation mode is enabled, will split 20% of the data for validation.\n"
     ]
    },
    {
     "name": "stderr",
     "output_type": "stream",
     "text": [
      "Pretraining: 100%|██████████| 200/200 [01:33<00:00,  2.14it/s, ae_loss=177]   \n",
      "Finetuning:  34%|███▍      | 169/500 [02:27<04:49,  1.14it/s, ae_loss=151, atten_entropy=0.691, ccindex_val=0.957, cox_loss=1.71, loss=3.22]"
     ]
    },
    {
     "name": "stdout",
     "output_type": "stream",
     "text": [
      "Early stopping with best validation ccindex: 0.9685.\n"
     ]
    },
    {
     "name": "stderr",
     "output_type": "stream",
     "text": [
      "\n",
      "d:\\Projects\\scSurvival\\code\\datasets\\sim_surv_revision\\../..\\scSurvival_beta\\scsurvival.py:231: ImplicitModificationWarning: Setting element `.obsm['X_ae']` of view, initializing view as actual.\n",
      "  model.scaler = None\n"
     ]
    },
    {
     "name": "stdout",
     "output_type": "stream",
     "text": [
      "Added hazard and attention to adata.obs.\n",
      "Added patient_hazards to surv.\n",
      "train c-index: 0.9811\n",
      "testing...\n",
      "c-index: 0.9927\n",
      "==================================================\n",
      "mean c-index: 0.9729 ± 0.0200\n",
      "Running 4/9: seed=1, sub_cluster_ratio=0.5, de_facloc=0.2\n",
      "  |======================================================================| 100%"
     ]
    },
    {
     "name": "stderr",
     "output_type": "stream",
     "text": [
      "100%|██████████| 100/100 [00:00<00:00, 99508.99it/s]\n",
      "c:\\Users\\renta\\AppData\\Local\\anaconda3\\Lib\\site-packages\\anndata\\_core\\aligned_df.py:67: ImplicitModificationWarning: Transforming to str index.\n",
      "  warnings.warn(\"Transforming to str index.\", ImplicitModificationWarning)\n",
      "c:\\Users\\renta\\AppData\\Local\\anaconda3\\Lib\\site-packages\\anndata\\_core\\aligned_df.py:67: ImplicitModificationWarning: Transforming to str index.\n",
      "  warnings.warn(\"Transforming to str index.\", ImplicitModificationWarning)\n"
     ]
    },
    {
     "name": "stdout",
     "output_type": "stream",
     "text": [
      "fold 0, train_size: 80, test_size: 20\n",
      "Validation mode is enabled, will split 20% of the data for validation.\n"
     ]
    },
    {
     "name": "stderr",
     "output_type": "stream",
     "text": [
      "Pretraining: 100%|██████████| 200/200 [01:33<00:00,  2.15it/s, ae_loss=173]   \n",
      "Finetuning: 100%|██████████| 500/500 [07:16<00:00,  1.15it/s, ae_loss=133, atten_entropy=0.674, ccindex_val=0.909, cox_loss=1.61, loss=2.94]\n",
      "d:\\Projects\\scSurvival\\code\\datasets\\sim_surv_revision\\../..\\scSurvival_beta\\scsurvival.py:231: ImplicitModificationWarning: Setting element `.obsm['X_ae']` of view, initializing view as actual.\n",
      "  model.scaler = None\n"
     ]
    },
    {
     "name": "stdout",
     "output_type": "stream",
     "text": [
      "Added hazard and attention to adata.obs.\n",
      "Added patient_hazards to surv.\n",
      "train c-index: 0.9614\n",
      "testing...\n",
      "c-index: 0.8311\n",
      "==================================================\n",
      "fold 1, train_size: 80, test_size: 20\n",
      "Validation mode is enabled, will split 20% of the data for validation.\n"
     ]
    },
    {
     "name": "stderr",
     "output_type": "stream",
     "text": [
      "Pretraining: 100%|██████████| 200/200 [01:33<00:00,  2.15it/s, ae_loss=240]   \n",
      "Finetuning:  41%|████      | 206/500 [03:00<04:16,  1.14it/s, ae_loss=215, atten_entropy=0.684, ccindex_val=0.883, cox_loss=1.92, loss=4.07]\n"
     ]
    },
    {
     "name": "stdout",
     "output_type": "stream",
     "text": [
      "Early stopping with best validation ccindex: 0.9009.\n"
     ]
    },
    {
     "name": "stderr",
     "output_type": "stream",
     "text": [
      "d:\\Projects\\scSurvival\\code\\datasets\\sim_surv_revision\\../..\\scSurvival_beta\\scsurvival.py:231: ImplicitModificationWarning: Setting element `.obsm['X_ae']` of view, initializing view as actual.\n",
      "  model.scaler = None\n"
     ]
    },
    {
     "name": "stdout",
     "output_type": "stream",
     "text": [
      "Added hazard and attention to adata.obs.\n",
      "Added patient_hazards to surv.\n",
      "train c-index: 0.9267\n",
      "testing...\n",
      "c-index: 0.9091\n",
      "==================================================\n",
      "fold 2, train_size: 80, test_size: 20\n",
      "Validation mode is enabled, will split 20% of the data for validation.\n"
     ]
    },
    {
     "name": "stderr",
     "output_type": "stream",
     "text": [
      "Pretraining: 100%|██████████| 200/200 [01:33<00:00,  2.14it/s, ae_loss=184]   \n",
      "Finetuning:  58%|█████▊    | 292/500 [04:15<03:02,  1.14it/s, ae_loss=154, atten_entropy=0.703, ccindex_val=0.886, cox_loss=1.59, loss=3.14]\n"
     ]
    },
    {
     "name": "stdout",
     "output_type": "stream",
     "text": [
      "Early stopping with best validation ccindex: 0.8877.\n"
     ]
    },
    {
     "name": "stderr",
     "output_type": "stream",
     "text": [
      "d:\\Projects\\scSurvival\\code\\datasets\\sim_surv_revision\\../..\\scSurvival_beta\\scsurvival.py:231: ImplicitModificationWarning: Setting element `.obsm['X_ae']` of view, initializing view as actual.\n",
      "  model.scaler = None\n"
     ]
    },
    {
     "name": "stdout",
     "output_type": "stream",
     "text": [
      "Added hazard and attention to adata.obs.\n",
      "Added patient_hazards to surv.\n",
      "train c-index: 0.9456\n",
      "testing...\n",
      "c-index: 0.9000\n",
      "==================================================\n",
      "fold 3, train_size: 80, test_size: 20\n",
      "Validation mode is enabled, will split 20% of the data for validation.\n"
     ]
    },
    {
     "name": "stderr",
     "output_type": "stream",
     "text": [
      "Pretraining: 100%|██████████| 200/200 [01:33<00:00,  2.15it/s, ae_loss=170]   \n",
      "Finetuning:  44%|████▎     | 218/500 [03:07<04:03,  1.16it/s, ae_loss=145, atten_entropy=0.808, ccindex_val=0.898, cox_loss=1.74, loss=3.3] \n"
     ]
    },
    {
     "name": "stdout",
     "output_type": "stream",
     "text": [
      "Early stopping with best validation ccindex: 0.9062.\n"
     ]
    },
    {
     "name": "stderr",
     "output_type": "stream",
     "text": [
      "d:\\Projects\\scSurvival\\code\\datasets\\sim_surv_revision\\../..\\scSurvival_beta\\scsurvival.py:231: ImplicitModificationWarning: Setting element `.obsm['X_ae']` of view, initializing view as actual.\n",
      "  model.scaler = None\n"
     ]
    },
    {
     "name": "stdout",
     "output_type": "stream",
     "text": [
      "Added hazard and attention to adata.obs.\n",
      "Added patient_hazards to surv.\n",
      "train c-index: 0.9355\n",
      "testing...\n",
      "c-index: 0.8500\n",
      "==================================================\n",
      "fold 4, train_size: 80, test_size: 20\n",
      "Validation mode is enabled, will split 20% of the data for validation.\n"
     ]
    },
    {
     "name": "stderr",
     "output_type": "stream",
     "text": [
      "Pretraining: 100%|██████████| 200/200 [01:33<00:00,  2.14it/s, ae_loss=157]   \n",
      "Finetuning:  51%|█████▏    | 257/500 [03:40<03:28,  1.16it/s, ae_loss=132, atten_entropy=0.691, ccindex_val=0.888, cox_loss=1.59, loss=2.91]\n"
     ]
    },
    {
     "name": "stdout",
     "output_type": "stream",
     "text": [
      "Early stopping with best validation ccindex: 0.9019.\n"
     ]
    },
    {
     "name": "stderr",
     "output_type": "stream",
     "text": [
      "d:\\Projects\\scSurvival\\code\\datasets\\sim_surv_revision\\../..\\scSurvival_beta\\scsurvival.py:231: ImplicitModificationWarning: Setting element `.obsm['X_ae']` of view, initializing view as actual.\n",
      "  model.scaler = None\n"
     ]
    },
    {
     "name": "stdout",
     "output_type": "stream",
     "text": [
      "Added hazard and attention to adata.obs.\n",
      "Added patient_hazards to surv.\n",
      "train c-index: 0.9463\n",
      "testing...\n",
      "c-index: 0.8867\n",
      "==================================================\n",
      "mean c-index: 0.8754 ± 0.0299\n",
      "Running 5/9: seed=1, sub_cluster_ratio=0.5, de_facloc=0.35\n",
      "  |======================================================================| 100%"
     ]
    },
    {
     "name": "stderr",
     "output_type": "stream",
     "text": [
      "100%|██████████| 100/100 [00:00<00:00, 100342.20it/s]\n",
      "c:\\Users\\renta\\AppData\\Local\\anaconda3\\Lib\\site-packages\\anndata\\_core\\aligned_df.py:67: ImplicitModificationWarning: Transforming to str index.\n",
      "  warnings.warn(\"Transforming to str index.\", ImplicitModificationWarning)\n",
      "c:\\Users\\renta\\AppData\\Local\\anaconda3\\Lib\\site-packages\\anndata\\_core\\aligned_df.py:67: ImplicitModificationWarning: Transforming to str index.\n",
      "  warnings.warn(\"Transforming to str index.\", ImplicitModificationWarning)\n"
     ]
    },
    {
     "name": "stdout",
     "output_type": "stream",
     "text": [
      "fold 0, train_size: 80, test_size: 20\n",
      "Validation mode is enabled, will split 20% of the data for validation.\n"
     ]
    },
    {
     "name": "stderr",
     "output_type": "stream",
     "text": [
      "Pretraining: 100%|██████████| 200/200 [01:32<00:00,  2.16it/s, ae_loss=148]   \n",
      "Finetuning:  52%|█████▏    | 261/500 [03:42<03:23,  1.17it/s, ae_loss=121, atten_entropy=0.752, ccindex_val=0.958, cox_loss=1.55, loss=2.81]\n"
     ]
    },
    {
     "name": "stdout",
     "output_type": "stream",
     "text": [
      "Early stopping with best validation ccindex: 0.9682.\n"
     ]
    },
    {
     "name": "stderr",
     "output_type": "stream",
     "text": [
      "d:\\Projects\\scSurvival\\code\\datasets\\sim_surv_revision\\../..\\scSurvival_beta\\scsurvival.py:231: ImplicitModificationWarning: Setting element `.obsm['X_ae']` of view, initializing view as actual.\n",
      "  model.scaler = None\n"
     ]
    },
    {
     "name": "stdout",
     "output_type": "stream",
     "text": [
      "Added hazard and attention to adata.obs.\n",
      "Added patient_hazards to surv.\n",
      "train c-index: 0.9761\n",
      "testing...\n",
      "c-index: 0.9696\n",
      "==================================================\n",
      "fold 1, train_size: 80, test_size: 20\n",
      "Validation mode is enabled, will split 20% of the data for validation.\n"
     ]
    },
    {
     "name": "stderr",
     "output_type": "stream",
     "text": [
      "Pretraining: 100%|██████████| 200/200 [01:32<00:00,  2.15it/s, ae_loss=186]   \n",
      "Finetuning:  41%|████      | 203/500 [02:53<04:14,  1.17it/s, ae_loss=161, atten_entropy=0.699, ccindex_val=0.95, cox_loss=1.56, loss=3.17] \n"
     ]
    },
    {
     "name": "stdout",
     "output_type": "stream",
     "text": [
      "Early stopping with best validation ccindex: 0.9621.\n"
     ]
    },
    {
     "name": "stderr",
     "output_type": "stream",
     "text": [
      "d:\\Projects\\scSurvival\\code\\datasets\\sim_surv_revision\\../..\\scSurvival_beta\\scsurvival.py:231: ImplicitModificationWarning: Setting element `.obsm['X_ae']` of view, initializing view as actual.\n",
      "  model.scaler = None\n"
     ]
    },
    {
     "name": "stdout",
     "output_type": "stream",
     "text": [
      "Added hazard and attention to adata.obs.\n",
      "Added patient_hazards to surv.\n",
      "train c-index: 0.9813\n",
      "testing...\n",
      "c-index: 0.9935\n",
      "==================================================\n",
      "fold 2, train_size: 80, test_size: 20\n",
      "Validation mode is enabled, will split 20% of the data for validation.\n"
     ]
    },
    {
     "name": "stderr",
     "output_type": "stream",
     "text": [
      "Pretraining: 100%|██████████| 200/200 [01:33<00:00,  2.15it/s, ae_loss=193]   \n",
      "Finetuning:  46%|████▌     | 229/500 [03:16<03:52,  1.17it/s, ae_loss=163, atten_entropy=0.708, ccindex_val=0.953, cox_loss=1.66, loss=3.31]\n"
     ]
    },
    {
     "name": "stdout",
     "output_type": "stream",
     "text": [
      "Early stopping with best validation ccindex: 0.9727.\n"
     ]
    },
    {
     "name": "stderr",
     "output_type": "stream",
     "text": [
      "d:\\Projects\\scSurvival\\code\\datasets\\sim_surv_revision\\../..\\scSurvival_beta\\scsurvival.py:231: ImplicitModificationWarning: Setting element `.obsm['X_ae']` of view, initializing view as actual.\n",
      "  model.scaler = None\n"
     ]
    },
    {
     "name": "stdout",
     "output_type": "stream",
     "text": [
      "Added hazard and attention to adata.obs.\n",
      "Added patient_hazards to surv.\n",
      "train c-index: 0.9855\n",
      "testing...\n",
      "c-index: 0.9737\n",
      "==================================================\n",
      "fold 3, train_size: 80, test_size: 20\n",
      "Validation mode is enabled, will split 20% of the data for validation.\n"
     ]
    },
    {
     "name": "stderr",
     "output_type": "stream",
     "text": [
      "Pretraining: 100%|██████████| 200/200 [01:33<00:00,  2.15it/s, ae_loss=247]   \n",
      "Finetuning:  52%|█████▏    | 258/500 [03:41<03:27,  1.17it/s, ae_loss=214, atten_entropy=0.701, ccindex_val=0.962, cox_loss=1.55, loss=3.69]\n"
     ]
    },
    {
     "name": "stdout",
     "output_type": "stream",
     "text": [
      "Early stopping with best validation ccindex: 0.9667.\n"
     ]
    },
    {
     "name": "stderr",
     "output_type": "stream",
     "text": [
      "d:\\Projects\\scSurvival\\code\\datasets\\sim_surv_revision\\../..\\scSurvival_beta\\scsurvival.py:231: ImplicitModificationWarning: Setting element `.obsm['X_ae']` of view, initializing view as actual.\n",
      "  model.scaler = None\n"
     ]
    },
    {
     "name": "stdout",
     "output_type": "stream",
     "text": [
      "Added hazard and attention to adata.obs.\n",
      "Added patient_hazards to surv.\n",
      "train c-index: 0.9801\n",
      "testing...\n",
      "c-index: 0.9667\n",
      "==================================================\n",
      "fold 4, train_size: 80, test_size: 20\n",
      "Validation mode is enabled, will split 20% of the data for validation.\n"
     ]
    },
    {
     "name": "stderr",
     "output_type": "stream",
     "text": [
      "Pretraining: 100%|██████████| 200/200 [01:33<00:00,  2.14it/s, ae_loss=154]   \n",
      "Finetuning:  55%|█████▌    | 276/500 [03:59<03:14,  1.15it/s, ae_loss=127, atten_entropy=0.705, ccindex_val=0.954, cox_loss=1.58, loss=2.86]\n"
     ]
    },
    {
     "name": "stdout",
     "output_type": "stream",
     "text": [
      "Early stopping with best validation ccindex: 0.9622.\n"
     ]
    },
    {
     "name": "stderr",
     "output_type": "stream",
     "text": [
      "d:\\Projects\\scSurvival\\code\\datasets\\sim_surv_revision\\../..\\scSurvival_beta\\scsurvival.py:231: ImplicitModificationWarning: Setting element `.obsm['X_ae']` of view, initializing view as actual.\n",
      "  model.scaler = None\n"
     ]
    },
    {
     "name": "stdout",
     "output_type": "stream",
     "text": [
      "Added hazard and attention to adata.obs.\n",
      "Added patient_hazards to surv.\n",
      "train c-index: 0.9842\n",
      "testing...\n",
      "c-index: 0.9733\n",
      "==================================================\n",
      "mean c-index: 0.9754 ± 0.0094\n",
      "Running 6/9: seed=1, sub_cluster_ratio=0.5, de_facloc=0.5\n",
      "  |======================================================================| 100%"
     ]
    },
    {
     "name": "stderr",
     "output_type": "stream",
     "text": [
      "100%|██████████| 100/100 [00:00<00:00, 95891.72it/s]\n",
      "c:\\Users\\renta\\AppData\\Local\\anaconda3\\Lib\\site-packages\\anndata\\_core\\aligned_df.py:67: ImplicitModificationWarning: Transforming to str index.\n",
      "  warnings.warn(\"Transforming to str index.\", ImplicitModificationWarning)\n",
      "c:\\Users\\renta\\AppData\\Local\\anaconda3\\Lib\\site-packages\\anndata\\_core\\aligned_df.py:67: ImplicitModificationWarning: Transforming to str index.\n",
      "  warnings.warn(\"Transforming to str index.\", ImplicitModificationWarning)\n"
     ]
    },
    {
     "name": "stdout",
     "output_type": "stream",
     "text": [
      "fold 0, train_size: 80, test_size: 20\n",
      "Validation mode is enabled, will split 20% of the data for validation.\n"
     ]
    },
    {
     "name": "stderr",
     "output_type": "stream",
     "text": [
      "Pretraining: 100%|██████████| 200/200 [01:31<00:00,  2.18it/s, ae_loss=147]   \n",
      "Finetuning:  54%|█████▎    | 268/500 [03:48<03:18,  1.17it/s, ae_loss=119, atten_entropy=0.703, ccindex_val=0.964, cox_loss=1.64, loss=2.83]\n"
     ]
    },
    {
     "name": "stdout",
     "output_type": "stream",
     "text": [
      "Early stopping with best validation ccindex: 0.9715.\n"
     ]
    },
    {
     "name": "stderr",
     "output_type": "stream",
     "text": [
      "d:\\Projects\\scSurvival\\code\\datasets\\sim_surv_revision\\../..\\scSurvival_beta\\scsurvival.py:231: ImplicitModificationWarning: Setting element `.obsm['X_ae']` of view, initializing view as actual.\n",
      "  model.scaler = None\n"
     ]
    },
    {
     "name": "stdout",
     "output_type": "stream",
     "text": [
      "Added hazard and attention to adata.obs.\n",
      "Added patient_hazards to surv.\n",
      "train c-index: 0.9855\n",
      "testing...\n",
      "c-index: 0.9966\n",
      "==================================================\n",
      "fold 1, train_size: 80, test_size: 20\n",
      "Validation mode is enabled, will split 20% of the data for validation.\n"
     ]
    },
    {
     "name": "stderr",
     "output_type": "stream",
     "text": [
      "Pretraining: 100%|██████████| 200/200 [01:33<00:00,  2.15it/s, ae_loss=156]   \n",
      "Finetuning:  36%|███▌      | 181/500 [02:34<04:32,  1.17it/s, ae_loss=132, atten_entropy=0.704, ccindex_val=0.955, cox_loss=1.6, loss=2.93] \n"
     ]
    },
    {
     "name": "stdout",
     "output_type": "stream",
     "text": [
      "Early stopping with best validation ccindex: 0.9690.\n"
     ]
    },
    {
     "name": "stderr",
     "output_type": "stream",
     "text": [
      "d:\\Projects\\scSurvival\\code\\datasets\\sim_surv_revision\\../..\\scSurvival_beta\\scsurvival.py:231: ImplicitModificationWarning: Setting element `.obsm['X_ae']` of view, initializing view as actual.\n",
      "  model.scaler = None\n"
     ]
    },
    {
     "name": "stdout",
     "output_type": "stream",
     "text": [
      "Added hazard and attention to adata.obs.\n",
      "Added patient_hazards to surv.\n",
      "train c-index: 0.9815\n",
      "testing...\n",
      "c-index: 0.9773\n",
      "==================================================\n",
      "fold 2, train_size: 80, test_size: 20\n",
      "Validation mode is enabled, will split 20% of the data for validation.\n"
     ]
    },
    {
     "name": "stderr",
     "output_type": "stream",
     "text": [
      "Pretraining: 100%|██████████| 200/200 [01:32<00:00,  2.16it/s, ae_loss=259]   \n",
      "Finetuning:  40%|███▉      | 199/500 [02:50<04:18,  1.16it/s, ae_loss=230, atten_entropy=0.719, ccindex_val=0.953, cox_loss=1.89, loss=4.21]\n"
     ]
    },
    {
     "name": "stdout",
     "output_type": "stream",
     "text": [
      "Early stopping with best validation ccindex: 0.9705.\n"
     ]
    },
    {
     "name": "stderr",
     "output_type": "stream",
     "text": [
      "d:\\Projects\\scSurvival\\code\\datasets\\sim_surv_revision\\../..\\scSurvival_beta\\scsurvival.py:231: ImplicitModificationWarning: Setting element `.obsm['X_ae']` of view, initializing view as actual.\n",
      "  model.scaler = None\n"
     ]
    },
    {
     "name": "stdout",
     "output_type": "stream",
     "text": [
      "Added hazard and attention to adata.obs.\n",
      "Added patient_hazards to surv.\n",
      "train c-index: 0.9857\n",
      "testing...\n",
      "c-index: 0.9579\n",
      "==================================================\n",
      "fold 3, train_size: 80, test_size: 20\n",
      "Validation mode is enabled, will split 20% of the data for validation.\n"
     ]
    },
    {
     "name": "stderr",
     "output_type": "stream",
     "text": [
      "Pretraining: 100%|██████████| 200/200 [01:32<00:00,  2.17it/s, ae_loss=205]   \n",
      "Finetuning:  44%|████▍     | 222/500 [03:10<03:58,  1.17it/s, ae_loss=181, atten_entropy=0.7, ccindex_val=0.949, cox_loss=1.58, loss=3.39]  \n"
     ]
    },
    {
     "name": "stdout",
     "output_type": "stream",
     "text": [
      "Early stopping with best validation ccindex: 0.9649.\n"
     ]
    },
    {
     "name": "stderr",
     "output_type": "stream",
     "text": [
      "d:\\Projects\\scSurvival\\code\\datasets\\sim_surv_revision\\../..\\scSurvival_beta\\scsurvival.py:231: ImplicitModificationWarning: Setting element `.obsm['X_ae']` of view, initializing view as actual.\n",
      "  model.scaler = None\n"
     ]
    },
    {
     "name": "stdout",
     "output_type": "stream",
     "text": [
      "Added hazard and attention to adata.obs.\n",
      "Added patient_hazards to surv.\n",
      "train c-index: 0.9811\n",
      "testing...\n",
      "c-index: 0.9533\n",
      "==================================================\n",
      "fold 4, train_size: 80, test_size: 20\n",
      "Validation mode is enabled, will split 20% of the data for validation.\n"
     ]
    },
    {
     "name": "stderr",
     "output_type": "stream",
     "text": [
      "Pretraining: 100%|██████████| 200/200 [01:32<00:00,  2.16it/s, ae_loss=195]   \n",
      "Finetuning:  39%|███▉      | 197/500 [02:49<04:20,  1.16it/s, ae_loss=172, atten_entropy=0.699, ccindex_val=0.953, cox_loss=1.64, loss=3.36]\n"
     ]
    },
    {
     "name": "stdout",
     "output_type": "stream",
     "text": [
      "Early stopping with best validation ccindex: 0.9680.\n"
     ]
    },
    {
     "name": "stderr",
     "output_type": "stream",
     "text": [
      "d:\\Projects\\scSurvival\\code\\datasets\\sim_surv_revision\\../..\\scSurvival_beta\\scsurvival.py:231: ImplicitModificationWarning: Setting element `.obsm['X_ae']` of view, initializing view as actual.\n",
      "  model.scaler = None\n"
     ]
    },
    {
     "name": "stdout",
     "output_type": "stream",
     "text": [
      "Added hazard and attention to adata.obs.\n",
      "Added patient_hazards to surv.\n",
      "train c-index: 0.9816\n",
      "testing...\n",
      "c-index: 0.9867\n",
      "==================================================\n",
      "mean c-index: 0.9744 ± 0.0165\n",
      "Running 7/9: seed=1, sub_cluster_ratio=0.7, de_facloc=0.2\n",
      "  |======================================================================| 100%"
     ]
    },
    {
     "name": "stderr",
     "output_type": "stream",
     "text": [
      "100%|██████████| 100/100 [00:00<00:00, 107961.49it/s]\n",
      "c:\\Users\\renta\\AppData\\Local\\anaconda3\\Lib\\site-packages\\anndata\\_core\\aligned_df.py:67: ImplicitModificationWarning: Transforming to str index.\n",
      "  warnings.warn(\"Transforming to str index.\", ImplicitModificationWarning)\n",
      "c:\\Users\\renta\\AppData\\Local\\anaconda3\\Lib\\site-packages\\anndata\\_core\\aligned_df.py:67: ImplicitModificationWarning: Transforming to str index.\n",
      "  warnings.warn(\"Transforming to str index.\", ImplicitModificationWarning)\n"
     ]
    },
    {
     "name": "stdout",
     "output_type": "stream",
     "text": [
      "fold 0, train_size: 80, test_size: 20\n",
      "Validation mode is enabled, will split 20% of the data for validation.\n"
     ]
    },
    {
     "name": "stderr",
     "output_type": "stream",
     "text": [
      "Pretraining: 100%|██████████| 200/200 [01:32<00:00,  2.17it/s, ae_loss=129]   \n",
      "Finetuning:  67%|██████▋   | 336/500 [04:48<02:21,  1.16it/s, ae_loss=96.6, atten_entropy=0.735, ccindex_val=0.928, cox_loss=1.65, loss=2.65]\n"
     ]
    },
    {
     "name": "stdout",
     "output_type": "stream",
     "text": [
      "Early stopping with best validation ccindex: 0.9619.\n"
     ]
    },
    {
     "name": "stderr",
     "output_type": "stream",
     "text": [
      "d:\\Projects\\scSurvival\\code\\datasets\\sim_surv_revision\\../..\\scSurvival_beta\\scsurvival.py:231: ImplicitModificationWarning: Setting element `.obsm['X_ae']` of view, initializing view as actual.\n",
      "  model.scaler = None\n"
     ]
    },
    {
     "name": "stdout",
     "output_type": "stream",
     "text": [
      "Added hazard and attention to adata.obs.\n",
      "Added patient_hazards to surv.\n",
      "train c-index: 0.9790\n",
      "testing...\n",
      "c-index: 0.9886\n",
      "==================================================\n",
      "fold 1, train_size: 80, test_size: 20\n",
      "Validation mode is enabled, will split 20% of the data for validation.\n"
     ]
    },
    {
     "name": "stderr",
     "output_type": "stream",
     "text": [
      "Pretraining: 100%|██████████| 200/200 [01:32<00:00,  2.16it/s, ae_loss=149]   \n",
      "Finetuning: 100%|██████████| 500/500 [07:10<00:00,  1.16it/s, ae_loss=105, atten_entropy=0.703, ccindex_val=0.948, cox_loss=1.57, loss=2.63]\n",
      "d:\\Projects\\scSurvival\\code\\datasets\\sim_surv_revision\\../..\\scSurvival_beta\\scsurvival.py:231: ImplicitModificationWarning: Setting element `.obsm['X_ae']` of view, initializing view as actual.\n",
      "  model.scaler = None\n"
     ]
    },
    {
     "name": "stdout",
     "output_type": "stream",
     "text": [
      "Added hazard and attention to adata.obs.\n",
      "Added patient_hazards to surv.\n",
      "train c-index: 0.9815\n",
      "testing...\n",
      "c-index: 0.9561\n",
      "==================================================\n",
      "fold 2, train_size: 80, test_size: 20\n",
      "Validation mode is enabled, will split 20% of the data for validation.\n"
     ]
    },
    {
     "name": "stderr",
     "output_type": "stream",
     "text": [
      "Pretraining: 100%|██████████| 200/200 [01:32<00:00,  2.16it/s, ae_loss=151]   \n",
      "Finetuning:  56%|█████▋    | 282/500 [04:06<03:10,  1.15it/s, ae_loss=116, atten_entropy=0.704, ccindex_val=0.935, cox_loss=2.02, loss=3.19]\n"
     ]
    },
    {
     "name": "stdout",
     "output_type": "stream",
     "text": [
      "Early stopping with best validation ccindex: 0.9646.\n"
     ]
    },
    {
     "name": "stderr",
     "output_type": "stream",
     "text": [
      "d:\\Projects\\scSurvival\\code\\datasets\\sim_surv_revision\\../..\\scSurvival_beta\\scsurvival.py:231: ImplicitModificationWarning: Setting element `.obsm['X_ae']` of view, initializing view as actual.\n",
      "  model.scaler = None\n"
     ]
    },
    {
     "name": "stdout",
     "output_type": "stream",
     "text": [
      "Added hazard and attention to adata.obs.\n",
      "Added patient_hazards to surv.\n",
      "train c-index: 0.9786\n",
      "testing...\n",
      "c-index: 0.9551\n",
      "==================================================\n",
      "fold 3, train_size: 80, test_size: 20\n",
      "Validation mode is enabled, will split 20% of the data for validation.\n"
     ]
    },
    {
     "name": "stderr",
     "output_type": "stream",
     "text": [
      "Pretraining: 100%|██████████| 200/200 [01:32<00:00,  2.16it/s, ae_loss=138]   \n",
      "Finetuning:  78%|███████▊  | 390/500 [05:46<01:37,  1.12it/s, ae_loss=95.1, atten_entropy=0.704, ccindex_val=0.937, cox_loss=1.61, loss=2.56]\n"
     ]
    },
    {
     "name": "stdout",
     "output_type": "stream",
     "text": [
      "Early stopping with best validation ccindex: 0.9575.\n"
     ]
    },
    {
     "name": "stderr",
     "output_type": "stream",
     "text": [
      "d:\\Projects\\scSurvival\\code\\datasets\\sim_surv_revision\\../..\\scSurvival_beta\\scsurvival.py:231: ImplicitModificationWarning: Setting element `.obsm['X_ae']` of view, initializing view as actual.\n",
      "  model.scaler = None\n"
     ]
    },
    {
     "name": "stdout",
     "output_type": "stream",
     "text": [
      "Added hazard and attention to adata.obs.\n",
      "Added patient_hazards to surv.\n",
      "train c-index: 0.9793\n",
      "testing...\n",
      "c-index: 0.9221\n",
      "==================================================\n",
      "fold 4, train_size: 80, test_size: 20\n",
      "Validation mode is enabled, will split 20% of the data for validation.\n"
     ]
    },
    {
     "name": "stderr",
     "output_type": "stream",
     "text": [
      "Pretraining: 100%|██████████| 200/200 [01:32<00:00,  2.15it/s, ae_loss=117]   \n",
      "Finetuning: 100%|██████████| 500/500 [07:14<00:00,  1.15it/s, ae_loss=74, atten_entropy=0.686, ccindex_val=0.943, cox_loss=1.59, loss=2.33]  \n",
      "d:\\Projects\\scSurvival\\code\\datasets\\sim_surv_revision\\../..\\scSurvival_beta\\scsurvival.py:231: ImplicitModificationWarning: Setting element `.obsm['X_ae']` of view, initializing view as actual.\n",
      "  model.scaler = None\n"
     ]
    },
    {
     "name": "stdout",
     "output_type": "stream",
     "text": [
      "Added hazard and attention to adata.obs.\n",
      "Added patient_hazards to surv.\n",
      "train c-index: 0.9833\n",
      "testing...\n",
      "c-index: 0.9785\n",
      "==================================================\n",
      "mean c-index: 0.9601 ± 0.0230\n",
      "Running 8/9: seed=1, sub_cluster_ratio=0.7, de_facloc=0.35\n",
      "  |======================================================================| 100%"
     ]
    },
    {
     "name": "stderr",
     "output_type": "stream",
     "text": [
      "100%|██████████| 100/100 [00:00<00:00, 100751.96it/s]\n",
      "c:\\Users\\renta\\AppData\\Local\\anaconda3\\Lib\\site-packages\\anndata\\_core\\aligned_df.py:67: ImplicitModificationWarning: Transforming to str index.\n",
      "  warnings.warn(\"Transforming to str index.\", ImplicitModificationWarning)\n",
      "c:\\Users\\renta\\AppData\\Local\\anaconda3\\Lib\\site-packages\\anndata\\_core\\aligned_df.py:67: ImplicitModificationWarning: Transforming to str index.\n",
      "  warnings.warn(\"Transforming to str index.\", ImplicitModificationWarning)\n"
     ]
    },
    {
     "name": "stdout",
     "output_type": "stream",
     "text": [
      "fold 0, train_size: 80, test_size: 20\n",
      "Validation mode is enabled, will split 20% of the data for validation.\n"
     ]
    },
    {
     "name": "stderr",
     "output_type": "stream",
     "text": [
      "Pretraining: 100%|██████████| 200/200 [01:34<00:00,  2.11it/s, ae_loss=109]   \n",
      "Finetuning:  55%|█████▌    | 277/500 [04:07<03:19,  1.12it/s, ae_loss=77.7, atten_entropy=0.8, ccindex_val=0.959, cox_loss=1.67, loss=2.55]  \n"
     ]
    },
    {
     "name": "stdout",
     "output_type": "stream",
     "text": [
      "Early stopping with best validation ccindex: 0.9706.\n"
     ]
    },
    {
     "name": "stderr",
     "output_type": "stream",
     "text": [
      "d:\\Projects\\scSurvival\\code\\datasets\\sim_surv_revision\\../..\\scSurvival_beta\\scsurvival.py:231: ImplicitModificationWarning: Setting element `.obsm['X_ae']` of view, initializing view as actual.\n",
      "  model.scaler = None\n"
     ]
    },
    {
     "name": "stdout",
     "output_type": "stream",
     "text": [
      "Added hazard and attention to adata.obs.\n",
      "Added patient_hazards to surv.\n",
      "train c-index: 0.9858\n",
      "testing...\n",
      "c-index: 0.9773\n",
      "==================================================\n",
      "fold 1, train_size: 80, test_size: 20\n",
      "Validation mode is enabled, will split 20% of the data for validation.\n"
     ]
    },
    {
     "name": "stderr",
     "output_type": "stream",
     "text": [
      "Pretraining: 100%|██████████| 200/200 [01:33<00:00,  2.14it/s, ae_loss=149]   \n",
      "Finetuning:  55%|█████▌    | 277/500 [04:10<03:21,  1.10it/s, ae_loss=117, atten_entropy=0.697, ccindex_val=0.955, cox_loss=1.7, loss=2.87] \n"
     ]
    },
    {
     "name": "stdout",
     "output_type": "stream",
     "text": [
      "Early stopping with best validation ccindex: 0.9705.\n"
     ]
    },
    {
     "name": "stderr",
     "output_type": "stream",
     "text": [
      "d:\\Projects\\scSurvival\\code\\datasets\\sim_surv_revision\\../..\\scSurvival_beta\\scsurvival.py:231: ImplicitModificationWarning: Setting element `.obsm['X_ae']` of view, initializing view as actual.\n",
      "  model.scaler = None\n"
     ]
    },
    {
     "name": "stdout",
     "output_type": "stream",
     "text": [
      "Added hazard and attention to adata.obs.\n",
      "Added patient_hazards to surv.\n",
      "train c-index: 0.9897\n",
      "testing...\n",
      "c-index: 0.9649\n",
      "==================================================\n",
      "fold 2, train_size: 80, test_size: 20\n",
      "Validation mode is enabled, will split 20% of the data for validation.\n"
     ]
    },
    {
     "name": "stderr",
     "output_type": "stream",
     "text": [
      "Pretraining: 100%|██████████| 200/200 [01:33<00:00,  2.14it/s, ae_loss=127]   \n",
      "Finetuning:  49%|████▉     | 244/500 [03:35<03:46,  1.13it/s, ae_loss=97.8, atten_entropy=0.732, ccindex_val=0.956, cox_loss=1.63, loss=2.63]\n"
     ]
    },
    {
     "name": "stdout",
     "output_type": "stream",
     "text": [
      "Early stopping with best validation ccindex: 0.9699.\n"
     ]
    },
    {
     "name": "stderr",
     "output_type": "stream",
     "text": [
      "d:\\Projects\\scSurvival\\code\\datasets\\sim_surv_revision\\../..\\scSurvival_beta\\scsurvival.py:231: ImplicitModificationWarning: Setting element `.obsm['X_ae']` of view, initializing view as actual.\n",
      "  model.scaler = None\n"
     ]
    },
    {
     "name": "stdout",
     "output_type": "stream",
     "text": [
      "Added hazard and attention to adata.obs.\n",
      "Added patient_hazards to surv.\n",
      "train c-index: 0.9847\n",
      "testing...\n",
      "c-index: 0.9607\n",
      "==================================================\n",
      "fold 3, train_size: 80, test_size: 20\n",
      "Validation mode is enabled, will split 20% of the data for validation.\n"
     ]
    },
    {
     "name": "stderr",
     "output_type": "stream",
     "text": [
      "Pretraining: 100%|██████████| 200/200 [01:34<00:00,  2.12it/s, ae_loss=175]   \n",
      "Finetuning:  54%|█████▍    | 270/500 [04:04<03:28,  1.10it/s, ae_loss=139, atten_entropy=0.697, ccindex_val=0.962, cox_loss=1.64, loss=3.03]\n"
     ]
    },
    {
     "name": "stdout",
     "output_type": "stream",
     "text": [
      "Early stopping with best validation ccindex: 0.9727.\n"
     ]
    },
    {
     "name": "stderr",
     "output_type": "stream",
     "text": [
      "d:\\Projects\\scSurvival\\code\\datasets\\sim_surv_revision\\../..\\scSurvival_beta\\scsurvival.py:231: ImplicitModificationWarning: Setting element `.obsm['X_ae']` of view, initializing view as actual.\n",
      "  model.scaler = None\n"
     ]
    },
    {
     "name": "stdout",
     "output_type": "stream",
     "text": [
      "Added hazard and attention to adata.obs.\n",
      "Added patient_hazards to surv.\n",
      "train c-index: 0.9899\n",
      "testing...\n",
      "c-index: 0.9708\n",
      "==================================================\n",
      "fold 4, train_size: 80, test_size: 20\n",
      "Validation mode is enabled, will split 20% of the data for validation.\n"
     ]
    },
    {
     "name": "stderr",
     "output_type": "stream",
     "text": [
      "Pretraining: 100%|██████████| 200/200 [01:33<00:00,  2.14it/s, ae_loss=98]    \n",
      "Finetuning:  38%|███▊      | 190/500 [02:46<04:31,  1.14it/s, ae_loss=72.2, atten_entropy=0.789, ccindex_val=0.961, cox_loss=1.64, loss=2.45]\n"
     ]
    },
    {
     "name": "stdout",
     "output_type": "stream",
     "text": [
      "Early stopping with best validation ccindex: 0.9727.\n"
     ]
    },
    {
     "name": "stderr",
     "output_type": "stream",
     "text": [
      "d:\\Projects\\scSurvival\\code\\datasets\\sim_surv_revision\\../..\\scSurvival_beta\\scsurvival.py:231: ImplicitModificationWarning: Setting element `.obsm['X_ae']` of view, initializing view as actual.\n",
      "  model.scaler = None\n"
     ]
    },
    {
     "name": "stdout",
     "output_type": "stream",
     "text": [
      "Added hazard and attention to adata.obs.\n",
      "Added patient_hazards to surv.\n",
      "train c-index: 0.9870\n",
      "testing...\n",
      "c-index: 0.9816\n",
      "==================================================\n",
      "mean c-index: 0.9710 ± 0.0077\n",
      "Running 9/9: seed=1, sub_cluster_ratio=0.7, de_facloc=0.5\n",
      "  |======================================================================| 100%"
     ]
    },
    {
     "name": "stderr",
     "output_type": "stream",
     "text": [
      "100%|██████████| 100/100 [00:00<00:00, 100438.31it/s]\n",
      "c:\\Users\\renta\\AppData\\Local\\anaconda3\\Lib\\site-packages\\anndata\\_core\\aligned_df.py:67: ImplicitModificationWarning: Transforming to str index.\n",
      "  warnings.warn(\"Transforming to str index.\", ImplicitModificationWarning)\n",
      "c:\\Users\\renta\\AppData\\Local\\anaconda3\\Lib\\site-packages\\anndata\\_core\\aligned_df.py:67: ImplicitModificationWarning: Transforming to str index.\n",
      "  warnings.warn(\"Transforming to str index.\", ImplicitModificationWarning)\n"
     ]
    },
    {
     "name": "stdout",
     "output_type": "stream",
     "text": [
      "fold 0, train_size: 80, test_size: 20\n",
      "Validation mode is enabled, will split 20% of the data for validation.\n"
     ]
    },
    {
     "name": "stderr",
     "output_type": "stream",
     "text": [
      "Pretraining: 100%|██████████| 200/200 [01:33<00:00,  2.14it/s, ae_loss=92.8]  \n",
      "Finetuning:  68%|██████▊   | 340/500 [05:10<02:26,  1.09it/s, ae_loss=60.4, atten_entropy=0.727, ccindex_val=0.958, cox_loss=1.51, loss=2.14]\n"
     ]
    },
    {
     "name": "stdout",
     "output_type": "stream",
     "text": [
      "Early stopping with best validation ccindex: 0.9688.\n"
     ]
    },
    {
     "name": "stderr",
     "output_type": "stream",
     "text": [
      "d:\\Projects\\scSurvival\\code\\datasets\\sim_surv_revision\\../..\\scSurvival_beta\\scsurvival.py:231: ImplicitModificationWarning: Setting element `.obsm['X_ae']` of view, initializing view as actual.\n",
      "  model.scaler = None\n"
     ]
    },
    {
     "name": "stdout",
     "output_type": "stream",
     "text": [
      "Added hazard and attention to adata.obs.\n",
      "Added patient_hazards to surv.\n",
      "train c-index: 0.9867\n",
      "testing...\n",
      "c-index: 0.9972\n",
      "==================================================\n",
      "fold 1, train_size: 80, test_size: 20\n",
      "Validation mode is enabled, will split 20% of the data for validation.\n"
     ]
    },
    {
     "name": "stderr",
     "output_type": "stream",
     "text": [
      "Pretraining: 100%|██████████| 200/200 [01:34<00:00,  2.12it/s, ae_loss=122]   \n",
      "Finetuning:  42%|████▏     | 211/500 [03:10<04:20,  1.11it/s, ae_loss=94, atten_entropy=0.746, ccindex_val=0.964, cox_loss=1.79, loss=2.77]  \n"
     ]
    },
    {
     "name": "stdout",
     "output_type": "stream",
     "text": [
      "Early stopping with best validation ccindex: 0.9724.\n"
     ]
    },
    {
     "name": "stderr",
     "output_type": "stream",
     "text": [
      "d:\\Projects\\scSurvival\\code\\datasets\\sim_surv_revision\\../..\\scSurvival_beta\\scsurvival.py:231: ImplicitModificationWarning: Setting element `.obsm['X_ae']` of view, initializing view as actual.\n",
      "  model.scaler = None\n"
     ]
    },
    {
     "name": "stdout",
     "output_type": "stream",
     "text": [
      "Added hazard and attention to adata.obs.\n",
      "Added patient_hazards to surv.\n",
      "train c-index: 0.9893\n",
      "testing...\n",
      "c-index: 0.9883\n",
      "==================================================\n",
      "fold 2, train_size: 80, test_size: 20\n",
      "Validation mode is enabled, will split 20% of the data for validation.\n"
     ]
    },
    {
     "name": "stderr",
     "output_type": "stream",
     "text": [
      "Pretraining: 100%|██████████| 200/200 [01:33<00:00,  2.13it/s, ae_loss=103]   \n",
      "Finetuning:  49%|████▉     | 245/500 [03:41<03:50,  1.11it/s, ae_loss=70.7, atten_entropy=0.749, ccindex_val=0.959, cox_loss=1.57, loss=2.33]\n"
     ]
    },
    {
     "name": "stdout",
     "output_type": "stream",
     "text": [
      "Early stopping with best validation ccindex: 0.9711.\n"
     ]
    },
    {
     "name": "stderr",
     "output_type": "stream",
     "text": [
      "d:\\Projects\\scSurvival\\code\\datasets\\sim_surv_revision\\../..\\scSurvival_beta\\scsurvival.py:231: ImplicitModificationWarning: Setting element `.obsm['X_ae']` of view, initializing view as actual.\n",
      "  model.scaler = None\n"
     ]
    },
    {
     "name": "stdout",
     "output_type": "stream",
     "text": [
      "Added hazard and attention to adata.obs.\n",
      "Added patient_hazards to surv.\n",
      "train c-index: 0.9861\n",
      "testing...\n",
      "c-index: 0.9719\n",
      "==================================================\n",
      "fold 3, train_size: 80, test_size: 20\n",
      "Validation mode is enabled, will split 20% of the data for validation.\n"
     ]
    },
    {
     "name": "stderr",
     "output_type": "stream",
     "text": [
      "Pretraining: 100%|██████████| 200/200 [01:35<00:00,  2.10it/s, ae_loss=102]   \n",
      "Finetuning:  40%|███▉      | 198/500 [02:53<04:25,  1.14it/s, ae_loss=74.8, atten_entropy=0.739, ccindex_val=0.968, cox_loss=1.64, loss=2.43]\n"
     ]
    },
    {
     "name": "stdout",
     "output_type": "stream",
     "text": [
      "Early stopping with best validation ccindex: 0.9726.\n"
     ]
    },
    {
     "name": "stderr",
     "output_type": "stream",
     "text": [
      "d:\\Projects\\scSurvival\\code\\datasets\\sim_surv_revision\\../..\\scSurvival_beta\\scsurvival.py:231: ImplicitModificationWarning: Setting element `.obsm['X_ae']` of view, initializing view as actual.\n",
      "  model.scaler = None\n"
     ]
    },
    {
     "name": "stdout",
     "output_type": "stream",
     "text": [
      "Added hazard and attention to adata.obs.\n",
      "Added patient_hazards to surv.\n",
      "train c-index: 0.9887\n",
      "testing...\n",
      "c-index: 0.9610\n",
      "==================================================\n",
      "fold 4, train_size: 80, test_size: 20\n",
      "Validation mode is enabled, will split 20% of the data for validation.\n"
     ]
    },
    {
     "name": "stderr",
     "output_type": "stream",
     "text": [
      "Pretraining: 100%|██████████| 200/200 [01:33<00:00,  2.15it/s, ae_loss=128]   \n",
      "Finetuning:  38%|███▊      | 189/500 [02:45<04:31,  1.14it/s, ae_loss=103, atten_entropy=0.75, ccindex_val=0.96, cox_loss=1.67, loss=2.75]  \n"
     ]
    },
    {
     "name": "stdout",
     "output_type": "stream",
     "text": [
      "Early stopping with best validation ccindex: 0.9713.\n"
     ]
    },
    {
     "name": "stderr",
     "output_type": "stream",
     "text": [
      "d:\\Projects\\scSurvival\\code\\datasets\\sim_surv_revision\\../..\\scSurvival_beta\\scsurvival.py:231: ImplicitModificationWarning: Setting element `.obsm['X_ae']` of view, initializing view as actual.\n",
      "  model.scaler = None\n"
     ]
    },
    {
     "name": "stdout",
     "output_type": "stream",
     "text": [
      "Added hazard and attention to adata.obs.\n",
      "Added patient_hazards to surv.\n",
      "train c-index: 0.9889\n",
      "testing...\n",
      "c-index: 0.9939\n",
      "==================================================\n",
      "mean c-index: 0.9825 ± 0.0138\n"
     ]
    }
   ],
   "source": [
    "from utils import Logger\n",
    "from itertools import product\n",
    "load_r_packages()\n",
    "param_grid = {\n",
    "    'seed': [1],\n",
    "    'sub_cluster_ratio': [0.3, 0.5, 0.7],\n",
    "    'de_facloc': [0.2, 0.35, 0.5],\n",
    "}\n",
    "keys, values = zip(*param_grid.items())\n",
    "combos = [dict(zip(keys, v)) for v in product(*values)]\n",
    "\n",
    "save_root_path = './results/revision-sim6-python/'\n",
    "logger = Logger(save_path=f'{save_root_path}cv_logs.csv')\n",
    "\n",
    "for i, params in enumerate(combos): \n",
    "    logger.log_dict(params)\n",
    "    seed = params['seed']\n",
    "    sub_cluster_ratio = params['sub_cluster_ratio']\n",
    "    de_facloc = params['de_facloc']\n",
    "\n",
    "    print(f'Running {i+1}/{len(combos)}: seed={seed}, sub_cluster_ratio={sub_cluster_ratio}, de_facloc={de_facloc}')\n",
    "\n",
    "    simulated_base_sc_dataset(seed=seed, plot=False, cell_surv_ratio=cell_surv_ratio, sub_cluster_ratio=sub_cluster_ratio, de_facloc=de_facloc)\n",
    "    datasets = simulated_sc_datasets(plot=False)\n",
    "\n",
    "    adata, surv, adata_new = organize_data_for_model(datasets)\n",
    "    cindex_results = cross_validation_samples(adata, surv, entropy_threshold=0.7)\n",
    "\n",
    "    cindex_results = {\n",
    "        'mean_cindex': cindex_results['mean_cindex'],\n",
    "        'std_cindex': cindex_results['std_cindex']\n",
    "    }\n",
    "\n",
    "    logger.log_dict(cindex_results)\n",
    "    logger.get_logs_df()\n"
   ]
  }
 ],
 "metadata": {
  "kernelspec": {
   "display_name": "base",
   "language": "python",
   "name": "python3"
  },
  "language_info": {
   "codemirror_mode": {
    "name": "ipython",
    "version": 3
   },
   "file_extension": ".py",
   "mimetype": "text/x-python",
   "name": "python",
   "nbconvert_exporter": "python",
   "pygments_lexer": "ipython3",
   "version": "3.11.9"
  }
 },
 "nbformat": 4,
 "nbformat_minor": 5
}
