{
 "cells": [
  {
   "cell_type": "code",
   "execution_count": 1,
   "id": "1f7ef388",
   "metadata": {},
   "outputs": [],
   "source": [
    "import os\n",
    "os.environ[\"RPY2_CFFI_MODE\"] = \"ABI\"\n",
    "import rpy2.robjects as ro\n",
    "import rpy2.robjects as ro\n",
    "from rpy2.robjects import pandas2ri\n",
    "from rpy2.robjects.conversion import localconverter\n",
    "from rpy2.rinterface_lib.callbacks import logger as rpy2_logger\n",
    "rpy2_logger.setLevel(\"ERROR\")   # 只显示错误，屏蔽 message 和 warning\n",
    "rpy2_logger.propagate = False   # 阻止继续传给 root logger\n",
    "\n",
    "import sys\n",
    "sys.path.append(\"../../\")\n",
    "\n",
    "# from scSurvival.scsurvival import scSurvival, scSurvivalRun, PredictIndSample\n",
    "from scSurvival_beta import scSurvivalRun, PredictIndSample\n",
    "import torch\n",
    "import seaborn as sns\n",
    "import matplotlib.pyplot as plt\n",
    "import numpy as np\n",
    "import pandas as pd\n",
    "\n",
    "import os \n",
    "os.environ['KMP_DUPLICATE_LIB_OK']='True'\n",
    "\n",
    "from tqdm import tqdm, trange\n",
    "import scanpy as sc\n",
    "from sklearn.preprocessing import StandardScaler\n",
    "from sklearn.decomposition import PCA\n",
    "from sklearn.cluster import KMeans\n",
    "\n",
    "from sklearn.metrics import classification_report\n",
    "from sklearn.model_selection import KFold\n",
    "import io\n",
    "import contextlib\n",
    "f = io.StringIO()\n",
    "from lifelines.utils import concordance_index\n",
    "from scipy.stats import percentileofscore\n",
    "from utils import *"
   ]
  },
  {
   "cell_type": "code",
   "execution_count": 2,
   "id": "ef9ae14a",
   "metadata": {},
   "outputs": [],
   "source": [
    "def load_r_packages():\n",
    "    ro.r('''  \n",
    "    rm(list=ls())\n",
    "    # library(\"scater\")\n",
    "    library(\"splatter\")\n",
    "    library(scran)\n",
    "    library(Seurat)\n",
    "    # library(preprocessCore)\n",
    "    library(pROC)\n",
    "    # library(APML2)\n",
    "    # library(APML1)\n",
    "    # library(APML0)\n",
    "\n",
    "    library(ggplot2)\n",
    "    library(dplyr)\n",
    "    library(caret)\n",
    "    set.seed(1)\n",
    "    ''')\n",
    "\n",
    "\n",
    "def simulated_base_sc_dataset(seed=42, plot=False, cell_surv_ratio=0.5):\n",
    "    ro.r(f'''\n",
    "    seed <- {seed}\n",
    "    alpha = {cell_surv_ratio}\n",
    "    sim.groups <- splatSimulateGroups(\n",
    "    batchCells = 10000, nGenes=5000,\n",
    "    #group.prob = c(0.9, 0.05, 0.05),\n",
    "    group.prob = c(1 - 2*alpha, alpha, alpha),\n",
    "    de.prob = c(0.2, 0.06, 0.06), \n",
    "    de.facLoc = c(0.1, 0.1, 0.1),\n",
    "    de.facScale = 0.4,\n",
    "    seed = seed)\n",
    "\n",
    "    data <- CreateSeuratObject(counts = counts(sim.groups), project = 'Scissor_Single_Cell')\n",
    "    data <- AddMetaData(object = data, metadata = sim.groups$Group, col.name = \"sim.group\")\n",
    "    data$Actual.cond <- recode(data$sim.group,'Group1'='other', 'Group2'='good.survival', 'Group3'='bad.survival')\n",
    "\n",
    "    select_gene_ids <- 1:2000\n",
    "    data <- NormalizeData(object = data, normalization.method = \"LogNormalize\", \n",
    "                          scale.factor = 10000)\n",
    "    data <- FindVariableFeatures(object = data, selection.method = 'vst', nfeatures=2000)\n",
    "    var_features_genes = VariableFeatures(data)\n",
    "    ''')\n",
    "\n",
    "    if plot:\n",
    "        ro.r('''\n",
    "        data <- ScaleData(object = data)\n",
    "        data <- RunPCA(object = data, features = VariableFeatures(data)[select_gene_ids])\n",
    "\n",
    "        data <- RunUMAP(object = data, dims = 1:10, n.neighbors = 5, min.dist=0.5, spread=1.5)\n",
    "        # data <- RunUMAP(object = data, dims = 1:10)\n",
    "        data <- FindNeighbors(object = data, dims = 1:10, k.param=20)\n",
    "        # data <- FindNeighbors(object = data, dims = 1:10, k.param=20,prune.SNN = 0.2)\n",
    "        data <- FindClusters(object = data, resolution = 0.5)\n",
    "\n",
    "        DimPlot(object = data, reduction = 'umap', group.by = 'seurat_clusters', label = F, label.size = 10,pt.size=0.5)\n",
    "        ggsave(paste0(save_path, 'simu_seurat_cluster_umap.pdf'), height = 5, width = 7)\n",
    "\n",
    "        DimPlot(object = data, reduction = 'umap', group.by = 'sim.group', pt.size = 0.5, label = T)\n",
    "        ggsave(paste0(save_path, 'simu_group_umap.pdf'), height = 5, width = 7)\n",
    "\n",
    "        # DimPlot(object = data, reduction = 'umap',  cols = c('grey','blue', 'red'), group.by = 'sim.group', pt.size = 0.5, label = T)\n",
    "        # \n",
    "        DimPlot(object = data, reduction = 'umap',  cols = c('grey','blue', 'red'), group.by = 'Actual.cond', pt.size = 0.5, label = T)\n",
    "        ggsave(paste0(save_path, 'simu_surv_group_umap.pdf'), height = 5, width = 7)\n",
    "        ''')\n",
    "\n",
    "def simulated_sc_datasets(plot=False):\n",
    "    ro.r('''\n",
    "    Expression_pbmc <- as.matrix(data@assays[[\"RNA\"]]@layers[[\"data\"]])\n",
    "    rownames(Expression_pbmc) <- rownames(data)\n",
    "    colnames(Expression_pbmc) <- colnames(data)\n",
    "    Expression_pbmc <- as.data.frame(Expression_pbmc)\n",
    "    all_genes <- rownames(Expression_pbmc)\n",
    "         \n",
    "    set.seed(seed)\n",
    "    sampled_cells = 1000\n",
    "    bulk_num=100\n",
    "\n",
    "    other_cells <- colnames(Expression_pbmc)[data$Actual.cond=='other']\n",
    "    good_cells <- colnames(Expression_pbmc)[data$Actual.cond=='good.survival']\n",
    "    bad_cells <- colnames(Expression_pbmc)[data$Actual.cond=='bad.survival']\n",
    "    num_good <- length(good_cells)\n",
    "    num_bad <- length(bad_cells)\n",
    "\n",
    "    bulk_condition = NULL\n",
    "    censor_prob = 0.1\n",
    "\n",
    "    status = NULL\n",
    "    surv_time = NULL\n",
    "\n",
    "    num_good_cond_cells = NULL\n",
    "    num_bad_cond_cells = NULL\n",
    "\n",
    "    sc_data_list = list()\n",
    "    pb <- txtProgressBar(min = 1, max = bulk_num, style = 3)\n",
    "    for (i in 1:bulk_num){\n",
    "      setTxtProgressBar(pb, i)\n",
    "      ratio <- (i-1) / (bulk_num-1)\n",
    "      # ratio <- plogis((ratio - 0.5) * 2 * 6)\n",
    "      num_good_cond_cells_i = round(num_good * ratio)\n",
    "      num_bad_cond_cells_i = round(num_bad * (1-ratio))\n",
    "      condition_good_cells <- good_cells[sample(num_good, num_good_cond_cells_i , replace=TRUE)]\n",
    "      condition_bad_cells <- bad_cells[sample(num_bad, num_bad_cond_cells_i, replace=TRUE)]\n",
    "      condition_cells <- c(condition_good_cells, condition_bad_cells, other_cells)\n",
    "      # condition_cells <- c(condition_bad_cells, other_cells)\n",
    "  \n",
    "      num_good_cond_cells = c(num_good_cond_cells, num_good_cond_cells_i)\n",
    "      num_bad_cond_cells = c(num_bad_cond_cells, num_bad_cond_cells_i)\n",
    "  \n",
    "      Expression_condition = Expression_pbmc[, condition_cells]\n",
    "      Expression_selected <- Expression_condition[, sample(ncol(Expression_condition),size=sampled_cells,replace=TRUE)]\n",
    "  \n",
    "      # filter_cells = intersect(c(condition_bad_cells, other_cells), colnames(Expression_selected))\n",
    "      # Expression_selected <- Expression_selected[, filter_cells]\n",
    "  \n",
    "      # write.csv(Expression_selected, file = sprintf('./source_data/single_cell_revision/%d.csv', i))\n",
    "      sc_data_list[[sprintf('bulk%d', i)]] <- Expression_selected\n",
    "\n",
    "      if (runif(1, min = 0, max = 1) < censor_prob){\n",
    "        status = c(status, 0)\n",
    "        surv_time = c(surv_time, sample(i, 1))\n",
    "      }\n",
    "      else{\n",
    "        surv_time = c(surv_time, i)\n",
    "        status = c(status, 1)\n",
    "      }\n",
    "    }\n",
    "\n",
    "    bulk_names <- paste0('bulk', 1:bulk_num)\n",
    "    surv_info <- data.frame(\n",
    "      time=surv_time,\n",
    "      status=status,\n",
    "      num.good.cells = num_good_cond_cells,\n",
    "      num.bad.cells = num_bad_cond_cells,\n",
    "      row.names = bulk_names\n",
    "    )\n",
    "\n",
    "    dim(surv_info)\n",
    "    dim(Expression_pbmc)\n",
    "         \n",
    "    labels <- data$Actual.cond\n",
    "    labels <- as.data.frame(labels)\n",
    "    row.names(labels) <- colnames(data)\n",
    "    \n",
    "    ''')\n",
    "\n",
    "    if plot:\n",
    "        ro.r('''\n",
    "        library(gridExtra)\n",
    "        library(ggpubr)\n",
    "\n",
    "        plot_list <- list()\n",
    "\n",
    "        for (i in c(2, 10, 40, 60, 90, 99)){\n",
    "          ratio <- (i-1) / (bulk_num-1)\n",
    "          # ratio <- plogis((ratio - 0.5) * 2 * 6)\n",
    "          num_good_cond_cells_i = round(num_good * ratio)\n",
    "          num_bad_cond_cells_i = round(num_bad * (1-ratio))\n",
    "          condition_good_cells <- good_cells[sample(num_good, num_good_cond_cells_i , replace=TRUE)]\n",
    "          condition_bad_cells <- bad_cells[sample(num_bad, num_bad_cond_cells_i, replace=TRUE)]\n",
    "          condition_cells <- c(condition_good_cells, condition_bad_cells, other_cells)\n",
    "          # condition_cells <- c(condition_bad_cells, other_cells)\n",
    "  \n",
    "  \n",
    "          p <- DimPlot(data[, condition_cells], group.by = 'Actual.cond', cols = c('grey','blue', 'red'), pt.size = 0.5) +\n",
    "          ggtitle(sprintf(\"survival.time: %d months\", i))\n",
    "          plot_list[[length(plot_list) + 1]] <- p\n",
    "        }\n",
    "\n",
    "        # combined_plot <- do.call(grid.arrange, c(plot_list, ncol = 3))\n",
    "        # combined_plot\n",
    "        ggarrange(plotlist = plot_list, ncol = 3, nrow=2, common.legend = TRUE, legend = \"bottom\")\n",
    "        ggsave(paste0(save_path, 'survival.time.simulated.pdf'), height = 7, width = 10.5)\n",
    "        ''')\n",
    "\n",
    "    # collected sc_data_list, surv_info, Expression_pbmc and transfer to python\n",
    "    surv_info_df     = r_to_pandas(\"surv_info\")\n",
    "    Expression_pbmc_df = r_to_pandas(\"Expression_pbmc\")\n",
    "    sc_data_list     = r_list_to_pydict_df(\"sc_data_list\")  # dict: { 'bulk_1': DataFrame, ... }\n",
    "    labels_df       = r_to_pandas(\"labels\")\n",
    "    features = {\n",
    "        'all_genes': list(ro.r(\"all_genes\")),\n",
    "        'hvg': list(ro.r(\"var_features_genes\"))\n",
    "    }\n",
    "\n",
    "    return_data = {\n",
    "        'sc_data_list': sc_data_list,\n",
    "        'surv_info_df': surv_info_df,\n",
    "        'Expression_pbmc_df': Expression_pbmc_df,\n",
    "        'labels_df': labels_df,\n",
    "        'features': features\n",
    "    }\n",
    "\n",
    "    return return_data\n"
   ]
  },
  {
   "cell_type": "code",
   "execution_count": 3,
   "id": "5473ad7e",
   "metadata": {},
   "outputs": [],
   "source": [
    "def organize_data_for_model(datasets):\n",
    "    sc_data_list = datasets['sc_data_list']\n",
    "    clinic = datasets['surv_info_df']\n",
    "\n",
    "    xs = []\n",
    "    samples = []\n",
    "    for key, val in tqdm(sc_data_list.items()):\n",
    "        df = val\n",
    "        xs.append(df.values.T)\n",
    "        samples.extend([key] * df.shape[1])\n",
    "\n",
    "    X = np.concatenate(xs, axis=0)\n",
    "    adata = sc.AnnData(X, obs=pd.DataFrame(samples, index=np.arange(X.shape[0]), columns=['sample']),\n",
    "    var=pd.DataFrame(index=datasets['features']['all_genes']))\n",
    "\n",
    "    adata.raw = adata.copy()\n",
    "    adata = adata[:, datasets['features']['hvg']]\n",
    "\n",
    "    surv = clinic[['time', 'status']].copy()\n",
    "    surv['time'] = surv['time'].astype(float)\n",
    "    surv['status'] = surv['status'].astype(int)\n",
    "\n",
    "    df = datasets['Expression_pbmc_df']\n",
    "    x = df.values.T\n",
    "    sim_group = datasets['labels_df']\n",
    "    sim_group = sim_group['labels'].values\n",
    "\n",
    "    adata_new = sc.AnnData(x, obs=pd.DataFrame(sim_group, index=np.arange(x.shape[0]), columns=['sim_group']), var=pd.DataFrame(index=datasets['features']['all_genes']))\n",
    "\n",
    "    return adata, surv, adata_new\n",
    "\n",
    "def detect_subpopulations(adata, surv, adata_new, entropy_threshold=0.7):\n",
    "    adata, surv, model = scSurvivalRun(adata, \n",
    "        sample_column='sample',\n",
    "        surv=surv,\n",
    "        # batch_key='batch',\n",
    "        feature_flavor='AE',\n",
    "        entropy_threshold=entropy_threshold,\n",
    "        lambdas=(0.01, 1.0),\n",
    "        pretrain_epochs=200,\n",
    "        epochs=500,\n",
    "        weight_decay=0.01,\n",
    "        lr=0.001,\n",
    "        patience=100,\n",
    "        rec_likelihood='ZIG',\n",
    "        do_scale_ae=False,\n",
    "        beta=0.1, tau=0.2, \n",
    "        sample_size_ae=None,\n",
    "        finetue_lr_factor=0.1,\n",
    "        gene_weight_alpha=0.2,\n",
    "        gamma_beta_weight=(0.1, 0.0),\n",
    "        once_load_to_gpu=True,\n",
    "        use_amp=False,\n",
    "        fitnetune_strategy='alternating', # jointly, alternating, alternating_lightly,\n",
    "        )\n",
    "\n",
    "    data = adata.obs['attention'].values.reshape(-1, 1)\n",
    "    kmeans = KMeans(n_clusters=2, random_state=42)\n",
    "    kmeans.fit(data)\n",
    "    cluster_centers = kmeans.cluster_centers_\n",
    "    atten_thr = cluster_centers.flatten().mean()\n",
    "    \n",
    "    adata_new, _ = PredictIndSample(adata_new, adata, model)\n",
    "\n",
    "    attention = adata_new.obs['attention'].values\n",
    "    hazard_adj = adata_new.obs['hazard_adj'].values\n",
    "    hazard = adata_new.obs['hazard'].values\n",
    "\n",
    "    risk_group = np.array(['inattentive'] * attention.shape[0], dtype=object)\n",
    "    risk_group[np.logical_and(attention >= atten_thr, hazard_adj > 0)] = 'higher'\n",
    "    risk_group[np.logical_and(attention >= atten_thr, hazard_adj <= 0)] = 'lower'\n",
    "\n",
    "    # higher -> bad.survival, lower -> good.survival, inattentive -> other \n",
    "\n",
    "    risk_group_recoded = np.array(['other'] * attention.shape[0], dtype=object)\n",
    "    risk_group_recoded[risk_group == 'higher'] = 'bad.survival'\n",
    "    risk_group_recoded[risk_group == 'lower'] = 'good.survival'\n",
    "\n",
    "    clf_report = classification_report(adata_new.obs['sim_group'].values, risk_group_recoded, output_dict=True, zero_division=0)\n",
    "\n",
    "    clf_report_df = pd.DataFrame(clf_report).T\n",
    "    return clf_report_df, adata_new\n",
    "\n",
    "def cross_validation_samples(adata, surv, entropy_threshold=0.7):\n",
    "    # 交叉验证样本\n",
    "    adata = adata.raw.to_adata()\n",
    "    adata.obs['patient_no'] = adata.obs['sample']\n",
    "    patients = adata.obs['patient_no'].unique()\n",
    "\n",
    "    # K fold cross validation\n",
    "    cv_hazards_adj_cells = np.zeros((adata.shape[0], ))\n",
    "    surv['cv_hazards_adj_patient'] = 0.0\n",
    "    surv['cv_hazard_percentile_patient'] = 0.0\n",
    "    cindexs = []\n",
    "    surv_test_all_folds = []\n",
    "\n",
    "    kf = KFold(n_splits=5, shuffle=True, random_state=42)\n",
    "    for i, (train_index, test_index) in enumerate(kf.split(patients)):\n",
    "\n",
    "        print(f'fold {i}, train_size: {train_index.shape[0]}, test_size: {test_index.shape[0]}')\n",
    "        train_patients = patients[train_index]\n",
    "        test_patients = patients[test_index]\n",
    "\n",
    "        # train\n",
    "        adata_train = adata[adata.obs['patient_no'].isin(train_patients), :].copy()\n",
    "    \n",
    "        ## select HVGs on training set only\n",
    "        sc.pp.highly_variable_genes(adata_train, n_top_genes=2000, subset=False, flavor='seurat')\n",
    "        hvgs = adata_train.var[adata_train.var['highly_variable']].index.tolist() \n",
    "        adata_train = adata_train[:, hvgs]\n",
    "\n",
    "        surv_train = surv.loc[surv.index.isin(train_patients), :].copy()\n",
    "\n",
    "        adata_train, surv_train, model = scSurvivalRun(\n",
    "            adata_train,\n",
    "            sample_column='sample',\n",
    "            surv=surv_train,\n",
    "            # batch_key='batch',\n",
    "            feature_flavor='AE',\n",
    "            entropy_threshold=entropy_threshold,\n",
    "            validate=True,\n",
    "            validate_ratio=0.2,\n",
    "            validate_metric='ccindex',\n",
    "            lambdas=(0.01, 1.0),\n",
    "            pretrain_epochs=200,\n",
    "            epochs=500,\n",
    "            weight_decay=0.01,\n",
    "            lr=0.001,\n",
    "            patience=100,\n",
    "            rec_likelihood='ZIG',\n",
    "            do_scale_ae=False,\n",
    "            beta=0.1, tau=0.2, \n",
    "            sample_size_ae=None,\n",
    "            finetue_lr_factor=0.1,\n",
    "            gene_weight_alpha=0.2,\n",
    "            gamma_beta_weight=(0.1, 0.0),\n",
    "            once_load_to_gpu=True,\n",
    "            use_amp=False,\n",
    "            fitnetune_strategy='alternating', # jointly, alternating, alternating_lightly,\n",
    "            )  \n",
    "        \n",
    "        \n",
    "        train_cindex = concordance_index(surv_train['time'], -surv_train['patient_hazards'], surv_train['status'])\n",
    "        print(f'train c-index: {train_cindex:.4f}')\n",
    "\n",
    "        # test\n",
    "        print('testing...')\n",
    "        adata_test = adata[adata.obs['patient_no'].isin(test_patients), :].copy()\n",
    "        adata_test = adata_test[:, hvgs]\n",
    "\n",
    "        with contextlib.redirect_stdout(f):\n",
    "            for test_patient in test_patients:\n",
    "                adata_test_patient = adata_test[adata_test.obs['patient_no'] == test_patient, :].copy()\n",
    "                adata_test_patient, patient_hazard = PredictIndSample(adata_test_patient, adata_train, model)\n",
    "                cv_hazards_adj_cells[adata.obs['patient_no'] == test_patient] = adata_test_patient.obs['hazard_adj'].values\n",
    "                surv.loc[surv.index == test_patient, 'cv_hazards_adj_patient'] = patient_hazard\n",
    "                surv.loc[surv.index == test_patient, 'cv_hazard_percentile_patient'] = percentileofscore(surv_train['patient_hazards'], patient_hazard, kind='rank')\n",
    "\n",
    "        surv_test = surv.loc[surv.index.isin(test_patients), :]\n",
    "        c_index = concordance_index(surv_test['time'], -surv_test['cv_hazards_adj_patient'], surv_test['status'])\n",
    "\n",
    "        cindexs.append(c_index)\n",
    "        surv_test_all_folds.append(surv_test)\n",
    "\n",
    "        print(f'c-index: {c_index:.4f}')\n",
    "        print('='*50)\n",
    "\n",
    "        # if i == 0:\n",
    "        #     break\n",
    "\n",
    "    mean_cindex = np.mean(cindexs)\n",
    "    std_cindex = np.std(cindexs)\n",
    "\n",
    "    print(f'mean c-index: {mean_cindex:.4f} ± {std_cindex:.4f}')\n",
    "    cindexs_df = pd.DataFrame(cindexs, columns=['c-index'], index=['fold%d' % i for i in range(5)])\n",
    "\n",
    "    cindex_results = {\n",
    "        'mean_cindex': mean_cindex,\n",
    "        'std_cindex': std_cindex,\n",
    "        'cindexs_df': cindexs_df\n",
    "    }\n",
    "\n",
    "    return cindex_results\n"
   ]
  },
  {
   "cell_type": "code",
   "execution_count": 4,
   "id": "3ff10db7",
   "metadata": {},
   "outputs": [
    {
     "data": {
      "text/html": [
       "\n",
       "        <span>StrVector with 2 elements.</span>\n",
       "        <table>\n",
       "        <tbody>\n",
       "          <tr>\n",
       "          \n",
       "            <td>\n",
       "            '/home/groups/XiaLab/re...\n",
       "            </td>\n",
       "          \n",
       "            <td>\n",
       "            '/arc/software/25Q1/spa...\n",
       "            </td>\n",
       "          \n",
       "          </tr>\n",
       "        </tbody>\n",
       "        </table>\n",
       "        "
      ],
      "text/plain": [
       "<rpy2.robjects.vectors.StrVector object at 0x7f13cb837ed0> [16]\n",
       "R classes: ('character',)\n",
       "['/home/groups/XiaLab/re..., '/arc/software/25Q1/spa...]"
      ]
     },
     "execution_count": 4,
     "metadata": {},
     "output_type": "execute_result"
    }
   ],
   "source": [
    "ro.r('.libPaths()')"
   ]
  },
  {
   "cell_type": "code",
   "execution_count": 5,
   "id": "842f141a",
   "metadata": {},
   "outputs": [
    {
     "name": "stdout",
     "output_type": "stream",
     "text": [
      "\n",
      "    WARNING: The R package \"reticulate\" only fixed recently\n",
      "    an issue that caused a segfault when used with rpy2:\n",
      "    https://github.com/rstudio/reticulate/pull/1188\n",
      "    Make sure that you use a version of that package that includes\n",
      "    the fix.\n",
      "    "
     ]
    }
   ],
   "source": [
    "load_r_packages()"
   ]
  },
  {
   "cell_type": "code",
   "execution_count": null,
   "id": "b5bff430",
   "metadata": {},
   "outputs": [],
   "source": [
    "from utils import Logger\n",
    "from itertools import product\n",
    "load_r_packages()\n",
    "param_grid = {\n",
    "    'seed': range(1, 11),\n",
    "    'cell_surv_ratio': [0.01, 0.03, 0.05, 0.10, 0.15]\n",
    "}\n",
    "keys, values = zip(*param_grid.items())\n",
    "combos = [dict(zip(keys, v)) for v in product(*values)]\n",
    "\n",
    "save_root_path = './results/revision-sim1-python/'\n",
    "logger = Logger(save_path=f'{save_root_path}cell_subpopulation_logs.csv')\n",
    "\n",
    "for i, params in enumerate(combos):\n",
    "    logger.log_dict(params)\n",
    "    seed = params['seed']\n",
    "    cell_surv_ratio = params['cell_surv_ratio']\n",
    "\n",
    "    print(f'Running {i+1}/{len(combos)}: seed={seed}, cell_surv_ratio={cell_surv_ratio}')\n",
    "\n",
    "    save_path = f'./results/revision-sim1-python/ratio-{cell_surv_ratio}_seed-{seed}/'\n",
    "    ro.globalenv['save_path'] = save_path\n",
    "    \n",
    "\n",
    "    if seed == 1:\n",
    "        ro.r('dir.create(save_path, recursive=T)')\n",
    "        simulated_base_sc_dataset(seed=seed, plot=True, cell_surv_ratio=cell_surv_ratio)\n",
    "        datasets = simulated_sc_datasets(plot=True)\n",
    "    else:\n",
    "        simulated_base_sc_dataset(seed=seed, plot=False, cell_surv_ratio=cell_surv_ratio)\n",
    "        datasets = simulated_sc_datasets(plot=False)\n",
    "\n",
    "    adata, surv, adata_new = organize_data_for_model(datasets)\n",
    "    if cell_surv_ratio < 0.05:\n",
    "        entropy_threshold = 0.3\n",
    "    elif cell_surv_ratio <= 0.1:\n",
    "        entropy_threshold = 0.5\n",
    "    else:\n",
    "        entropy_threshold = 0.7\n",
    "\n",
    "    clf_report_df, adata_new = detect_subpopulations(adata, surv, adata_new, entropy_threshold=entropy_threshold)\n",
    "\n",
    "    clf_rst = {\n",
    "        'precision': clf_report_df.loc['macro avg', 'precision'],\n",
    "        'recall': clf_report_df.loc['macro avg', 'recall'],\n",
    "        'f1-score': clf_report_df.loc['macro avg', 'f1-score'],\n",
    "    }\n",
    "\n",
    "    for cls in ['good.survival', 'bad.survival', 'other']:\n",
    "        for metric in ['precision', 'recall', 'f1-score']:\n",
    "            key = f'{cls}_{metric}'\n",
    "            if cls in clf_report_df.index:\n",
    "                clf_rst[key] = clf_report_df.loc[cls, metric]\n",
    "            else:\n",
    "                clf_rst[key] = 0.0\n",
    "\n",
    "    logger.log_dict(clf_rst)\n",
    "    logger.get_logs_df()"
   ]
  },
  {
   "cell_type": "code",
   "execution_count": null,
   "id": "e7b4ed98",
   "metadata": {},
   "outputs": [
    {
     "name": "stdout",
     "output_type": "stream",
     "text": [
      "Running 1/4: seed=1, cell_surv_ratio=0.03\n",
      "  |======================================================================| 100%"
     ]
    },
    {
     "name": "stderr",
     "output_type": "stream",
     "text": [
      "100%|██████████| 100/100 [00:00<00:00, 91980.35it/s]\n",
      "/home/groups/XiaLab/renta/Programs/python-3.11.7/pyenv/base/lib/python3.11/site-packages/anndata/_core/aligned_df.py:68: ImplicitModificationWarning: Transforming to str index.\n",
      "  warnings.warn(\"Transforming to str index.\", ImplicitModificationWarning)\n",
      "/home/groups/XiaLab/renta/Programs/python-3.11.7/pyenv/base/lib/python3.11/site-packages/anndata/_core/aligned_df.py:68: ImplicitModificationWarning: Transforming to str index.\n",
      "  warnings.warn(\"Transforming to str index.\", ImplicitModificationWarning)\n"
     ]
    },
    {
     "name": "stdout",
     "output_type": "stream",
     "text": [
      "fold 0, train_size: 80, test_size: 20\n",
      "Validation mode is enabled, will split 20% of the data for validation.\n"
     ]
    },
    {
     "name": "stderr",
     "output_type": "stream",
     "text": [
      "Pretraining: 100%|██████████| 200/200 [01:51<00:00,  1.80it/s, ae_loss=-95.2] \n",
      "Finetuning:  58%|█████▊    | 291/500 [04:06<02:56,  1.18it/s, ae_loss=-111, atten_entropy=0.271, ccindex_val=0.646, cox_loss=1.53, loss=0.418]\n"
     ]
    },
    {
     "name": "stdout",
     "output_type": "stream",
     "text": [
      "Early stopping with best validation ccindex: 0.6819.\n"
     ]
    },
    {
     "name": "stderr",
     "output_type": "stream",
     "text": [
      "/home/exacloud/gscratch/XiaLab/renta/Projects/scSurvival/datasets/sim_surv/../../scSurvival_beta/scsurvival.py:207: ImplicitModificationWarning: Setting element `.obsm['X_ae']` of view, initializing view as actual.\n",
      "  adata.obsm['X_ae'] = h.cpu().detach().numpy()\n"
     ]
    },
    {
     "name": "stdout",
     "output_type": "stream",
     "text": [
      "Added hazard and attention to adata.obs.\n",
      "Added patient_hazards to surv.\n",
      "train c-index: 0.8718\n",
      "testing...\n",
      "c-index: 0.6162\n",
      "==================================================\n",
      "fold 1, train_size: 80, test_size: 20\n",
      "Validation mode is enabled, will split 20% of the data for validation.\n"
     ]
    },
    {
     "name": "stderr",
     "output_type": "stream",
     "text": [
      "Pretraining: 100%|██████████| 200/200 [01:50<00:00,  1.81it/s, ae_loss=-77.5] \n",
      "Finetuning:  45%|████▍     | 224/500 [03:08<03:52,  1.19it/s, ae_loss=-92.4, atten_entropy=0.41, ccindex_val=0.913, cox_loss=1.47, loss=0.658] \n"
     ]
    },
    {
     "name": "stdout",
     "output_type": "stream",
     "text": [
      "Early stopping with best validation ccindex: 0.9245.\n"
     ]
    },
    {
     "name": "stderr",
     "output_type": "stream",
     "text": [
      "/home/exacloud/gscratch/XiaLab/renta/Projects/scSurvival/datasets/sim_surv/../../scSurvival_beta/scsurvival.py:207: ImplicitModificationWarning: Setting element `.obsm['X_ae']` of view, initializing view as actual.\n",
      "  adata.obsm['X_ae'] = h.cpu().detach().numpy()\n"
     ]
    },
    {
     "name": "stdout",
     "output_type": "stream",
     "text": [
      "Added hazard and attention to adata.obs.\n",
      "Added patient_hazards to surv.\n",
      "train c-index: 0.9676\n",
      "testing...\n",
      "c-index: 0.8873\n",
      "==================================================\n",
      "fold 2, train_size: 80, test_size: 20\n",
      "Validation mode is enabled, will split 20% of the data for validation.\n"
     ]
    },
    {
     "name": "stderr",
     "output_type": "stream",
     "text": [
      "Pretraining: 100%|██████████| 200/200 [01:50<00:00,  1.82it/s, ae_loss=-75.4] \n",
      "Finetuning: 100%|██████████| 500/500 [07:00<00:00,  1.19it/s, ae_loss=-93.4, atten_entropy=0.292, ccindex_val=0.756, cox_loss=1.42, loss=0.481]\n",
      "/home/exacloud/gscratch/XiaLab/renta/Projects/scSurvival/datasets/sim_surv/../../scSurvival_beta/scsurvival.py:207: ImplicitModificationWarning: Setting element `.obsm['X_ae']` of view, initializing view as actual.\n",
      "  adata.obsm['X_ae'] = h.cpu().detach().numpy()\n"
     ]
    },
    {
     "name": "stdout",
     "output_type": "stream",
     "text": [
      "Added hazard and attention to adata.obs.\n",
      "Added patient_hazards to surv.\n",
      "train c-index: 0.9128\n",
      "testing...\n",
      "c-index: 0.7211\n",
      "==================================================\n",
      "fold 3, train_size: 80, test_size: 20\n",
      "Validation mode is enabled, will split 20% of the data for validation.\n"
     ]
    },
    {
     "name": "stderr",
     "output_type": "stream",
     "text": [
      "Pretraining: 100%|██████████| 200/200 [01:50<00:00,  1.81it/s, ae_loss=-67]   \n",
      "Finetuning:  98%|█████████▊| 490/500 [06:53<00:08,  1.19it/s, ae_loss=-85.8, atten_entropy=0.267, ccindex_val=0.629, cox_loss=1.49, loss=0.628]\n"
     ]
    },
    {
     "name": "stdout",
     "output_type": "stream",
     "text": [
      "Early stopping with best validation ccindex: 0.6415.\n"
     ]
    },
    {
     "name": "stderr",
     "output_type": "stream",
     "text": [
      "/home/exacloud/gscratch/XiaLab/renta/Projects/scSurvival/datasets/sim_surv/../../scSurvival_beta/scsurvival.py:207: ImplicitModificationWarning: Setting element `.obsm['X_ae']` of view, initializing view as actual.\n",
      "  adata.obsm['X_ae'] = h.cpu().detach().numpy()\n"
     ]
    },
    {
     "name": "stdout",
     "output_type": "stream",
     "text": [
      "Added hazard and attention to adata.obs.\n",
      "Added patient_hazards to surv.\n",
      "train c-index: 0.8572\n",
      "testing...\n",
      "c-index: 0.4842\n",
      "==================================================\n",
      "fold 4, train_size: 80, test_size: 20\n",
      "Validation mode is enabled, will split 20% of the data for validation.\n"
     ]
    },
    {
     "name": "stderr",
     "output_type": "stream",
     "text": [
      "Pretraining: 100%|██████████| 200/200 [01:50<00:00,  1.81it/s, ae_loss=-80.1] \n",
      "Finetuning:  93%|█████████▎| 463/500 [05:59<00:28,  1.29it/s, ae_loss=-96.8, atten_entropy=0.279, ccindex_val=0.845, cox_loss=1.42, loss=0.455]\n"
     ]
    },
    {
     "name": "stdout",
     "output_type": "stream",
     "text": [
      "Early stopping with best validation ccindex: 0.8559.\n"
     ]
    },
    {
     "name": "stderr",
     "output_type": "stream",
     "text": [
      "/home/exacloud/gscratch/XiaLab/renta/Projects/scSurvival/datasets/sim_surv/../../scSurvival_beta/scsurvival.py:207: ImplicitModificationWarning: Setting element `.obsm['X_ae']` of view, initializing view as actual.\n",
      "  adata.obsm['X_ae'] = h.cpu().detach().numpy()\n"
     ]
    },
    {
     "name": "stdout",
     "output_type": "stream",
     "text": [
      "Added hazard and attention to adata.obs.\n",
      "Added patient_hazards to surv.\n",
      "train c-index: 0.9406\n",
      "testing...\n",
      "c-index: 0.7007\n",
      "==================================================\n",
      "mean c-index: 0.6819 ± 0.1323\n",
      "Running 2/4: seed=1, cell_surv_ratio=0.05\n",
      "  |======================================================================| 100%"
     ]
    },
    {
     "name": "stderr",
     "output_type": "stream",
     "text": [
      "100%|██████████| 100/100 [00:00<00:00, 84665.00it/s]\n",
      "/home/groups/XiaLab/renta/Programs/python-3.11.7/pyenv/base/lib/python3.11/site-packages/anndata/_core/aligned_df.py:68: ImplicitModificationWarning: Transforming to str index.\n",
      "  warnings.warn(\"Transforming to str index.\", ImplicitModificationWarning)\n",
      "/home/groups/XiaLab/renta/Programs/python-3.11.7/pyenv/base/lib/python3.11/site-packages/anndata/_core/aligned_df.py:68: ImplicitModificationWarning: Transforming to str index.\n",
      "  warnings.warn(\"Transforming to str index.\", ImplicitModificationWarning)\n"
     ]
    },
    {
     "name": "stdout",
     "output_type": "stream",
     "text": [
      "fold 0, train_size: 80, test_size: 20\n",
      "Validation mode is enabled, will split 20% of the data for validation.\n"
     ]
    },
    {
     "name": "stderr",
     "output_type": "stream",
     "text": [
      "Pretraining: 100%|██████████| 200/200 [01:46<00:00,  1.87it/s, ae_loss=-90.3] \n",
      "Finetuning:  42%|████▏     | 210/500 [05:16<07:17,  1.51s/it, ae_loss=-104, atten_entropy=0.498, ccindex_val=0.934, cox_loss=1.97, loss=0.93] \n"
     ]
    },
    {
     "name": "stdout",
     "output_type": "stream",
     "text": [
      "Early stopping with best validation ccindex: 0.9479.\n"
     ]
    },
    {
     "name": "stderr",
     "output_type": "stream",
     "text": [
      "/home/exacloud/gscratch/XiaLab/renta/Projects/scSurvival/datasets/sim_surv/../../scSurvival_beta/scsurvival.py:207: ImplicitModificationWarning: Setting element `.obsm['X_ae']` of view, initializing view as actual.\n",
      "  adata.obsm['X_ae'] = h.cpu().detach().numpy()\n"
     ]
    },
    {
     "name": "stdout",
     "output_type": "stream",
     "text": [
      "Added hazard and attention to adata.obs.\n",
      "Added patient_hazards to surv.\n",
      "train c-index: 0.9786\n",
      "testing...\n",
      "c-index: 0.9399\n",
      "==================================================\n",
      "fold 1, train_size: 80, test_size: 20\n",
      "Validation mode is enabled, will split 20% of the data for validation.\n"
     ]
    },
    {
     "name": "stderr",
     "output_type": "stream",
     "text": [
      "Pretraining: 100%|██████████| 200/200 [03:52<00:00,  1.16s/it, ae_loss=-87.8] \n",
      "Finetuning:  89%|████████▉ | 446/500 [11:55<01:26,  1.60s/it, ae_loss=-107, atten_entropy=0.479, ccindex_val=0.92, cox_loss=1.57, loss=0.503]  \n"
     ]
    },
    {
     "name": "stdout",
     "output_type": "stream",
     "text": [
      "Early stopping with best validation ccindex: 0.9333.\n"
     ]
    },
    {
     "name": "stderr",
     "output_type": "stream",
     "text": [
      "/home/exacloud/gscratch/XiaLab/renta/Projects/scSurvival/datasets/sim_surv/../../scSurvival_beta/scsurvival.py:207: ImplicitModificationWarning: Setting element `.obsm['X_ae']` of view, initializing view as actual.\n",
      "  adata.obsm['X_ae'] = h.cpu().detach().numpy()\n"
     ]
    },
    {
     "name": "stdout",
     "output_type": "stream",
     "text": [
      "Added hazard and attention to adata.obs.\n",
      "Added patient_hazards to surv.\n",
      "train c-index: 0.9694\n",
      "testing...\n",
      "c-index: 0.9317\n",
      "==================================================\n",
      "fold 2, train_size: 80, test_size: 20\n",
      "Validation mode is enabled, will split 20% of the data for validation.\n"
     ]
    },
    {
     "name": "stderr",
     "output_type": "stream",
     "text": [
      "Pretraining: 100%|██████████| 200/200 [02:54<00:00,  1.15it/s, ae_loss=-103]  \n",
      "Finetuning:  87%|████████▋ | 435/500 [11:23<01:42,  1.57s/it, ae_loss=-120, atten_entropy=0.441, ccindex_val=0.741, cox_loss=1.66, loss=0.459]\n"
     ]
    },
    {
     "name": "stdout",
     "output_type": "stream",
     "text": [
      "Early stopping with best validation ccindex: 0.7687.\n"
     ]
    },
    {
     "name": "stderr",
     "output_type": "stream",
     "text": [
      "/home/exacloud/gscratch/XiaLab/renta/Projects/scSurvival/datasets/sim_surv/../../scSurvival_beta/scsurvival.py:207: ImplicitModificationWarning: Setting element `.obsm['X_ae']` of view, initializing view as actual.\n",
      "  adata.obsm['X_ae'] = h.cpu().detach().numpy()\n"
     ]
    },
    {
     "name": "stdout",
     "output_type": "stream",
     "text": [
      "Added hazard and attention to adata.obs.\n",
      "Added patient_hazards to surv.\n",
      "train c-index: 0.9018\n",
      "testing...\n",
      "c-index: 0.7950\n",
      "==================================================\n",
      "fold 3, train_size: 80, test_size: 20\n",
      "Validation mode is enabled, will split 20% of the data for validation.\n"
     ]
    },
    {
     "name": "stderr",
     "output_type": "stream",
     "text": [
      "Pretraining: 100%|██████████| 200/200 [03:52<00:00,  1.16s/it, ae_loss=-99.1] \n",
      "Finetuning:  79%|███████▉  | 395/500 [09:36<02:33,  1.46s/it, ae_loss=-117, atten_entropy=0.469, ccindex_val=0.873, cox_loss=1.83, loss=0.659]\n"
     ]
    },
    {
     "name": "stdout",
     "output_type": "stream",
     "text": [
      "Early stopping with best validation ccindex: 0.8851.\n"
     ]
    },
    {
     "name": "stderr",
     "output_type": "stream",
     "text": [
      "/home/exacloud/gscratch/XiaLab/renta/Projects/scSurvival/datasets/sim_surv/../../scSurvival_beta/scsurvival.py:207: ImplicitModificationWarning: Setting element `.obsm['X_ae']` of view, initializing view as actual.\n",
      "  adata.obsm['X_ae'] = h.cpu().detach().numpy()\n"
     ]
    },
    {
     "name": "stdout",
     "output_type": "stream",
     "text": [
      "Added hazard and attention to adata.obs.\n",
      "Added patient_hazards to surv.\n",
      "train c-index: 0.9439\n",
      "testing...\n",
      "c-index: 0.8316\n",
      "==================================================\n",
      "fold 4, train_size: 80, test_size: 20\n",
      "Validation mode is enabled, will split 20% of the data for validation.\n"
     ]
    },
    {
     "name": "stderr",
     "output_type": "stream",
     "text": [
      "Pretraining: 100%|██████████| 200/200 [03:45<00:00,  1.13s/it, ae_loss=-101]  \n",
      "Finetuning:  63%|██████▎   | 313/500 [08:23<05:00,  1.61s/it, ae_loss=-117, atten_entropy=0.499, ccindex_val=0.935, cox_loss=1.56, loss=0.384]\n"
     ]
    },
    {
     "name": "stdout",
     "output_type": "stream",
     "text": [
      "Early stopping with best validation ccindex: 0.9379.\n"
     ]
    },
    {
     "name": "stderr",
     "output_type": "stream",
     "text": [
      "/home/exacloud/gscratch/XiaLab/renta/Projects/scSurvival/datasets/sim_surv/../../scSurvival_beta/scsurvival.py:207: ImplicitModificationWarning: Setting element `.obsm['X_ae']` of view, initializing view as actual.\n",
      "  adata.obsm['X_ae'] = h.cpu().detach().numpy()\n"
     ]
    },
    {
     "name": "stdout",
     "output_type": "stream",
     "text": [
      "Added hazard and attention to adata.obs.\n",
      "Added patient_hazards to surv.\n",
      "train c-index: 0.9678\n",
      "testing...\n",
      "c-index: 0.9008\n",
      "==================================================\n",
      "mean c-index: 0.8798 ± 0.0570\n",
      "Running 3/4: seed=1, cell_surv_ratio=0.1\n",
      "  |======================================================================| 100%"
     ]
    },
    {
     "name": "stderr",
     "output_type": "stream",
     "text": [
      "100%|██████████| 100/100 [00:00<00:00, 88319.73it/s]\n",
      "/home/groups/XiaLab/renta/Programs/python-3.11.7/pyenv/base/lib/python3.11/site-packages/anndata/_core/aligned_df.py:68: ImplicitModificationWarning: Transforming to str index.\n",
      "  warnings.warn(\"Transforming to str index.\", ImplicitModificationWarning)\n",
      "/home/groups/XiaLab/renta/Programs/python-3.11.7/pyenv/base/lib/python3.11/site-packages/anndata/_core/aligned_df.py:68: ImplicitModificationWarning: Transforming to str index.\n",
      "  warnings.warn(\"Transforming to str index.\", ImplicitModificationWarning)\n"
     ]
    },
    {
     "name": "stdout",
     "output_type": "stream",
     "text": [
      "fold 0, train_size: 80, test_size: 20\n",
      "Validation mode is enabled, will split 20% of the data for validation.\n"
     ]
    },
    {
     "name": "stderr",
     "output_type": "stream",
     "text": [
      "Pretraining: 100%|██████████| 200/200 [03:52<00:00,  1.16s/it, ae_loss=-117]  \n",
      "Finetuning:  48%|████▊     | 240/500 [05:36<06:04,  1.40s/it, ae_loss=-132, atten_entropy=0.593, ccindex_val=0.93, cox_loss=1.5, loss=0.278]  \n"
     ]
    },
    {
     "name": "stdout",
     "output_type": "stream",
     "text": [
      "Early stopping with best validation ccindex: 0.9386.\n"
     ]
    },
    {
     "name": "stderr",
     "output_type": "stream",
     "text": [
      "/home/exacloud/gscratch/XiaLab/renta/Projects/scSurvival/datasets/sim_surv/../../scSurvival_beta/scsurvival.py:207: ImplicitModificationWarning: Setting element `.obsm['X_ae']` of view, initializing view as actual.\n",
      "  adata.obsm['X_ae'] = h.cpu().detach().numpy()\n"
     ]
    },
    {
     "name": "stdout",
     "output_type": "stream",
     "text": [
      "Added hazard and attention to adata.obs.\n",
      "Added patient_hazards to surv.\n",
      "train c-index: 0.9639\n",
      "testing...\n",
      "c-index: 0.9601\n",
      "==================================================\n",
      "fold 1, train_size: 80, test_size: 20\n",
      "Validation mode is enabled, will split 20% of the data for validation.\n"
     ]
    },
    {
     "name": "stderr",
     "output_type": "stream",
     "text": [
      "Pretraining: 100%|██████████| 200/200 [03:43<00:00,  1.12s/it, ae_loss=-100]  \n",
      "Finetuning:  54%|█████▍    | 269/500 [07:10<06:09,  1.60s/it, ae_loss=-116, atten_entropy=0.551, ccindex_val=0.944, cox_loss=1.59, loss=0.489]\n"
     ]
    },
    {
     "name": "stdout",
     "output_type": "stream",
     "text": [
      "Early stopping with best validation ccindex: 0.9541.\n"
     ]
    },
    {
     "name": "stderr",
     "output_type": "stream",
     "text": [
      "/home/exacloud/gscratch/XiaLab/renta/Projects/scSurvival/datasets/sim_surv/../../scSurvival_beta/scsurvival.py:207: ImplicitModificationWarning: Setting element `.obsm['X_ae']` of view, initializing view as actual.\n",
      "  adata.obsm['X_ae'] = h.cpu().detach().numpy()\n"
     ]
    },
    {
     "name": "stdout",
     "output_type": "stream",
     "text": [
      "Added hazard and attention to adata.obs.\n",
      "Added patient_hazards to surv.\n",
      "train c-index: 0.9811\n",
      "testing...\n",
      "c-index: 0.9484\n",
      "==================================================\n",
      "fold 2, train_size: 80, test_size: 20\n",
      "Validation mode is enabled, will split 20% of the data for validation.\n"
     ]
    },
    {
     "name": "stderr",
     "output_type": "stream",
     "text": [
      "Pretraining: 100%|██████████| 200/200 [03:52<00:00,  1.16s/it, ae_loss=-115]  \n",
      "Finetuning:  45%|████▍     | 224/500 [05:23<06:38,  1.44s/it, ae_loss=-129, atten_entropy=0.6, ccindex_val=0.931, cox_loss=1.67, loss=0.479]  \n"
     ]
    },
    {
     "name": "stdout",
     "output_type": "stream",
     "text": [
      "Early stopping with best validation ccindex: 0.9457.\n"
     ]
    },
    {
     "name": "stderr",
     "output_type": "stream",
     "text": [
      "/home/exacloud/gscratch/XiaLab/renta/Projects/scSurvival/datasets/sim_surv/../../scSurvival_beta/scsurvival.py:207: ImplicitModificationWarning: Setting element `.obsm['X_ae']` of view, initializing view as actual.\n",
      "  adata.obsm['X_ae'] = h.cpu().detach().numpy()\n"
     ]
    },
    {
     "name": "stdout",
     "output_type": "stream",
     "text": [
      "Added hazard and attention to adata.obs.\n",
      "Added patient_hazards to surv.\n",
      "train c-index: 0.9767\n",
      "testing...\n",
      "c-index: 0.9618\n",
      "==================================================\n",
      "fold 3, train_size: 80, test_size: 20\n",
      "Validation mode is enabled, will split 20% of the data for validation.\n"
     ]
    },
    {
     "name": "stderr",
     "output_type": "stream",
     "text": [
      "Pretraining: 100%|██████████| 200/200 [03:37<00:00,  1.09s/it, ae_loss=-108]  \n",
      "Finetuning:  63%|██████▎   | 314/500 [08:19<04:55,  1.59s/it, ae_loss=-125, atten_entropy=0.505, ccindex_val=0.945, cox_loss=1.51, loss=0.265]\n"
     ]
    },
    {
     "name": "stdout",
     "output_type": "stream",
     "text": [
      "Early stopping with best validation ccindex: 0.9607.\n"
     ]
    },
    {
     "name": "stderr",
     "output_type": "stream",
     "text": [
      "/home/exacloud/gscratch/XiaLab/renta/Projects/scSurvival/datasets/sim_surv/../../scSurvival_beta/scsurvival.py:207: ImplicitModificationWarning: Setting element `.obsm['X_ae']` of view, initializing view as actual.\n",
      "  adata.obsm['X_ae'] = h.cpu().detach().numpy()\n"
     ]
    },
    {
     "name": "stdout",
     "output_type": "stream",
     "text": [
      "Added hazard and attention to adata.obs.\n",
      "Added patient_hazards to surv.\n",
      "train c-index: 0.9803\n",
      "testing...\n",
      "c-index: 0.9303\n",
      "==================================================\n",
      "fold 4, train_size: 80, test_size: 20\n",
      "Validation mode is enabled, will split 20% of the data for validation.\n"
     ]
    },
    {
     "name": "stderr",
     "output_type": "stream",
     "text": [
      "Pretraining: 100%|██████████| 200/200 [03:52<00:00,  1.16s/it, ae_loss=-121]  \n",
      "Finetuning:  40%|███▉      | 199/500 [05:20<08:04,  1.61s/it, ae_loss=-135, atten_entropy=0.499, ccindex_val=0.947, cox_loss=1.56, loss=0.213]\n"
     ]
    },
    {
     "name": "stdout",
     "output_type": "stream",
     "text": [
      "Early stopping with best validation ccindex: 0.9502.\n"
     ]
    },
    {
     "name": "stderr",
     "output_type": "stream",
     "text": [
      "/home/exacloud/gscratch/XiaLab/renta/Projects/scSurvival/datasets/sim_surv/../../scSurvival_beta/scsurvival.py:207: ImplicitModificationWarning: Setting element `.obsm['X_ae']` of view, initializing view as actual.\n",
      "  adata.obsm['X_ae'] = h.cpu().detach().numpy()\n"
     ]
    },
    {
     "name": "stdout",
     "output_type": "stream",
     "text": [
      "Added hazard and attention to adata.obs.\n",
      "Added patient_hazards to surv.\n",
      "train c-index: 0.9751\n",
      "testing...\n",
      "c-index: 0.9470\n",
      "==================================================\n",
      "mean c-index: 0.9495 ± 0.0113\n",
      "Running 4/4: seed=1, cell_surv_ratio=0.15\n",
      "  |======================================================================| 100%"
     ]
    },
    {
     "name": "stderr",
     "output_type": "stream",
     "text": [
      "100%|██████████| 100/100 [00:00<00:00, 84222.97it/s]\n",
      "/home/groups/XiaLab/renta/Programs/python-3.11.7/pyenv/base/lib/python3.11/site-packages/anndata/_core/aligned_df.py:68: ImplicitModificationWarning: Transforming to str index.\n",
      "  warnings.warn(\"Transforming to str index.\", ImplicitModificationWarning)\n",
      "/home/groups/XiaLab/renta/Programs/python-3.11.7/pyenv/base/lib/python3.11/site-packages/anndata/_core/aligned_df.py:68: ImplicitModificationWarning: Transforming to str index.\n",
      "  warnings.warn(\"Transforming to str index.\", ImplicitModificationWarning)\n"
     ]
    },
    {
     "name": "stdout",
     "output_type": "stream",
     "text": [
      "fold 0, train_size: 80, test_size: 20\n",
      "Validation mode is enabled, will split 20% of the data for validation.\n"
     ]
    },
    {
     "name": "stderr",
     "output_type": "stream",
     "text": [
      "Pretraining: 100%|██████████| 200/200 [02:59<00:00,  1.11it/s, ae_loss=-130]  \n",
      "Finetuning:  82%|████████▏ | 409/500 [10:44<02:23,  1.57s/it, ae_loss=-147, atten_entropy=0.685, ccindex_val=0.949, cox_loss=1.61, loss=0.138]  \n"
     ]
    },
    {
     "name": "stdout",
     "output_type": "stream",
     "text": [
      "Early stopping with best validation ccindex: 0.9608.\n"
     ]
    },
    {
     "name": "stderr",
     "output_type": "stream",
     "text": [
      "/home/exacloud/gscratch/XiaLab/renta/Projects/scSurvival/datasets/sim_surv/../../scSurvival_beta/scsurvival.py:207: ImplicitModificationWarning: Setting element `.obsm['X_ae']` of view, initializing view as actual.\n",
      "  adata.obsm['X_ae'] = h.cpu().detach().numpy()\n"
     ]
    },
    {
     "name": "stdout",
     "output_type": "stream",
     "text": [
      "Added hazard and attention to adata.obs.\n",
      "Added patient_hazards to surv.\n",
      "train c-index: 0.9782\n",
      "testing...\n",
      "c-index: 0.9785\n",
      "==================================================\n",
      "fold 1, train_size: 80, test_size: 20\n",
      "Validation mode is enabled, will split 20% of the data for validation.\n"
     ]
    },
    {
     "name": "stderr",
     "output_type": "stream",
     "text": [
      "Pretraining: 100%|██████████| 200/200 [03:52<00:00,  1.16s/it, ae_loss=-140]  \n",
      "Finetuning:  43%|████▎     | 213/500 [05:42<07:41,  1.61s/it, ae_loss=-155, atten_entropy=0.701, ccindex_val=0.947, cox_loss=1.61, loss=0.057]   \n"
     ]
    },
    {
     "name": "stdout",
     "output_type": "stream",
     "text": [
      "Early stopping with best validation ccindex: 0.9617.\n"
     ]
    },
    {
     "name": "stderr",
     "output_type": "stream",
     "text": [
      "/home/exacloud/gscratch/XiaLab/renta/Projects/scSurvival/datasets/sim_surv/../../scSurvival_beta/scsurvival.py:207: ImplicitModificationWarning: Setting element `.obsm['X_ae']` of view, initializing view as actual.\n",
      "  adata.obsm['X_ae'] = h.cpu().detach().numpy()\n"
     ]
    },
    {
     "name": "stdout",
     "output_type": "stream",
     "text": [
      "Added hazard and attention to adata.obs.\n",
      "Added patient_hazards to surv.\n",
      "train c-index: 0.9854\n",
      "testing...\n",
      "c-index: 0.9789\n",
      "==================================================\n",
      "fold 2, train_size: 80, test_size: 20\n",
      "Validation mode is enabled, will split 20% of the data for validation.\n"
     ]
    },
    {
     "name": "stderr",
     "output_type": "stream",
     "text": [
      "Pretraining: 100%|██████████| 200/200 [03:02<00:00,  1.10it/s, ae_loss=-109]  \n",
      "Finetuning:  45%|████▌     | 226/500 [05:50<07:05,  1.55s/it, ae_loss=-125, atten_entropy=0.724, ccindex_val=0.94, cox_loss=1.61, loss=0.382] \n"
     ]
    },
    {
     "name": "stdout",
     "output_type": "stream",
     "text": [
      "Early stopping with best validation ccindex: 0.9471.\n"
     ]
    },
    {
     "name": "stderr",
     "output_type": "stream",
     "text": [
      "/home/exacloud/gscratch/XiaLab/renta/Projects/scSurvival/datasets/sim_surv/../../scSurvival_beta/scsurvival.py:207: ImplicitModificationWarning: Setting element `.obsm['X_ae']` of view, initializing view as actual.\n",
      "  adata.obsm['X_ae'] = h.cpu().detach().numpy()\n"
     ]
    },
    {
     "name": "stdout",
     "output_type": "stream",
     "text": [
      "Added hazard and attention to adata.obs.\n",
      "Added patient_hazards to surv.\n",
      "train c-index: 0.9596\n",
      "testing...\n",
      "c-index: 0.9107\n",
      "==================================================\n",
      "fold 3, train_size: 80, test_size: 20\n",
      "Validation mode is enabled, will split 20% of the data for validation.\n"
     ]
    },
    {
     "name": "stderr",
     "output_type": "stream",
     "text": [
      "Pretraining: 100%|██████████| 200/200 [03:52<00:00,  1.16s/it, ae_loss=-124]  \n",
      "Finetuning:  57%|█████▋    | 285/500 [07:39<05:46,  1.61s/it, ae_loss=-140, atten_entropy=0.698, ccindex_val=0.948, cox_loss=1.83, loss=0.426] \n"
     ]
    },
    {
     "name": "stdout",
     "output_type": "stream",
     "text": [
      "Early stopping with best validation ccindex: 0.9534.\n"
     ]
    },
    {
     "name": "stderr",
     "output_type": "stream",
     "text": [
      "/home/exacloud/gscratch/XiaLab/renta/Projects/scSurvival/datasets/sim_surv/../../scSurvival_beta/scsurvival.py:207: ImplicitModificationWarning: Setting element `.obsm['X_ae']` of view, initializing view as actual.\n",
      "  adata.obsm['X_ae'] = h.cpu().detach().numpy()\n"
     ]
    },
    {
     "name": "stdout",
     "output_type": "stream",
     "text": [
      "Added hazard and attention to adata.obs.\n",
      "Added patient_hazards to surv.\n",
      "train c-index: 0.9784\n",
      "testing...\n",
      "c-index: 0.8596\n",
      "==================================================\n",
      "fold 4, train_size: 80, test_size: 20\n",
      "Validation mode is enabled, will split 20% of the data for validation.\n"
     ]
    },
    {
     "name": "stderr",
     "output_type": "stream",
     "text": [
      "Pretraining: 100%|██████████| 200/200 [03:01<00:00,  1.10it/s, ae_loss=-118]  \n",
      "Finetuning:  39%|███▉      | 196/500 [04:49<07:29,  1.48s/it, ae_loss=-131, atten_entropy=0.708, ccindex_val=0.944, cox_loss=1.66, loss=0.352]\n"
     ]
    },
    {
     "name": "stdout",
     "output_type": "stream",
     "text": [
      "Early stopping with best validation ccindex: 0.9547.\n"
     ]
    },
    {
     "name": "stderr",
     "output_type": "stream",
     "text": [
      "/home/exacloud/gscratch/XiaLab/renta/Projects/scSurvival/datasets/sim_surv/../../scSurvival_beta/scsurvival.py:207: ImplicitModificationWarning: Setting element `.obsm['X_ae']` of view, initializing view as actual.\n",
      "  adata.obsm['X_ae'] = h.cpu().detach().numpy()\n"
     ]
    },
    {
     "name": "stdout",
     "output_type": "stream",
     "text": [
      "Added hazard and attention to adata.obs.\n",
      "Added patient_hazards to surv.\n",
      "train c-index: 0.9792\n",
      "testing...\n",
      "c-index: 0.9788\n",
      "==================================================\n",
      "mean c-index: 0.9413 ± 0.0486\n"
     ]
    }
   ],
   "source": [
    "from utils import Logger\n",
    "from itertools import product\n",
    "load_r_packages()\n",
    "param_grid = {\n",
    "    'seed': [1],\n",
    "    'cell_surv_ratio': [0.01, 0.03, 0.05, 0.10, 0.15]\n",
    "}\n",
    "keys, values = zip(*param_grid.items())\n",
    "combos = [dict(zip(keys, v)) for v in product(*values)]\n",
    "\n",
    "save_root_path = './results/revision-sim1-python/'\n",
    "logger = Logger(save_path=f'{save_root_path}cv_logs.csv')\n",
    "\n",
    "for i, params in enumerate(combos):\n",
    "    logger.log_dict(params)\n",
    "    seed = params['seed']\n",
    "    cell_surv_ratio = params['cell_surv_ratio']\n",
    "\n",
    "    print(f'Running {i+1}/{len(combos)}: seed={seed}, cell_surv_ratio={cell_surv_ratio}')\n",
    "    \n",
    "    simulated_base_sc_dataset(seed=seed, plot=False, cell_surv_ratio=cell_surv_ratio)\n",
    "    datasets = simulated_sc_datasets(plot=False)\n",
    "\n",
    "    adata, surv, adata_new = organize_data_for_model(datasets)\n",
    "    if cell_surv_ratio < 0.05:\n",
    "        entropy_threshold = 0.3\n",
    "    elif cell_surv_ratio <= 0.1:\n",
    "        entropy_threshold = 0.5\n",
    "    else:\n",
    "        entropy_threshold = 0.7\n",
    "    cindex_results = cross_validation_samples(adata, surv, entropy_threshold=entropy_threshold)\n",
    "\n",
    "    cindex_results = {\n",
    "        'mean_cindex': cindex_results['mean_cindex'],\n",
    "        'std_cindex': cindex_results['std_cindex']\n",
    "    }\n",
    "\n",
    "    logger.log_dict(cindex_results)\n",
    "    logger.get_logs_df()\n"
   ]
  }
 ],
 "metadata": {
  "kernelspec": {
   "display_name": "base",
   "language": "python",
   "name": "python3"
  },
  "language_info": {
   "codemirror_mode": {
    "name": "ipython",
    "version": 3
   },
   "file_extension": ".py",
   "mimetype": "text/x-python",
   "name": "python",
   "nbconvert_exporter": "python",
   "pygments_lexer": "ipython3",
   "version": "3.11.7"
  }
 },
 "nbformat": 4,
 "nbformat_minor": 5
}
